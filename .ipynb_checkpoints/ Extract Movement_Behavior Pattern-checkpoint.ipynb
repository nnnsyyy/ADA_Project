{
 "cells": [
  {
   "cell_type": "markdown",
   "metadata": {},
   "source": [
    "# Extract Movement/Behavior Pattern"
   ]
  },
  {
   "cell_type": "markdown",
   "metadata": {},
   "source": [
    "## According to references of tweet's related analysis, there are some useful methods to learn user behavior or mobility pattern:\n",
    "\n",
    "- Text-based/Content-based analysis [less useful]\n",
    "- Geo-located information analysis\n",
    "- Hybrid analysis [more practical]\n",
    "- Others \n",
    "\n",
    "## Relative Data\n",
    "Based on what is included in the raw data, some relevant messages we can get:\n",
    "\n",
    "- Time: year, (season,) month, week, day, hour(day/night)...\n",
    "- Location: longtitude/latitude, user location(country/institude/unknown...) -> geopy -> cities in CH // cantons\n",
    "- Content: (language translation?) topic/event -> behavior/event inference\n",
    "- Counts(weights of effect): follower/friend/number of status (Machine Learning), 'Many tweets can include many topics; therefore, the ratio for total tweets is more important than the frequency.'[01]\n",
    "- Road/Transport data: transport network, fee..."
   ]
  },
  {
   "cell_type": "markdown",
   "metadata": {},
   "source": [
    "## Content/Text-based\n",
    "\n",
    "[02] Geo-locating user(city-level)\n",
    "\n",
    "* purely on content;\n",
    "* classification component: identify words in tweet;\n",
    "* location estimate: lattice-based neighborhood smoothing model\n",
    "\n",
    "\n",
    "[03] Text-based geo prediction\n",
    "\n",
    "Integrated geolocation prediction framework & Factors impact on prediction accuracy\n",
    "\n",
    "* Feature selection methods for \"location indicative words\"\n",
    "* Impact of non-geotagged tweet, language and user-declared metadata\n",
    "* Impact of temporal variance on model genelisation & user difference"
   ]
  },
  {
   "cell_type": "markdown",
   "metadata": {},
   "source": [
    "## Geo-located\n",
    "\n",
    "[06] infer residence and mobility\n",
    "\n",
    "Anchor-poing clustering and classification\n",
    "- dominant residential cluster(rc): rc with highest number of tweets -> usual residence\n",
    "- aggregate the total number of tweets by local authority level we are interested -> may not accurate enough\n",
    "- DBSCAN: 'density-reachability' with 2 paras distance(i, for finding points in the same cluster, small enough) and min number of points(minpts, for ensure the valid cluster or noise)\n",
    "no need to predefine the number of cluster, 3 kinds of point(core, density reachable, noise), not cluster all available points(filter infrequent locations)\n",
    "- Analysis: geolocated penetration rate\n",
    "- short/long-term cluster: (tourist/short-term migrant) e.g. monthly pattern of net flows, student mobility(holiday...)"
   ]
  },
  {
   "cell_type": "markdown",
   "metadata": {},
   "source": [
    "\n",
    "\n",
    "## Hybrid analysis\n",
    "\n",
    "[01] Behavior analysis (tweet data & geo-tag)\n",
    "\n",
    "label data (small-size supervised learning, manually) -> SVM for top unique words\n",
    "\n",
    "- tweet data: Learn (return-home) behavior by using SVM; verbal explanatory factor(distance, time of travel mode(train/bus/on foot, some are out of work in specific time period)...); \n",
    "- geo-tag: Non-verbal explanatory factor; \n",
    "- estimate behavior: combine 1) and 2), using a dicrete choice model(MNL, multinomial logic model)\n",
    "\n",
    "[04] Extract relevant knowledge\n",
    "\n",
    "extract representative terms \n",
    "\n",
    "- model with 3 dimension: word, location and time\n",
    "- TD-IDF measures weighting terms -> Generalized TF-INF\n",
    "\n",
    "spatio-temporal data mining appreaches (pattern mining): group of objects staying together during a period of time.\n",
    "\n",
    "- group of moving objects O, timestamps set T (within objects stay together)\n",
    "- $\\epsilon$: min number of objects; $min_t$: min number of timestamps\n",
    "- particular pattern: swarm, convoy, GET_MOVE, gradual pattern.\n",
    "- all with same pre-processing: cluster with DBSCAN, for grouping objects closed to the same location\n",
    "\n",
    "[07] Multi-scale; mobility pattern; visual-analytics ****\n",
    "\n",
    "Based on Apache Hadoop(distributed computing); LBSM(location based social media)\n",
    "- study mobility patterns using (geo-located) LBSM data -- visual-analytics methods\n",
    "- extracted, aggregate and summarize multi-level spatiotemporal mobility pattern\n",
    "\n",
    "Scalable visual-analytics framework\n",
    "- 1) Data processing unit: Hadoop model & extract movement, generate space-time trajectory(multi-scale)\n",
    "For each user: save tuple record <id, loc, t> -> visitation behavior (displacement & radius of gyration)\n",
    "- 2) Geo-vitualization unit: 3D virtual globe web mapping interface\n",
    "\n",
    "[08] travel servey method\n",
    "- Literature review: [12-event], [18,19-activity pattern]\n",
    "- Activity purpose identification: Modified LDA\n",
    "\n",
    "build dictionary -> word counts (>20 times) -> LDA cluster -> top 3 words for each cluster -> correlation: the number of co-occurence of top 3 and other words -> activity tags(top 3 and correlation) -> assign all tweets with cluster tag(>=1)"
   ]
  },
  {
   "cell_type": "markdown",
   "metadata": {},
   "source": [
    "## Others\n",
    "\n",
    "[05] Tweet Data Analytics(guidance)\n",
    "\n",
    "In chapter 4 - Analyzing Twitter Data\n",
    "- Retweet network(Streaming API): information of the way users communicate and how they value each other\n",
    "- Text Measures: finding topics with latent Dirichlet allocation(LDA)\n",
    "\n",
    "In chapter 5 - Visualizing Twitter Data\n",
    "- Visualizing Geo-Spatial information: heatmaps with Kernel Density Estimation(KDE)\n"
   ]
  },
  {
   "cell_type": "markdown",
   "metadata": {
    "collapsed": true
   },
   "source": [
    "## Conclusion\n",
    "Relevant techniques:\n",
    "- text measures: latent Dirichlet allocation(LDA)[05][08] identifies correlations between words and text corpora for topics\n",
    "- Twitter Search API(geo-located twitter, since we have already, just ignore it)\n",
    "- Viz: heat map\n",
    "\n"
   ]
  },
  {
   "cell_type": "code",
   "execution_count": 1,
   "metadata": {
    "collapsed": true
   },
   "outputs": [],
   "source": [
    "import pandas as pd\n",
    "import numpy as np\n",
    "import csv\n",
    "import pickle"
   ]
  },
  {
   "cell_type": "code",
   "execution_count": 11,
   "metadata": {
    "collapsed": false
   },
   "outputs": [
    {
     "data": {
      "text/plain": [
       "(22611, 20)"
      ]
     },
     "execution_count": 11,
     "metadata": {},
     "output_type": "execute_result"
    }
   ],
   "source": [
    "twitter_data  =pickle.load( open( \"twitter_swisscom_proc/xaa_proc.p\", \"rb\" ) )\n",
    "twitter_data.shape"
   ]
  },
  {
   "cell_type": "code",
   "execution_count": 18,
   "metadata": {
    "collapsed": false
   },
   "outputs": [
    {
     "data": {
      "text/plain": [
       "userId\n",
       "2397.0          3\n",
       "5033.0         28\n",
       "7173.0          7\n",
       "11323.0         1\n",
       "11688.0         6\n",
       "12187.0        23\n",
       "17863.0         7\n",
       "17893.0         1\n",
       "18123.0        29\n",
       "22573.0         2\n",
       "36863.0         8\n",
       "41483.0        42\n",
       "49943.0         9\n",
       "51233.0        88\n",
       "53453.0        74\n",
       "55223.0         7\n",
       "63283.0         1\n",
       "73363.0         4\n",
       "80523.0        37\n",
       "99983.0        33\n",
       "120433.0      761\n",
       "240193.0       18\n",
       "368393.0       17\n",
       "370153.0      196\n",
       "371243.0        9\n",
       "600483.0        1\n",
       "613853.0       10\n",
       "625553.0       60\n",
       "626163.0      257\n",
       "627253.0       18\n",
       "             ... \n",
       "17751562.0      1\n",
       "17755176.0      2\n",
       "17782820.0      4\n",
       "17787097.0      4\n",
       "17787476.0      2\n",
       "17793681.0     31\n",
       "17864908.0      1\n",
       "17870064.0      6\n",
       "17910879.0     63\n",
       "17926317.0      1\n",
       "17964926.0      1\n",
       "18019485.0    165\n",
       "18060248.0      5\n",
       "18083346.0     34\n",
       "18124018.0    123\n",
       "18156299.0      1\n",
       "18186341.0      5\n",
       "18196415.0    152\n",
       "18213699.0     89\n",
       "18218361.0      1\n",
       "18222168.0      2\n",
       "18225225.0     10\n",
       "18225460.0     41\n",
       "18265203.0      1\n",
       "18271124.0      1\n",
       "18286478.0      1\n",
       "18302912.0      1\n",
       "18330792.0      2\n",
       "18332704.0      6\n",
       "18337562.0     21\n",
       "dtype: int64"
      ]
     },
     "execution_count": 18,
     "metadata": {},
     "output_type": "execute_result"
    }
   ],
   "source": [
    "twitter_user=twitter_data.groupby(twitter_data['userId'])\n",
    "twitter_user.size()"
   ]
  },
  {
   "cell_type": "code",
   "execution_count": 19,
   "metadata": {
    "collapsed": false
   },
   "outputs": [
    {
     "data": {
      "text/html": [
       "<div>\n",
       "<table border=\"1\" class=\"dataframe\">\n",
       "  <thead>\n",
       "    <tr style=\"text-align: right;\">\n",
       "      <th></th>\n",
       "      <th>id</th>\n",
       "      <th>userId</th>\n",
       "      <th>text</th>\n",
       "      <th>longitude</th>\n",
       "      <th>latitude</th>\n",
       "      <th>inReplyTo</th>\n",
       "      <th>placeLatitude</th>\n",
       "      <th>placeLongitude</th>\n",
       "      <th>followersCount</th>\n",
       "      <th>friendsCount</th>\n",
       "      <th>statusesCount</th>\n",
       "      <th>userLocation</th>\n",
       "      <th>year</th>\n",
       "      <th>month</th>\n",
       "      <th>day</th>\n",
       "      <th>week_number</th>\n",
       "      <th>hour</th>\n",
       "      <th>city</th>\n",
       "      <th>state</th>\n",
       "      <th>country</th>\n",
       "    </tr>\n",
       "  </thead>\n",
       "  <tbody>\n",
       "    <tr>\n",
       "      <th>551</th>\n",
       "      <td>10231423626</td>\n",
       "      <td>6257282.0</td>\n",
       "      <td>The new apartment is nice, but there is no Wif...</td>\n",
       "      <td>7.58531</td>\n",
       "      <td>47.5455</td>\n",
       "      <td>NaN</td>\n",
       "      <td>47.5367</td>\n",
       "      <td>7.57849</td>\n",
       "      <td>14249</td>\n",
       "      <td>9260.0</td>\n",
       "      <td>19585.0</td>\n",
       "      <td>Potsdam, Germany</td>\n",
       "      <td>2010.0</td>\n",
       "      <td>3.0</td>\n",
       "      <td>9.0</td>\n",
       "      <td>10.0</td>\n",
       "      <td>18.0</td>\n",
       "      <td>Binningen</td>\n",
       "      <td>Basel-Landschaft</td>\n",
       "      <td>ch</td>\n",
       "    </tr>\n",
       "    <tr>\n",
       "      <th>609</th>\n",
       "      <td>10292646240</td>\n",
       "      <td>15602037.0</td>\n",
       "      <td>Is that wet yet solid stuff on my screen suppo...</td>\n",
       "      <td>8.52725</td>\n",
       "      <td>47.3876</td>\n",
       "      <td>NaN</td>\n",
       "      <td>47.3791</td>\n",
       "      <td>8.50021</td>\n",
       "      <td>177</td>\n",
       "      <td>136.0</td>\n",
       "      <td>5167.0</td>\n",
       "      <td>Zürich, Switzerland</td>\n",
       "      <td>2010.0</td>\n",
       "      <td>3.0</td>\n",
       "      <td>10.0</td>\n",
       "      <td>10.0</td>\n",
       "      <td>22.0</td>\n",
       "      <td>Zürich</td>\n",
       "      <td>Zürich</td>\n",
       "      <td>ch</td>\n",
       "    </tr>\n",
       "    <tr>\n",
       "      <th>611</th>\n",
       "      <td>10309829732</td>\n",
       "      <td>625553.0</td>\n",
       "      <td>I'm at DCTI - David Dufour in Geneva http://go...</td>\n",
       "      <td>6.13183</td>\n",
       "      <td>46.2006</td>\n",
       "      <td>NaN</td>\n",
       "      <td>46.1996</td>\n",
       "      <td>6.13011</td>\n",
       "      <td>471</td>\n",
       "      <td>82.0</td>\n",
       "      <td>3363.0</td>\n",
       "      <td>Geneva, Switzerland</td>\n",
       "      <td>2010.0</td>\n",
       "      <td>3.0</td>\n",
       "      <td>11.0</td>\n",
       "      <td>10.0</td>\n",
       "      <td>5.0</td>\n",
       "      <td>Genève</td>\n",
       "      <td>Genève</td>\n",
       "      <td>ch</td>\n",
       "    </tr>\n",
       "    <tr>\n",
       "      <th>612</th>\n",
       "      <td>10310391132</td>\n",
       "      <td>17341045.0</td>\n",
       "      <td>God morgon! :-)</td>\n",
       "      <td>7.44235</td>\n",
       "      <td>46.8957</td>\n",
       "      <td>NaN</td>\n",
       "      <td>46.9214</td>\n",
       "      <td>7.38855</td>\n",
       "      <td>586</td>\n",
       "      <td>508.0</td>\n",
       "      <td>9016.0</td>\n",
       "      <td>Bern, Switzerland</td>\n",
       "      <td>2010.0</td>\n",
       "      <td>3.0</td>\n",
       "      <td>11.0</td>\n",
       "      <td>10.0</td>\n",
       "      <td>6.0</td>\n",
       "      <td>Köniz</td>\n",
       "      <td>Bern - Berne</td>\n",
       "      <td>ch</td>\n",
       "    </tr>\n",
       "    <tr>\n",
       "      <th>618</th>\n",
       "      <td>10311568050</td>\n",
       "      <td>634553.0</td>\n",
       "      <td>At this very minute, the sun is pink.</td>\n",
       "      <td>6.19900</td>\n",
       "      <td>46.2043</td>\n",
       "      <td>NaN</td>\n",
       "      <td>46.1938</td>\n",
       "      <td>6.15415</td>\n",
       "      <td>2230</td>\n",
       "      <td>387.0</td>\n",
       "      <td>10605.0</td>\n",
       "      <td>Geneva, Switzerland</td>\n",
       "      <td>2010.0</td>\n",
       "      <td>3.0</td>\n",
       "      <td>11.0</td>\n",
       "      <td>10.0</td>\n",
       "      <td>7.0</td>\n",
       "      <td>Genève</td>\n",
       "      <td>Genève</td>\n",
       "      <td>ch</td>\n",
       "    </tr>\n",
       "  </tbody>\n",
       "</table>\n",
       "</div>"
      ],
      "text/plain": [
       "              id      userId  \\\n",
       "551  10231423626   6257282.0   \n",
       "609  10292646240  15602037.0   \n",
       "611  10309829732    625553.0   \n",
       "612  10310391132  17341045.0   \n",
       "618  10311568050    634553.0   \n",
       "\n",
       "                                                  text  longitude  latitude  \\\n",
       "551  The new apartment is nice, but there is no Wif...    7.58531   47.5455   \n",
       "609  Is that wet yet solid stuff on my screen suppo...    8.52725   47.3876   \n",
       "611  I'm at DCTI - David Dufour in Geneva http://go...    6.13183   46.2006   \n",
       "612                                    God morgon! :-)    7.44235   46.8957   \n",
       "618              At this very minute, the sun is pink.    6.19900   46.2043   \n",
       "\n",
       "     inReplyTo  placeLatitude  placeLongitude followersCount  friendsCount  \\\n",
       "551        NaN        47.5367         7.57849          14249        9260.0   \n",
       "609        NaN        47.3791         8.50021            177         136.0   \n",
       "611        NaN        46.1996         6.13011            471          82.0   \n",
       "612        NaN        46.9214         7.38855            586         508.0   \n",
       "618        NaN        46.1938         6.15415           2230         387.0   \n",
       "\n",
       "     statusesCount         userLocation    year  month   day  week_number  \\\n",
       "551        19585.0     Potsdam, Germany  2010.0    3.0   9.0         10.0   \n",
       "609         5167.0  Zürich, Switzerland  2010.0    3.0  10.0         10.0   \n",
       "611         3363.0  Geneva, Switzerland  2010.0    3.0  11.0         10.0   \n",
       "612         9016.0    Bern, Switzerland  2010.0    3.0  11.0         10.0   \n",
       "618        10605.0  Geneva, Switzerland  2010.0    3.0  11.0         10.0   \n",
       "\n",
       "     hour       city             state country  \n",
       "551  18.0  Binningen  Basel-Landschaft      ch  \n",
       "609  22.0     Zürich            Zürich      ch  \n",
       "611   5.0     Genève            Genève      ch  \n",
       "612   6.0      Köniz      Bern - Berne      ch  \n",
       "618   7.0     Genève            Genève      ch  "
      ]
     },
     "execution_count": 19,
     "metadata": {},
     "output_type": "execute_result"
    }
   ],
   "source": [
    "twitter_data.head()"
   ]
  },
  {
   "cell_type": "code",
   "execution_count": 28,
   "metadata": {
    "collapsed": false
   },
   "outputs": [
    {
     "data": {
      "text/plain": [
       "849"
      ]
     },
     "execution_count": 28,
     "metadata": {},
     "output_type": "execute_result"
    }
   ],
   "source": [
    "twitter_data['userId'].nunique()"
   ]
  },
  {
   "cell_type": "code",
   "execution_count": 30,
   "metadata": {
    "collapsed": false
   },
   "outputs": [
    {
     "data": {
      "text/plain": [
       "array(['ch', 'us', 'it', 'fr', 'de', 'at', 'li'], dtype=object)"
      ]
     },
     "execution_count": 30,
     "metadata": {},
     "output_type": "execute_result"
    }
   ],
   "source": [
    "twitter_data['country'].unique()"
   ]
  },
  {
   "cell_type": "code",
   "execution_count": null,
   "metadata": {
    "collapsed": true
   },
   "outputs": [],
   "source": []
  }
 ],
 "metadata": {
  "anaconda-cloud": {},
  "kernelspec": {
   "display_name": "Python [conda root]",
   "language": "python",
   "name": "conda-root-py"
  },
  "language_info": {
   "codemirror_mode": {
    "name": "ipython",
    "version": 3
   },
   "file_extension": ".py",
   "mimetype": "text/x-python",
   "name": "python",
   "nbconvert_exporter": "python",
   "pygments_lexer": "ipython3",
   "version": "3.5.2"
  },
  "latex_envs": {
   "LaTeX_envs_menu_present": true,
   "bibliofile": "biblio.bib",
   "cite_by": "apalike",
   "current_citInitial": 1,
   "eqLabelWithNumbers": true,
   "eqNumInitial": 1,
   "labels_anchors": false,
   "latex_user_defs": false,
   "report_style_numbering": false,
   "user_envs_cfg": false
  },
  "toc": {
   "colors": {
    "hover_highlight": "#DAA520",
    "running_highlight": "#FF0000",
    "selected_highlight": "#FFD700"
   },
   "nav_menu": {
    "height": "162px",
    "width": "252px"
   },
   "navigate_menu": true,
   "number_sections": true,
   "sideBar": true,
   "threshold": 4,
   "toc_cell": false,
   "toc_section_display": "block",
   "toc_window_display": false
  }
 },
 "nbformat": 4,
 "nbformat_minor": 1
}
