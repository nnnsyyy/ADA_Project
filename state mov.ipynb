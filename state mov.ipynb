{
 "cells": [
  {
   "cell_type": "code",
   "execution_count": 1,
   "metadata": {
    "collapsed": true
   },
   "outputs": [],
   "source": [
    "import pandas as pd\n",
    "import numpy as np\n",
    "import csv\n",
    "import pickle"
   ]
  },
  {
   "cell_type": "code",
   "execution_count": 2,
   "metadata": {
    "collapsed": false
   },
   "outputs": [
    {
     "data": {
      "text/html": [
       "<div>\n",
       "<table border=\"1\" class=\"dataframe\">\n",
       "  <thead>\n",
       "    <tr style=\"text-align: right;\">\n",
       "      <th></th>\n",
       "      <th>id</th>\n",
       "      <th>userId</th>\n",
       "      <th>text</th>\n",
       "      <th>longitude</th>\n",
       "      <th>latitude</th>\n",
       "      <th>inReplyTo</th>\n",
       "      <th>placeLatitude</th>\n",
       "      <th>placeLongitude</th>\n",
       "      <th>followersCount</th>\n",
       "      <th>friendsCount</th>\n",
       "      <th>statusesCount</th>\n",
       "      <th>userLocation</th>\n",
       "      <th>year</th>\n",
       "      <th>month</th>\n",
       "      <th>day</th>\n",
       "      <th>week_number</th>\n",
       "      <th>hour</th>\n",
       "      <th>city</th>\n",
       "      <th>state</th>\n",
       "      <th>country</th>\n",
       "    </tr>\n",
       "  </thead>\n",
       "  <tbody>\n",
       "    <tr>\n",
       "      <th>551</th>\n",
       "      <td>10231423626</td>\n",
       "      <td>6257282.0</td>\n",
       "      <td>The new apartment is nice, but there is no Wif...</td>\n",
       "      <td>7.58531</td>\n",
       "      <td>47.5455</td>\n",
       "      <td>NaN</td>\n",
       "      <td>47.5367</td>\n",
       "      <td>7.57849</td>\n",
       "      <td>14249</td>\n",
       "      <td>9260.0</td>\n",
       "      <td>19585.0</td>\n",
       "      <td>Potsdam, Germany</td>\n",
       "      <td>2010.0</td>\n",
       "      <td>3.0</td>\n",
       "      <td>9.0</td>\n",
       "      <td>10.0</td>\n",
       "      <td>18.0</td>\n",
       "      <td>Binningen</td>\n",
       "      <td>Basel-Landschaft</td>\n",
       "      <td>ch</td>\n",
       "    </tr>\n",
       "    <tr>\n",
       "      <th>609</th>\n",
       "      <td>10292646240</td>\n",
       "      <td>15602037.0</td>\n",
       "      <td>Is that wet yet solid stuff on my screen suppo...</td>\n",
       "      <td>8.52725</td>\n",
       "      <td>47.3876</td>\n",
       "      <td>NaN</td>\n",
       "      <td>47.3791</td>\n",
       "      <td>8.50021</td>\n",
       "      <td>177</td>\n",
       "      <td>136.0</td>\n",
       "      <td>5167.0</td>\n",
       "      <td>Zürich, Switzerland</td>\n",
       "      <td>2010.0</td>\n",
       "      <td>3.0</td>\n",
       "      <td>10.0</td>\n",
       "      <td>10.0</td>\n",
       "      <td>22.0</td>\n",
       "      <td>Zürich</td>\n",
       "      <td>Zürich</td>\n",
       "      <td>ch</td>\n",
       "    </tr>\n",
       "    <tr>\n",
       "      <th>611</th>\n",
       "      <td>10309829732</td>\n",
       "      <td>625553.0</td>\n",
       "      <td>I'm at DCTI - David Dufour in Geneva http://go...</td>\n",
       "      <td>6.13183</td>\n",
       "      <td>46.2006</td>\n",
       "      <td>NaN</td>\n",
       "      <td>46.1996</td>\n",
       "      <td>6.13011</td>\n",
       "      <td>471</td>\n",
       "      <td>82.0</td>\n",
       "      <td>3363.0</td>\n",
       "      <td>Geneva, Switzerland</td>\n",
       "      <td>2010.0</td>\n",
       "      <td>3.0</td>\n",
       "      <td>11.0</td>\n",
       "      <td>10.0</td>\n",
       "      <td>5.0</td>\n",
       "      <td>Genève</td>\n",
       "      <td>Genève</td>\n",
       "      <td>ch</td>\n",
       "    </tr>\n",
       "    <tr>\n",
       "      <th>612</th>\n",
       "      <td>10310391132</td>\n",
       "      <td>17341045.0</td>\n",
       "      <td>God morgon! :-)</td>\n",
       "      <td>7.44235</td>\n",
       "      <td>46.8957</td>\n",
       "      <td>NaN</td>\n",
       "      <td>46.9214</td>\n",
       "      <td>7.38855</td>\n",
       "      <td>586</td>\n",
       "      <td>508.0</td>\n",
       "      <td>9016.0</td>\n",
       "      <td>Bern, Switzerland</td>\n",
       "      <td>2010.0</td>\n",
       "      <td>3.0</td>\n",
       "      <td>11.0</td>\n",
       "      <td>10.0</td>\n",
       "      <td>6.0</td>\n",
       "      <td>Köniz</td>\n",
       "      <td>Bern - Berne</td>\n",
       "      <td>ch</td>\n",
       "    </tr>\n",
       "    <tr>\n",
       "      <th>618</th>\n",
       "      <td>10311568050</td>\n",
       "      <td>634553.0</td>\n",
       "      <td>At this very minute, the sun is pink.</td>\n",
       "      <td>6.19900</td>\n",
       "      <td>46.2043</td>\n",
       "      <td>NaN</td>\n",
       "      <td>46.1938</td>\n",
       "      <td>6.15415</td>\n",
       "      <td>2230</td>\n",
       "      <td>387.0</td>\n",
       "      <td>10605.0</td>\n",
       "      <td>Geneva, Switzerland</td>\n",
       "      <td>2010.0</td>\n",
       "      <td>3.0</td>\n",
       "      <td>11.0</td>\n",
       "      <td>10.0</td>\n",
       "      <td>7.0</td>\n",
       "      <td>Genève</td>\n",
       "      <td>Genève</td>\n",
       "      <td>ch</td>\n",
       "    </tr>\n",
       "  </tbody>\n",
       "</table>\n",
       "</div>"
      ],
      "text/plain": [
       "              id      userId  \\\n",
       "551  10231423626   6257282.0   \n",
       "609  10292646240  15602037.0   \n",
       "611  10309829732    625553.0   \n",
       "612  10310391132  17341045.0   \n",
       "618  10311568050    634553.0   \n",
       "\n",
       "                                                  text  longitude  latitude  \\\n",
       "551  The new apartment is nice, but there is no Wif...    7.58531   47.5455   \n",
       "609  Is that wet yet solid stuff on my screen suppo...    8.52725   47.3876   \n",
       "611  I'm at DCTI - David Dufour in Geneva http://go...    6.13183   46.2006   \n",
       "612                                    God morgon! :-)    7.44235   46.8957   \n",
       "618              At this very minute, the sun is pink.    6.19900   46.2043   \n",
       "\n",
       "     inReplyTo  placeLatitude  placeLongitude followersCount  friendsCount  \\\n",
       "551        NaN        47.5367         7.57849          14249        9260.0   \n",
       "609        NaN        47.3791         8.50021            177         136.0   \n",
       "611        NaN        46.1996         6.13011            471          82.0   \n",
       "612        NaN        46.9214         7.38855            586         508.0   \n",
       "618        NaN        46.1938         6.15415           2230         387.0   \n",
       "\n",
       "     statusesCount         userLocation    year  month   day  week_number  \\\n",
       "551        19585.0     Potsdam, Germany  2010.0    3.0   9.0         10.0   \n",
       "609         5167.0  Zürich, Switzerland  2010.0    3.0  10.0         10.0   \n",
       "611         3363.0  Geneva, Switzerland  2010.0    3.0  11.0         10.0   \n",
       "612         9016.0    Bern, Switzerland  2010.0    3.0  11.0         10.0   \n",
       "618        10605.0  Geneva, Switzerland  2010.0    3.0  11.0         10.0   \n",
       "\n",
       "     hour       city             state country  \n",
       "551  18.0  Binningen  Basel-Landschaft      ch  \n",
       "609  22.0     Zürich            Zürich      ch  \n",
       "611   5.0     Genève            Genève      ch  \n",
       "612   6.0      Köniz      Bern - Berne      ch  \n",
       "618   7.0     Genève            Genève      ch  "
      ]
     },
     "execution_count": 2,
     "metadata": {},
     "output_type": "execute_result"
    }
   ],
   "source": [
    "sample  = pickle.load( open( \"twitter_swisscom_proc/xaa_proc.p\", \"rb\" ) )\n",
    "sample.head()"
   ]
  },
  {
   "cell_type": "code",
   "execution_count": 3,
   "metadata": {
    "collapsed": false,
    "scrolled": true
   },
   "outputs": [
    {
     "data": {
      "text/plain": [
       "id                    0\n",
       "userId                0\n",
       "text                  0\n",
       "longitude          4514\n",
       "latitude           4514\n",
       "inReplyTo         17246\n",
       "placeLatitude         0\n",
       "placeLongitude        0\n",
       "followersCount        0\n",
       "friendsCount          0\n",
       "statusesCount         0\n",
       "userLocation        415\n",
       "year                  0\n",
       "month                 0\n",
       "day                   0\n",
       "week_number           0\n",
       "hour                  0\n",
       "city                 41\n",
       "state                 3\n",
       "country               0\n",
       "dtype: int64"
      ]
     },
     "execution_count": 3,
     "metadata": {},
     "output_type": "execute_result"
    }
   ],
   "source": [
    "sample.isnull().sum()"
   ]
  },
  {
   "cell_type": "code",
   "execution_count": 4,
   "metadata": {
    "collapsed": false
   },
   "outputs": [
    {
     "data": {
      "text/plain": [
       "(22611, 20)"
      ]
     },
     "execution_count": 4,
     "metadata": {},
     "output_type": "execute_result"
    }
   ],
   "source": [
    "sample.shape"
   ]
  },
  {
   "cell_type": "markdown",
   "metadata": {},
   "source": [
    "A few cities and states is not found, so we can drop it."
   ]
  },
  {
   "cell_type": "code",
   "execution_count": 5,
   "metadata": {
    "collapsed": false
   },
   "outputs": [
    {
     "data": {
      "text/plain": [
       "id                    0\n",
       "userId                0\n",
       "text                  0\n",
       "longitude          4514\n",
       "latitude           4514\n",
       "inReplyTo         17243\n",
       "placeLatitude         0\n",
       "placeLongitude        0\n",
       "followersCount        0\n",
       "friendsCount          0\n",
       "statusesCount         0\n",
       "userLocation        415\n",
       "year                  0\n",
       "month                 0\n",
       "day                   0\n",
       "week_number           0\n",
       "hour                  0\n",
       "city                 41\n",
       "state                 0\n",
       "country               0\n",
       "dtype: int64"
      ]
     },
     "execution_count": 5,
     "metadata": {},
     "output_type": "execute_result"
    }
   ],
   "source": [
    "user=sample.dropna(subset=['state'])\n",
    "user.isnull().sum()"
   ]
  },
  {
   "cell_type": "markdown",
   "metadata": {},
   "source": [
    "# Cleaning unusual trajectories\n",
    "\n",
    "Revocer time for calculating valid user in reasonable moving speed."
   ]
  },
  {
   "cell_type": "code",
   "execution_count": 6,
   "metadata": {
    "collapsed": false
   },
   "outputs": [
    {
     "name": "stderr",
     "output_type": "stream",
     "text": [
      "D:\\anaconda\\lib\\site-packages\\ipykernel\\__main__.py:7: SettingWithCopyWarning: \n",
      "A value is trying to be set on a copy of a slice from a DataFrame.\n",
      "Try using .loc[row_indexer,col_indexer] = value instead\n",
      "\n",
      "See the caveats in the documentation: http://pandas.pydata.org/pandas-docs/stable/indexing.html#indexing-view-versus-copy\n"
     ]
    },
    {
     "data": {
      "text/html": [
       "<div>\n",
       "<table border=\"1\" class=\"dataframe\">\n",
       "  <thead>\n",
       "    <tr style=\"text-align: right;\">\n",
       "      <th></th>\n",
       "      <th>id</th>\n",
       "      <th>userId</th>\n",
       "      <th>text</th>\n",
       "      <th>longitude</th>\n",
       "      <th>latitude</th>\n",
       "      <th>inReplyTo</th>\n",
       "      <th>placeLatitude</th>\n",
       "      <th>placeLongitude</th>\n",
       "      <th>followersCount</th>\n",
       "      <th>friendsCount</th>\n",
       "      <th>...</th>\n",
       "      <th>userLocation</th>\n",
       "      <th>year</th>\n",
       "      <th>month</th>\n",
       "      <th>day</th>\n",
       "      <th>week_number</th>\n",
       "      <th>hour</th>\n",
       "      <th>city</th>\n",
       "      <th>state</th>\n",
       "      <th>country</th>\n",
       "      <th>time</th>\n",
       "    </tr>\n",
       "  </thead>\n",
       "  <tbody>\n",
       "    <tr>\n",
       "      <th>551</th>\n",
       "      <td>10231423626</td>\n",
       "      <td>6257282.0</td>\n",
       "      <td>The new apartment is nice, but there is no Wif...</td>\n",
       "      <td>7.58531</td>\n",
       "      <td>47.5455</td>\n",
       "      <td>NaN</td>\n",
       "      <td>47.5367</td>\n",
       "      <td>7.57849</td>\n",
       "      <td>14249</td>\n",
       "      <td>9260.0</td>\n",
       "      <td>...</td>\n",
       "      <td>Potsdam, Germany</td>\n",
       "      <td>2010.0</td>\n",
       "      <td>3.0</td>\n",
       "      <td>9.0</td>\n",
       "      <td>10.0</td>\n",
       "      <td>18.0</td>\n",
       "      <td>Binningen</td>\n",
       "      <td>Basel-Landschaft</td>\n",
       "      <td>ch</td>\n",
       "      <td>2010-03-09 18:00:00</td>\n",
       "    </tr>\n",
       "    <tr>\n",
       "      <th>609</th>\n",
       "      <td>10292646240</td>\n",
       "      <td>15602037.0</td>\n",
       "      <td>Is that wet yet solid stuff on my screen suppo...</td>\n",
       "      <td>8.52725</td>\n",
       "      <td>47.3876</td>\n",
       "      <td>NaN</td>\n",
       "      <td>47.3791</td>\n",
       "      <td>8.50021</td>\n",
       "      <td>177</td>\n",
       "      <td>136.0</td>\n",
       "      <td>...</td>\n",
       "      <td>Zürich, Switzerland</td>\n",
       "      <td>2010.0</td>\n",
       "      <td>3.0</td>\n",
       "      <td>10.0</td>\n",
       "      <td>10.0</td>\n",
       "      <td>22.0</td>\n",
       "      <td>Zürich</td>\n",
       "      <td>Zürich</td>\n",
       "      <td>ch</td>\n",
       "      <td>2010-03-10 22:00:00</td>\n",
       "    </tr>\n",
       "    <tr>\n",
       "      <th>611</th>\n",
       "      <td>10309829732</td>\n",
       "      <td>625553.0</td>\n",
       "      <td>I'm at DCTI - David Dufour in Geneva http://go...</td>\n",
       "      <td>6.13183</td>\n",
       "      <td>46.2006</td>\n",
       "      <td>NaN</td>\n",
       "      <td>46.1996</td>\n",
       "      <td>6.13011</td>\n",
       "      <td>471</td>\n",
       "      <td>82.0</td>\n",
       "      <td>...</td>\n",
       "      <td>Geneva, Switzerland</td>\n",
       "      <td>2010.0</td>\n",
       "      <td>3.0</td>\n",
       "      <td>11.0</td>\n",
       "      <td>10.0</td>\n",
       "      <td>5.0</td>\n",
       "      <td>Genève</td>\n",
       "      <td>Genève</td>\n",
       "      <td>ch</td>\n",
       "      <td>2010-03-11 05:00:00</td>\n",
       "    </tr>\n",
       "    <tr>\n",
       "      <th>612</th>\n",
       "      <td>10310391132</td>\n",
       "      <td>17341045.0</td>\n",
       "      <td>God morgon! :-)</td>\n",
       "      <td>7.44235</td>\n",
       "      <td>46.8957</td>\n",
       "      <td>NaN</td>\n",
       "      <td>46.9214</td>\n",
       "      <td>7.38855</td>\n",
       "      <td>586</td>\n",
       "      <td>508.0</td>\n",
       "      <td>...</td>\n",
       "      <td>Bern, Switzerland</td>\n",
       "      <td>2010.0</td>\n",
       "      <td>3.0</td>\n",
       "      <td>11.0</td>\n",
       "      <td>10.0</td>\n",
       "      <td>6.0</td>\n",
       "      <td>Köniz</td>\n",
       "      <td>Bern - Berne</td>\n",
       "      <td>ch</td>\n",
       "      <td>2010-03-11 06:00:00</td>\n",
       "    </tr>\n",
       "    <tr>\n",
       "      <th>618</th>\n",
       "      <td>10311568050</td>\n",
       "      <td>634553.0</td>\n",
       "      <td>At this very minute, the sun is pink.</td>\n",
       "      <td>6.19900</td>\n",
       "      <td>46.2043</td>\n",
       "      <td>NaN</td>\n",
       "      <td>46.1938</td>\n",
       "      <td>6.15415</td>\n",
       "      <td>2230</td>\n",
       "      <td>387.0</td>\n",
       "      <td>...</td>\n",
       "      <td>Geneva, Switzerland</td>\n",
       "      <td>2010.0</td>\n",
       "      <td>3.0</td>\n",
       "      <td>11.0</td>\n",
       "      <td>10.0</td>\n",
       "      <td>7.0</td>\n",
       "      <td>Genève</td>\n",
       "      <td>Genève</td>\n",
       "      <td>ch</td>\n",
       "      <td>2010-03-11 07:00:00</td>\n",
       "    </tr>\n",
       "  </tbody>\n",
       "</table>\n",
       "<p>5 rows × 21 columns</p>\n",
       "</div>"
      ],
      "text/plain": [
       "              id      userId  \\\n",
       "551  10231423626   6257282.0   \n",
       "609  10292646240  15602037.0   \n",
       "611  10309829732    625553.0   \n",
       "612  10310391132  17341045.0   \n",
       "618  10311568050    634553.0   \n",
       "\n",
       "                                                  text  longitude  latitude  \\\n",
       "551  The new apartment is nice, but there is no Wif...    7.58531   47.5455   \n",
       "609  Is that wet yet solid stuff on my screen suppo...    8.52725   47.3876   \n",
       "611  I'm at DCTI - David Dufour in Geneva http://go...    6.13183   46.2006   \n",
       "612                                    God morgon! :-)    7.44235   46.8957   \n",
       "618              At this very minute, the sun is pink.    6.19900   46.2043   \n",
       "\n",
       "     inReplyTo  placeLatitude  placeLongitude followersCount  friendsCount  \\\n",
       "551        NaN        47.5367         7.57849          14249        9260.0   \n",
       "609        NaN        47.3791         8.50021            177         136.0   \n",
       "611        NaN        46.1996         6.13011            471          82.0   \n",
       "612        NaN        46.9214         7.38855            586         508.0   \n",
       "618        NaN        46.1938         6.15415           2230         387.0   \n",
       "\n",
       "            ...                 userLocation    year  month   day  \\\n",
       "551         ...             Potsdam, Germany  2010.0    3.0   9.0   \n",
       "609         ...          Zürich, Switzerland  2010.0    3.0  10.0   \n",
       "611         ...          Geneva, Switzerland  2010.0    3.0  11.0   \n",
       "612         ...            Bern, Switzerland  2010.0    3.0  11.0   \n",
       "618         ...          Geneva, Switzerland  2010.0    3.0  11.0   \n",
       "\n",
       "     week_number  hour       city             state country  \\\n",
       "551         10.0  18.0  Binningen  Basel-Landschaft      ch   \n",
       "609         10.0  22.0     Zürich            Zürich      ch   \n",
       "611         10.0   5.0     Genève            Genève      ch   \n",
       "612         10.0   6.0      Köniz      Bern - Berne      ch   \n",
       "618         10.0   7.0     Genève            Genève      ch   \n",
       "\n",
       "                   time  \n",
       "551 2010-03-09 18:00:00  \n",
       "609 2010-03-10 22:00:00  \n",
       "611 2010-03-11 05:00:00  \n",
       "612 2010-03-11 06:00:00  \n",
       "618 2010-03-11 07:00:00  \n",
       "\n",
       "[5 rows x 21 columns]"
      ]
     },
     "execution_count": 6,
     "metadata": {},
     "output_type": "execute_result"
    }
   ],
   "source": [
    "import time\n",
    "import datetime\n",
    "\n",
    "time=user[['year','month','day','hour']]\n",
    "temp=pd.to_datetime(time)\n",
    "temp.head()\n",
    "user['time']=temp\n",
    "user.head()"
   ]
  },
  {
   "cell_type": "code",
   "execution_count": 7,
   "metadata": {
    "collapsed": true
   },
   "outputs": [],
   "source": [
    "# velticity calculation, miles per hour\n",
    "from geopy.distance import vincenty \n",
    "\n",
    "def speed(loc1, loc2, t1, t2):\n",
    "    d = vincenty(loc1,loc2).miles\n",
    "    dt = t2-t1\n",
    "    dh = dt.seconds/3600.0 #to_hours\n",
    "    if dh :\n",
    "        return d/dh \n",
    "    else: #within one hour, assume it travels within half an hour\n",
    "        return d/0.5"
   ]
  },
  {
   "cell_type": "code",
   "execution_count": 10,
   "metadata": {
    "code_folding": [],
    "collapsed": false
   },
   "outputs": [],
   "source": [
    "#ref: Exploring Multi-Scale Spatiotemporal Twitter User Mobility Patterns with a Visual-Analytics Approach\n",
    "#Space-Time Twitter User Trajectories\n",
    "#To remove non-human users based on unusual relocating speed: e.g. speed (loc_i − loc_i−1) > 240 m/s\n",
    "\n",
    "#Travelling in Switzerland mainly takes train(despite some ones take flight)\n",
    "#Data are in time-order, so the location is continuously changed\n",
    "#Since we clean the data before, time is accurate to hour, so we set a loose thedshold like 200 mils/h \n",
    "\n",
    "\n",
    "#remove non-human user\n",
    "def human_user(c_tuple, speed_thed=200):\n",
    "    lon,lan,t = tuple(zip(*c_tuple))\n",
    "    point = list(zip(lan,lon))\n",
    "    normal=[True]*(len(c_tuple))\n",
    "    \n",
    "    if len(c_tuple) == 1:\n",
    "        normal[0] = False # remove only one tweet\n",
    "    if len(c_tuple) == 2 :\n",
    "        v = speed(point[0],point[1],t[0],t[1])\n",
    "        if v > speed_thed:\n",
    "            normal = [False]*(len(c_tuple))\n",
    "    else:\n",
    "        loc1 = point[0:-2]\n",
    "        loc2 = point[1:-1]\n",
    "        loc3 = point[2::]\n",
    "        #Using geopy's vincenty to find distances in pandas data frame\n",
    "        for i in range(len(loc1)):\n",
    "            v1_2=speed(loc2[i],loc1[i],t[i],t[i+1])\n",
    "            v2_3=speed(loc2[i],loc3[i],t[i+1],t[i+2])\n",
    "            v1_3=speed(loc1[i],loc3[i],t[i],t[i+2])\n",
    "        \n",
    "            # Check if loc1 is a normal location with reasonable speed\n",
    "            # If there is something wrong with loc1->loc2, we check loc2->loc3 & loc1->loc3 to ensure if loc2/3 is wrong\n",
    "        \n",
    "            if v1_2 > speed_thed: # loc1->loc2 innormal\n",
    "                if v2_3 > speed_thed: # loc2->loc1/3 innormal -> loc2 innormal\n",
    "                    normal[i+1]=False \n",
    "                    if v1_3 > speed_thed: # loc1->loc2/3 innormal -> loc1 innormal\n",
    "                        normal[i]=False \n",
    "                        if i == len(loc1)-1: # last index with all wrong\n",
    "                            normal[i+2]=False\n",
    "                else: # loc1->loc2 innormal, loc2->loc1/3 normal -> loc2 normal, loc1 innormal\n",
    "                    normal[i]=False\n",
    "            else: # loc1->loc2 normal\n",
    "                if v2_3 > speed_thed:\n",
    "                    if v1_3 > speed_thed: # loc3->loc1/2 innormal -> loc3 innormal\n",
    "                        normal[i+2]=False\n",
    "                    else:\n",
    "                        if (i == len(loc1)-1): # last index, just loc2->loc3 innormal -> loc2 innormal\n",
    "                            normal[i+1]=False\n",
    "        \n",
    "    return normal"
   ]
  },
  {
   "cell_type": "code",
   "execution_count": 11,
   "metadata": {
    "collapsed": false
   },
   "outputs": [
    {
     "name": "stderr",
     "output_type": "stream",
     "text": [
      "D:\\anaconda\\lib\\site-packages\\ipykernel\\__main__.py:4: SettingWithCopyWarning: \n",
      "A value is trying to be set on a copy of a slice from a DataFrame.\n",
      "Try using .loc[row_indexer,col_indexer] = value instead\n",
      "\n",
      "See the caveats in the documentation: http://pandas.pydata.org/pandas-docs/stable/indexing.html#indexing-view-versus-copy\n"
     ]
    }
   ],
   "source": [
    "#twitter_user=twitter_data.groupby(twitter_data['userId'])\n",
    "#.order(ascending=True)\n",
    "user_trace=['userId','year','month','week_number','day']\n",
    "user['temp'] = tuple(zip(user['placeLatitude'],user['placeLongitude'],user['time']))\n",
    "normal = user.groupby(by=user_trace)['temp'].transform(lambda x: human_user(x))"
   ]
  },
  {
   "cell_type": "code",
   "execution_count": 12,
   "metadata": {
    "collapsed": false
   },
   "outputs": [
    {
     "data": {
      "text/plain": [
       "(15690, 22)"
      ]
     },
     "execution_count": 12,
     "metadata": {},
     "output_type": "execute_result"
    }
   ],
   "source": [
    "normal_user = user[normal].reset_index(drop=True)\n",
    "normal_user.shape"
   ]
  },
  {
   "cell_type": "markdown",
   "metadata": {},
   "source": [
    "# Store trace\n",
    "\n",
    "Next,we hope to define daily trace of every user."
   ]
  },
  {
   "cell_type": "code",
   "execution_count": 13,
   "metadata": {
    "collapsed": false
   },
   "outputs": [],
   "source": [
    "# Since tweets are in time order, we can just store daily trace by apprending locations(canton)\n",
    "\n",
    "def daily_trace(r_location):\n",
    "    start=r_location.values[0:-1]\n",
    "    end=r_location.values[1::]\n",
    "    index=(start!=end)\n",
    "    trace=np.nan\n",
    "    \n",
    "    if index.any(): # Remove inner-canton trace \n",
    "        trace='->'.join(start[index])\n",
    "        trace='->'.join([trace,end[index][-1]])\n",
    "        \n",
    "    return trace    \n",
    "    "
   ]
  },
  {
   "cell_type": "code",
   "execution_count": 14,
   "metadata": {
    "collapsed": false
   },
   "outputs": [],
   "source": [
    "user_dtrace = normal_user.groupby(by=user_trace)['state'].apply(lambda x: daily_trace(x))\n"
   ]
  },
  {
   "cell_type": "code",
   "execution_count": 15,
   "metadata": {
    "collapsed": false
   },
   "outputs": [
    {
     "data": {
      "text/plain": [
       "userId   year    month  week_number  day \n",
       "12187.0  2011.0  1.0    4.0          25.0               Basel-Stadt->Aargau\n",
       "18123.0  2010.0  10.0   43.0         28.0                    Zürich->Aargau\n",
       "36863.0  2011.0  1.0    4.0          26.0    Basel-Landschaft->Bern - Berne\n",
       "53453.0  2010.0  12.0   51.0         20.0                   Vaud->Neuchâtel\n",
       "                                     21.0           Neuchâtel->Bern - Berne\n",
       "Name: state, dtype: object"
      ]
     },
     "execution_count": 15,
     "metadata": {},
     "output_type": "execute_result"
    }
   ],
   "source": [
    "user_dtrace=user_dtrace.dropna()\n",
    "user_dtrace.head()"
   ]
  },
  {
   "cell_type": "code",
   "execution_count": 16,
   "metadata": {
    "collapsed": false
   },
   "outputs": [],
   "source": [
    "with open ( \"state_mov.pkl\", \"wb\" ) as output:\n",
    "    pickle.dump(temp, output, pickle.HIGHEST_PROTOCOL)"
   ]
  },
  {
   "cell_type": "code",
   "execution_count": null,
   "metadata": {
    "collapsed": true
   },
   "outputs": [],
   "source": []
  }
 ],
 "metadata": {
  "anaconda-cloud": {},
  "kernelspec": {
   "display_name": "Python [default]",
   "language": "python",
   "name": "python3"
  },
  "language_info": {
   "codemirror_mode": {
    "name": "ipython",
    "version": 3
   },
   "file_extension": ".py",
   "mimetype": "text/x-python",
   "name": "python",
   "nbconvert_exporter": "python",
   "pygments_lexer": "ipython3",
   "version": "3.5.2"
  },
  "latex_envs": {
   "LaTeX_envs_menu_present": true,
   "bibliofile": "biblio.bib",
   "cite_by": "apalike",
   "current_citInitial": 1,
   "eqLabelWithNumbers": true,
   "eqNumInitial": 1,
   "labels_anchors": false,
   "latex_user_defs": false,
   "report_style_numbering": false,
   "user_envs_cfg": false
  },
  "toc": {
   "colors": {
    "hover_highlight": "#DAA520",
    "running_highlight": "#FF0000",
    "selected_highlight": "#FFD700"
   },
   "nav_menu": {
    "height": "12px",
    "width": "252px"
   },
   "navigate_menu": true,
   "number_sections": true,
   "sideBar": true,
   "threshold": 4,
   "toc_cell": false,
   "toc_section_display": "block",
   "toc_window_display": false
  }
 },
 "nbformat": 4,
 "nbformat_minor": 1
}
