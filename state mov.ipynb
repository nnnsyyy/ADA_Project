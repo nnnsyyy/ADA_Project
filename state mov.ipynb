{
 "cells": [
  {
   "cell_type": "code",
   "execution_count": 1,
   "metadata": {
    "collapsed": true
   },
   "outputs": [],
   "source": [
    "import pandas as pd\n",
    "import numpy as np\n",
    "import csv\n",
    "import pickle"
   ]
  },
  {
   "cell_type": "code",
   "execution_count": 2,
   "metadata": {
    "collapsed": false
   },
   "outputs": [
    {
     "data": {
      "text/html": [
       "<div>\n",
       "<table border=\"1\" class=\"dataframe\">\n",
       "  <thead>\n",
       "    <tr style=\"text-align: right;\">\n",
       "      <th></th>\n",
       "      <th>city</th>\n",
       "      <th>country</th>\n",
       "      <th>day</th>\n",
       "      <th>followersCount</th>\n",
       "      <th>friendsCount</th>\n",
       "      <th>hour</th>\n",
       "      <th>id</th>\n",
       "      <th>inReplyTo</th>\n",
       "      <th>latitude</th>\n",
       "      <th>longitude</th>\n",
       "      <th>month</th>\n",
       "      <th>placeLatitude</th>\n",
       "      <th>placeLongitude</th>\n",
       "      <th>state</th>\n",
       "      <th>statusesCount</th>\n",
       "      <th>text</th>\n",
       "      <th>userId</th>\n",
       "      <th>userLocation</th>\n",
       "      <th>week_number</th>\n",
       "      <th>year</th>\n",
       "    </tr>\n",
       "  </thead>\n",
       "  <tbody>\n",
       "    <tr>\n",
       "      <th>551</th>\n",
       "      <td>Binningen</td>\n",
       "      <td>ch</td>\n",
       "      <td>9.0</td>\n",
       "      <td>14249</td>\n",
       "      <td>9260.0</td>\n",
       "      <td>18.0</td>\n",
       "      <td>10231423626</td>\n",
       "      <td>NaN</td>\n",
       "      <td>47.5455</td>\n",
       "      <td>7.58531</td>\n",
       "      <td>3.0</td>\n",
       "      <td>47.5367</td>\n",
       "      <td>7.57849</td>\n",
       "      <td>Basel-Landschaft</td>\n",
       "      <td>19585.0</td>\n",
       "      <td>The new apartment is nice, but there is no Wif...</td>\n",
       "      <td>6.25728e+06</td>\n",
       "      <td>Potsdam, Germany</td>\n",
       "      <td>10.0</td>\n",
       "      <td>2010.0</td>\n",
       "    </tr>\n",
       "    <tr>\n",
       "      <th>609</th>\n",
       "      <td>Zürich</td>\n",
       "      <td>ch</td>\n",
       "      <td>10.0</td>\n",
       "      <td>177</td>\n",
       "      <td>136.0</td>\n",
       "      <td>22.0</td>\n",
       "      <td>10292646240</td>\n",
       "      <td>NaN</td>\n",
       "      <td>47.3876</td>\n",
       "      <td>8.52725</td>\n",
       "      <td>3.0</td>\n",
       "      <td>47.3791</td>\n",
       "      <td>8.50021</td>\n",
       "      <td>Zürich</td>\n",
       "      <td>5167.0</td>\n",
       "      <td>Is that wet yet solid stuff on my screen suppo...</td>\n",
       "      <td>1.5602e+07</td>\n",
       "      <td>Zürich, Switzerland</td>\n",
       "      <td>10.0</td>\n",
       "      <td>2010.0</td>\n",
       "    </tr>\n",
       "    <tr>\n",
       "      <th>611</th>\n",
       "      <td>Genève</td>\n",
       "      <td>ch</td>\n",
       "      <td>11.0</td>\n",
       "      <td>471</td>\n",
       "      <td>82.0</td>\n",
       "      <td>5.0</td>\n",
       "      <td>10309829732</td>\n",
       "      <td>NaN</td>\n",
       "      <td>46.2006</td>\n",
       "      <td>6.13183</td>\n",
       "      <td>3.0</td>\n",
       "      <td>46.1996</td>\n",
       "      <td>6.13011</td>\n",
       "      <td>Genève</td>\n",
       "      <td>3363.0</td>\n",
       "      <td>I'm at DCTI - David Dufour in Geneva http://go...</td>\n",
       "      <td>625553</td>\n",
       "      <td>Geneva, Switzerland</td>\n",
       "      <td>10.0</td>\n",
       "      <td>2010.0</td>\n",
       "    </tr>\n",
       "    <tr>\n",
       "      <th>612</th>\n",
       "      <td>Köniz</td>\n",
       "      <td>ch</td>\n",
       "      <td>11.0</td>\n",
       "      <td>586</td>\n",
       "      <td>508.0</td>\n",
       "      <td>6.0</td>\n",
       "      <td>10310391132</td>\n",
       "      <td>NaN</td>\n",
       "      <td>46.8957</td>\n",
       "      <td>7.44235</td>\n",
       "      <td>3.0</td>\n",
       "      <td>46.9214</td>\n",
       "      <td>7.38855</td>\n",
       "      <td>Bern - Berne</td>\n",
       "      <td>9016.0</td>\n",
       "      <td>God morgon! :-)</td>\n",
       "      <td>1.7341e+07</td>\n",
       "      <td>Bern, Switzerland</td>\n",
       "      <td>10.0</td>\n",
       "      <td>2010.0</td>\n",
       "    </tr>\n",
       "    <tr>\n",
       "      <th>618</th>\n",
       "      <td>Genève</td>\n",
       "      <td>ch</td>\n",
       "      <td>11.0</td>\n",
       "      <td>2230</td>\n",
       "      <td>387.0</td>\n",
       "      <td>7.0</td>\n",
       "      <td>10311568050</td>\n",
       "      <td>NaN</td>\n",
       "      <td>46.2043</td>\n",
       "      <td>6.19900</td>\n",
       "      <td>3.0</td>\n",
       "      <td>46.1938</td>\n",
       "      <td>6.15415</td>\n",
       "      <td>Genève</td>\n",
       "      <td>10605.0</td>\n",
       "      <td>At this very minute, the sun is pink.</td>\n",
       "      <td>634553</td>\n",
       "      <td>Geneva, Switzerland</td>\n",
       "      <td>10.0</td>\n",
       "      <td>2010.0</td>\n",
       "    </tr>\n",
       "  </tbody>\n",
       "</table>\n",
       "</div>"
      ],
      "text/plain": [
       "          city country   day followersCount  friendsCount  hour           id  \\\n",
       "551  Binningen      ch   9.0          14249        9260.0  18.0  10231423626   \n",
       "609     Zürich      ch  10.0            177         136.0  22.0  10292646240   \n",
       "611     Genève      ch  11.0            471          82.0   5.0  10309829732   \n",
       "612      Köniz      ch  11.0            586         508.0   6.0  10310391132   \n",
       "618     Genève      ch  11.0           2230         387.0   7.0  10311568050   \n",
       "\n",
       "     inReplyTo latitude  longitude  month  placeLatitude  placeLongitude  \\\n",
       "551        NaN  47.5455    7.58531    3.0        47.5367         7.57849   \n",
       "609        NaN  47.3876    8.52725    3.0        47.3791         8.50021   \n",
       "611        NaN  46.2006    6.13183    3.0        46.1996         6.13011   \n",
       "612        NaN  46.8957    7.44235    3.0        46.9214         7.38855   \n",
       "618        NaN  46.2043    6.19900    3.0        46.1938         6.15415   \n",
       "\n",
       "                state  statusesCount  \\\n",
       "551  Basel-Landschaft        19585.0   \n",
       "609            Zürich         5167.0   \n",
       "611            Genève         3363.0   \n",
       "612      Bern - Berne         9016.0   \n",
       "618            Genève        10605.0   \n",
       "\n",
       "                                                  text       userId  \\\n",
       "551  The new apartment is nice, but there is no Wif...  6.25728e+06   \n",
       "609  Is that wet yet solid stuff on my screen suppo...   1.5602e+07   \n",
       "611  I'm at DCTI - David Dufour in Geneva http://go...       625553   \n",
       "612                                    God morgon! :-)   1.7341e+07   \n",
       "618              At this very minute, the sun is pink.       634553   \n",
       "\n",
       "            userLocation  week_number    year  \n",
       "551     Potsdam, Germany         10.0  2010.0  \n",
       "609  Zürich, Switzerland         10.0  2010.0  \n",
       "611  Geneva, Switzerland         10.0  2010.0  \n",
       "612    Bern, Switzerland         10.0  2010.0  \n",
       "618  Geneva, Switzerland         10.0  2010.0  "
      ]
     },
     "execution_count": 2,
     "metadata": {},
     "output_type": "execute_result"
    }
   ],
   "source": [
    "sample  = pickle.load( open( \"data/twitter_data_clean.p\", \"rb\" ) )\n",
    "sample.head()"
   ]
  },
  {
   "cell_type": "code",
   "execution_count": 3,
   "metadata": {
    "collapsed": false,
    "scrolled": true
   },
   "outputs": [
    {
     "data": {
      "text/plain": [
       "city                 88225\n",
       "country                 24\n",
       "day                      1\n",
       "followersCount         148\n",
       "friendsCount           161\n",
       "hour                     0\n",
       "id                       0\n",
       "inReplyTo         11255929\n",
       "latitude           5760885\n",
       "longitude          5760885\n",
       "month                    1\n",
       "placeLatitude            0\n",
       "placeLongitude           0\n",
       "state                  274\n",
       "statusesCount          167\n",
       "text                149864\n",
       "userId                   0\n",
       "userLocation       4041308\n",
       "week_number              1\n",
       "year                     1\n",
       "dtype: int64"
      ]
     },
     "execution_count": 3,
     "metadata": {},
     "output_type": "execute_result"
    }
   ],
   "source": [
    "sample.isnull().sum()"
   ]
  },
  {
   "cell_type": "code",
   "execution_count": 4,
   "metadata": {
    "collapsed": false
   },
   "outputs": [
    {
     "data": {
      "text/plain": [
       "<bound method NDFrame.astype of                       city country   day followersCount  friendsCount  hour  \\\n",
       "551              Binningen      ch   9.0          14249        9260.0  18.0   \n",
       "609                 Zürich      ch  10.0            177         136.0  22.0   \n",
       "611                 Genève      ch  11.0            471          82.0   5.0   \n",
       "612                  Köniz      ch  11.0            586         508.0   6.0   \n",
       "618                 Genève      ch  11.0           2230         387.0   7.0   \n",
       "622                 Genève      ch  11.0            167         277.0  11.0   \n",
       "623                  Basel      ch  11.0          14249        9260.0  11.0   \n",
       "630                 Zürich      ch  11.0            230         276.0  13.0   \n",
       "632       Birmensdorf (ZH)      ch  11.0            533         292.0  15.0   \n",
       "633                 Zürich      ch  11.0            394         266.0  16.0   \n",
       "634                 Zürich      ch  11.0             75         161.0  17.0   \n",
       "635                 Zürich      ch  11.0            524         523.0  17.0   \n",
       "637                 Zürich      ch  11.0            943         543.0  18.0   \n",
       "642                 Zürich      ch  11.0            434          79.0  19.0   \n",
       "643              Stallikon      ch  11.0            378         352.0  19.0   \n",
       "646                 Genève      ch  11.0            792         900.0  21.0   \n",
       "652                 Zürich      ch  11.0            524         523.0  23.0   \n",
       "653                 Genève      ch  12.0            471          82.0   6.0   \n",
       "654                 Genève      ch  12.0            471          82.0   6.0   \n",
       "660                 Zürich      ch  12.0            651         285.0  13.0   \n",
       "666                 Genève      ch  12.0            167         277.0  16.0   \n",
       "669                 Genève      ch  12.0            471          82.0  16.0   \n",
       "670                 Zürich      ch  12.0            394         266.0  17.0   \n",
       "671                 Zürich      ch  12.0            580         483.0  17.0   \n",
       "672                 Genève      ch  12.0            167         277.0  17.0   \n",
       "675                 Zürich      ch  12.0            177         136.0  18.0   \n",
       "676                 Genève      ch  12.0            167         277.0  18.0   \n",
       "683                 Zürich      ch  12.0            524         523.0  20.0   \n",
       "686                 Zürich      ch  12.0            524         523.0  21.0   \n",
       "687                 Zürich      ch  12.0            472         445.0  22.0   \n",
       "...                    ...     ...   ...            ...           ...   ...   \n",
       "26357             Besançon      fr  16.0            389         917.0  16.0   \n",
       "26358                 Suhr      ch  16.0           4468        3806.0  16.0   \n",
       "26359        Saint-Maurice      ch  16.0            472         481.0  16.0   \n",
       "26360        Saint-Maurice      ch  16.0            472         481.0  16.0   \n",
       "26361               Kloten      ch  16.0            557         287.0  16.0   \n",
       "26362               Meyrin      ch  16.0            528          84.0  16.0   \n",
       "26363               Varese      it  16.0            380         196.0  16.0   \n",
       "26364             Besançon      fr  16.0           4531         209.0  16.0   \n",
       "26365           Winterthur      ch  16.0            240         435.0  16.0   \n",
       "26366          Ponte Nossa      it  16.0             40         128.0  16.0   \n",
       "26367             Mulhouse      fr  16.0            401         215.0  16.0   \n",
       "26368               Lugano      ch  16.0            146         110.0  16.0   \n",
       "26369            Allschwil      ch  16.0           3351          29.0  16.0   \n",
       "26370               Sierre      ch  16.0         128526         862.0  16.0   \n",
       "26371  Brunstatt-Didenheim      fr  16.0            335         106.0  16.0   \n",
       "26372               Sierre      ch  16.0           7427        2934.0  16.0   \n",
       "26373             Crassier      ch  16.0            434         450.0  16.0   \n",
       "26374             Gaillard      fr  16.0           1193        1339.0  16.0   \n",
       "26375              Gibloux      ch  16.0            115         319.0  16.0   \n",
       "26376                  Zug      ch  16.0           1066         800.0  16.0   \n",
       "26377             Mulhouse      fr  16.0            401         215.0  16.0   \n",
       "26378               Luzern      ch  16.0              5           0.0  16.0   \n",
       "26379               Luzern      ch  16.0            250          37.0  16.0   \n",
       "26380               Lindau      ch  16.0            262         437.0  16.0   \n",
       "26381       Melchsee-Frutt      ch  16.0            300         623.0  16.0   \n",
       "26382           Schattdorf      ch  16.0           1128         679.0  16.0   \n",
       "26383               Luzern      ch  16.0              5           0.0  16.0   \n",
       "26384          Le Reposoir      fr  16.0            223         887.0  16.0   \n",
       "26385               Varese      it  16.0            442         431.0  16.0   \n",
       "26386              Étalans      fr  16.0           9845         381.0  16.0   \n",
       "\n",
       "                       id     inReplyTo latitude  longitude  month  \\\n",
       "551           10231423626           NaN  47.5455    7.58531    3.0   \n",
       "609           10292646240           NaN  47.3876    8.52725    3.0   \n",
       "611           10309829732           NaN  46.2006    6.13183    3.0   \n",
       "612           10310391132           NaN  46.8957    7.44235    3.0   \n",
       "618           10311568050           NaN  46.2043    6.19900    3.0   \n",
       "622           10317329535           NaN  46.1757    6.14115    3.0   \n",
       "623           10318399628           NaN   47.555    7.58874    3.0   \n",
       "630           10321144183           NaN  47.3774    8.54833    3.0   \n",
       "632           10326052458           NaN  47.3974    8.43949    3.0   \n",
       "633           10330537688  1.032958e+10  47.3959    8.52329    3.0   \n",
       "634           10330644692           NaN  47.3771    8.53940    3.0   \n",
       "635           10332321216           NaN  47.3764    8.54799    3.0   \n",
       "637           10333839327           NaN  47.4118    8.51295    3.0   \n",
       "642           10336971041           NaN  47.3769    8.53964    3.0   \n",
       "643           10337158824           NaN  47.3436    8.53578    3.0   \n",
       "646           10340297205           NaN  46.2117    6.14474    3.0   \n",
       "652           10343527974           NaN  47.3567    8.52693    3.0   \n",
       "653           10359607133           NaN  46.2041    6.19909    3.0   \n",
       "654           10359636173           NaN  46.2041    6.19909    3.0   \n",
       "660           10370982380           NaN  47.3755    8.53887    3.0   \n",
       "666           10378072888           NaN  46.2035    6.14111    3.0   \n",
       "669           10379910496           NaN  46.2099    6.14253    3.0   \n",
       "670           10380861385  1.038073e+10  47.3816    8.53619    3.0   \n",
       "671           10380990263           NaN  47.3782    8.53929    3.0   \n",
       "672           10381452515           NaN  46.2035    6.14111    3.0   \n",
       "675           10383908825           NaN  47.3828    8.52947    3.0   \n",
       "676           10384539361           NaN  46.2106    6.13681    3.0   \n",
       "683           10389252761  1.038265e+10  47.3567    8.52693    3.0   \n",
       "686           10391716618  1.039097e+10  47.3568    8.52693    3.0   \n",
       "687           10393871082           NaN  47.3667    8.54678    3.0   \n",
       "...                   ...           ...      ...        ...    ...   \n",
       "26357  776820998096257024  7.768199e+17      NaN        NaN    9.0   \n",
       "26358  776821013124411392           NaN      NaN        NaN    9.0   \n",
       "26359  776821029964488704           NaN      NaN        NaN    9.0   \n",
       "26360  776821090492551169           NaN      NaN        NaN    9.0   \n",
       "26361  776821110633627648           NaN      NaN        NaN    9.0   \n",
       "26362  776821110948200448           NaN      NaN        NaN    9.0   \n",
       "26363  776821123442958336           NaN  45.8106    8.83488    9.0   \n",
       "26364  776821185413836800  7.768205e+17      NaN        NaN    9.0   \n",
       "26365  776821187330600960  7.768208e+17      NaN        NaN    9.0   \n",
       "26366  776821193202667521           NaN   45.859    9.87921    9.0   \n",
       "26367  776821247422455808           NaN      NaN        NaN    9.0   \n",
       "26368  776821280687423488           NaN      NaN        NaN    9.0   \n",
       "26369  776821304452349952  7.767972e+17      NaN        NaN    9.0   \n",
       "26370  776821324736061440           NaN   46.283    7.53810    9.0   \n",
       "26371  776821369455673344  7.768211e+17      NaN        NaN    9.0   \n",
       "26372  776821370034479106           NaN      NaN        NaN    9.0   \n",
       "26373  776821412782825472           NaN      NaN        NaN    9.0   \n",
       "26374  776821433448161280  7.768210e+17      NaN        NaN    9.0   \n",
       "26375  776821445339013121  7.768127e+17      NaN        NaN    9.0   \n",
       "26376  776821458458771456  7.768206e+17      NaN        NaN    9.0   \n",
       "26377  776821494953418752           NaN      NaN        NaN    9.0   \n",
       "26378  776821576939540481           NaN  47.0497    8.31393    9.0   \n",
       "26379  776821609579544576  7.768210e+17      NaN        NaN    9.0   \n",
       "26380  776821610955309057           NaN      NaN        NaN    9.0   \n",
       "26381  776821644396523524           NaN      NaN        NaN    9.0   \n",
       "26382  776821691741827075  7.768138e+17      NaN        NaN    9.0   \n",
       "26383  776821713329946626           NaN  47.0509    8.31033    9.0   \n",
       "26384  776821729993822209           NaN      NaN        NaN    9.0   \n",
       "26385  776821740399886336           NaN      NaN        NaN    9.0   \n",
       "26386  776821779457335297           NaN      NaN        NaN    9.0   \n",
       "\n",
       "       placeLatitude  placeLongitude                    state  statusesCount  \\\n",
       "551          47.5367         7.57849         Basel-Landschaft        19585.0   \n",
       "609          47.3791         8.50021                   Zürich         5167.0   \n",
       "611          46.1996         6.13011                   Genève         3363.0   \n",
       "612          46.9214         7.38855             Bern - Berne         9016.0   \n",
       "618          46.1938         6.15415                   Genève        10605.0   \n",
       "622          46.1873         6.12815                   Genève         2885.0   \n",
       "623          47.5538         7.58398              Basel-Stadt        19585.0   \n",
       "630          47.3765         8.54322                   Zürich         1788.0   \n",
       "632          47.3597         8.45071                   Zürich         5663.0   \n",
       "633          47.3859         8.51265                   Zürich         3420.0   \n",
       "634          47.3642         8.53007                   Zürich         1390.0   \n",
       "635          47.3642         8.53007                   Zürich         4576.0   \n",
       "637          47.4054         8.48304                   Zürich         3581.0   \n",
       "642          47.3658         8.53002                   Zürich         3905.0   \n",
       "643          47.3224         8.50380                   Zürich         3186.0   \n",
       "646          46.2080         6.12813                   Genève         2506.0   \n",
       "652          47.3525         8.52282                   Zürich         4576.0   \n",
       "653          46.1938         6.15415                   Genève         3363.0   \n",
       "654          46.1938         6.15415                   Genève         3363.0   \n",
       "660          47.3658         8.53002                   Zürich         4674.0   \n",
       "666          46.2002         6.13977                   Genève         2885.0   \n",
       "669          46.2048         6.12694                   Genève         3363.0   \n",
       "670          47.3791         8.50021                   Zürich         3420.0   \n",
       "671          47.3658         8.53002                   Zürich         4636.0   \n",
       "672          46.2002         6.13977                   Genève         2885.0   \n",
       "675          47.3791         8.50021                   Zürich         5167.0   \n",
       "676          46.2089         6.13462                   Genève         2885.0   \n",
       "683          47.3525         8.52282                   Zürich         4576.0   \n",
       "686          47.3525         8.52282                   Zürich         4576.0   \n",
       "687          47.3641         8.54408                   Zürich         1810.0   \n",
       "...              ...             ...                      ...            ...   \n",
       "26357        47.2010         5.94082  Bourgogne-Franche-Comté        26663.0   \n",
       "26358        47.3745         8.08547                   Aargau         8250.0   \n",
       "26359        46.2025         7.01407          Valais - Wallis        19951.0   \n",
       "26360        46.2025         7.01407          Valais - Wallis        19951.0   \n",
       "26361        47.4582         8.58877                   Zürich          647.0   \n",
       "26362        46.2322         6.07900                   Genève        37070.0   \n",
       "26363        45.8314         8.80651                      LOM        15724.0   \n",
       "26364        47.2010         5.94082  Bourgogne-Franche-Comté        24864.0   \n",
       "26365        47.4987         8.73303                   Zürich         6246.0   \n",
       "26366        45.8615         9.88592                      LOM          172.0   \n",
       "26367        47.7170         7.34480                Grand-Est        20930.0   \n",
       "26368        46.0027         8.96044                   Ticino        28621.0   \n",
       "26369        47.5455         7.53449         Basel-Landschaft         2509.0   \n",
       "26370        46.2763         7.50487          Valais - Wallis        54222.0   \n",
       "26371        47.7218         7.28274                Grand-Est        32122.0   \n",
       "26372        46.2763         7.50487          Valais - Wallis        21335.0   \n",
       "26373        46.3707         6.16723                     Vaud          964.0   \n",
       "26374        46.1763         6.21703     Auvergne-Rhône-Alpes       150152.0   \n",
       "26375        46.7040         7.05738      Fribourg - Freiburg         1101.0   \n",
       "26376        47.1354         8.52637                      Zug        34071.0   \n",
       "26377        47.7157         7.35819                Grand-Est        20930.0   \n",
       "26378        47.0408         8.31721                   Luzern         5319.0   \n",
       "26379        47.0408         8.31721                   Luzern         3731.0   \n",
       "26380        47.4412         8.68313                   Zürich         2686.0   \n",
       "26381        46.8131         8.22414                 Obwalden          400.0   \n",
       "26382        46.8510         8.67273                      Uri          741.0   \n",
       "26383        47.0408         8.31721                   Luzern         5319.0   \n",
       "26384        46.0404         6.54653     Auvergne-Rhône-Alpes        10416.0   \n",
       "26385        45.8314         8.80651                      LOM         9414.0   \n",
       "26386        47.1425         6.19758  Bourgogne-Franche-Comté        17440.0   \n",
       "\n",
       "                                                    text       userId  \\\n",
       "551    The new apartment is nice, but there is no Wif...  6.25728e+06   \n",
       "609    Is that wet yet solid stuff on my screen suppo...   1.5602e+07   \n",
       "611    I'm at DCTI - David Dufour in Geneva http://go...       625553   \n",
       "612                                      God morgon! :-)   1.7341e+07   \n",
       "618                At this very minute, the sun is pink.       634553   \n",
       "622    \"Un kebab au poulet SVP\" [=o)] (@ Cafeteria No...  1.46579e+07   \n",
       "623     Sushi o'clock! (@ Negishi) http://4sq.com/ciTkgV  6.25728e+06   \n",
       "630    Best coffee on campus — at Tannenbar http://go...  1.50503e+07   \n",
       "632    Jetzt wurde ich eben zum dritten Mal auf Bille...  7.63055e+06   \n",
       "633    @knowLED habe mit roger schon um 18:30 abgemac...  5.93693e+06   \n",
       "634                            Gratis-Blüemli am HB. :-)  1.47039e+07   \n",
       "635                     At XQuery meetup (@ ETH Zentral)  1.80195e+07   \n",
       "637    Finally feeling like I've recovered from two h...  1.71975e+07   \n",
       "642     Nice shop: Just bought a complete miso soup set.  1.44065e+07   \n",
       "643    @copyhaho and @loscampesinos (@ Kulturzentrum ...       613853   \n",
       "646    At scandals with iomba peeps, always an intere...        41483   \n",
       "652    Cool post - full of use cases&gt;&gt; Foursqua...  1.80195e+07   \n",
       "653           I'm at Coop Montagne http://gowal.la/s/tMh       625553   \n",
       "654    Photo: Early morning  — at Coop Montagne http:...       625553   \n",
       "660                          My pizza is called Georgia.  5.72401e+06   \n",
       "666    Petit espresso doppio inattendu! [=o)] (@ Boré...  1.46579e+07   \n",
       "669    I'm at Gare de Cornavin in Geneva http://gowal...       625553   \n",
       "670    @Metallschaedel du kannst mir schon mal ein mi...  5.93693e+06   \n",
       "671    Driving a car must be big fun! http://yfrog.co...        18123   \n",
       "672    Latte-macchiato, planificado hace horas! (@ Bo...  1.46579e+07   \n",
       "675    Ok, ok. Swimming is postponed. Going out with ...   1.5602e+07   \n",
       "676    Pizza para llevar a 10 CHF [=o)] (@ Pizza Braz...  1.46579e+07   \n",
       "683    @wcandillon we should convince Dana to join Tw...  1.80195e+07   \n",
       "686    @wcandillon :) Great that she reserved the nam...  1.80195e+07   \n",
       "687    Stehe am #stadelhofen vor einem riesigen 'LG P...  2.02138e+06   \n",
       "...                                                  ...          ...   \n",
       "26357  @maggets29 ils ont déjà commencé à tourner la ...  3.39733e+08   \n",
       "26358     اللهم ارزقني خير ما في هذا اليوم واصرف عني شره  1.05307e+09   \n",
       "26359     Ya tout le train qui vient caresser mon chaton  1.05545e+09   \n",
       "26360                                Allez-vous en zouuu  1.05545e+09   \n",
       "26361                  Visiting #Stockholm this weekend.  2.09395e+07   \n",
       "26362                                Bye bye la France !  1.11255e+09   \n",
       "26363  \"Conosco un paio di rumeni, tipi suge pula che...  9.85372e+08   \n",
       "26364                                  @_Tospik Grave ^^  1.53656e+09   \n",
       "26365  @walliserstefi bi defür allwäg morn morge no c...  4.29335e+08   \n",
       "26366  The biggest ever seen!! Love chestnut! @ Artig...  1.05084e+08   \n",
       "26367  Sous prétexte que t'as une blouse or que eux s...  1.58952e+09   \n",
       "26368  // ma che poi Simona&gt;&gt;&gt;&gt;&gt;&gt;&g...  7.35449e+17   \n",
       "26369                                          Up Up Up   4.77816e+09   \n",
       "26370  Laurent Haug @ Techno-Pôle de Sierre (TechnoAr...       740983   \n",
       "26371  @elnrbzn non le design lol après la qualité là...  2.65373e+09   \n",
       "26372  Rencontre du troisième type avec un dieu du sl...        55223   \n",
       "26373  « Si l'#entrepreneur est lucide, il parle de s...  1.44154e+09   \n",
       "26374                     @Serial_Mother67 Pas de souci   5.28906e+08   \n",
       "26375  @ambelman @MaulidarZk @SkySportMotoGP @solomot...  3.70814e+09   \n",
       "26376  @MarkGSparrow I'll admit that it was difficult...  2.16847e+07   \n",
       "26377  A ce sentir supérieur pcq toi tu charbonne pou...  1.58952e+09   \n",
       "26378  Dratini – beim Inseli bis 18:42:59 https://t.c...  7.66675e+17   \n",
       "26379                   @itsspati pois é nem me fala kkk  2.53799e+09   \n",
       "26380  Jetzt habe ich sehr viel Filmmaterial von den ...  3.23341e+09   \n",
       "26381                      Switzerland, you are a dream    1.9333e+07   \n",
       "26382  @dbrgn 50% Fremdschämeffekt bei den Firmenpitc...  5.08639e+08   \n",
       "26383  Ponita – beim Torbogen bis 18:46:14 https://t....  7.66675e+17   \n",
       "26384                                   #iOS10 installé   2.48828e+08   \n",
       "26385  @mikrokosmo  alias Lucino e @micmancio parlano...  1.19743e+08   \n",
       "26386  #Sortir : Enquête à Dole, Bergers du Jura, Bei...  1.04941e+08   \n",
       "\n",
       "                      userLocation  week_number    year  \n",
       "551               Potsdam, Germany         10.0  2010.0  \n",
       "609            Zürich, Switzerland         10.0  2010.0  \n",
       "611            Geneva, Switzerland         10.0  2010.0  \n",
       "612              Bern, Switzerland         10.0  2010.0  \n",
       "618            Geneva, Switzerland         10.0  2010.0  \n",
       "622            Geneva, Switzerland         10.0  2010.0  \n",
       "623               Potsdam, Germany         10.0  2010.0  \n",
       "630            Zürich, Switzerland         10.0  2010.0  \n",
       "632                         Zurich         10.0  2010.0  \n",
       "633              Zürich, Zürich CH         10.0  2010.0  \n",
       "634            Zürich, Switzerland         10.0  2010.0  \n",
       "635         San Francisco Bay Area         10.0  2010.0  \n",
       "637            Zürich, Switzerland         10.0  2010.0  \n",
       "642            Zurich, Switzerland         10.0  2010.0  \n",
       "643                         Zurich         10.0  2010.0  \n",
       "646              San Francisco, CA         10.0  2010.0  \n",
       "652         San Francisco Bay Area         10.0  2010.0  \n",
       "653            Geneva, Switzerland         10.0  2010.0  \n",
       "654            Geneva, Switzerland         10.0  2010.0  \n",
       "660        Winterthur, Switzerland         10.0  2010.0  \n",
       "666            Geneva, Switzerland         10.0  2010.0  \n",
       "669            Geneva, Switzerland         10.0  2010.0  \n",
       "670              Zürich, Zürich CH         10.0  2010.0  \n",
       "671         Wettingen, Switzerland         10.0  2010.0  \n",
       "672            Geneva, Switzerland         10.0  2010.0  \n",
       "675            Zürich, Switzerland         10.0  2010.0  \n",
       "676            Geneva, Switzerland         10.0  2010.0  \n",
       "683         San Francisco Bay Area         10.0  2010.0  \n",
       "686         San Francisco Bay Area         10.0  2010.0  \n",
       "687              Zurich | New York         10.0  2010.0  \n",
       "...                            ...          ...     ...  \n",
       "26357         Besançon (25) FRANCE         37.0  2016.0  \n",
       "26358                  Switzerland         37.0  2016.0  \n",
       "26359                       geneva         37.0  2016.0  \n",
       "26360                       geneva         37.0  2016.0  \n",
       "26361          Zurich, Switzerland         37.0  2016.0  \n",
       "26362            28fevrier2012 P❤️         37.0  2016.0  \n",
       "26363                       Varese         37.0  2016.0  \n",
       "26364  → Besançon - Franche Comté          37.0  2016.0  \n",
       "26365                   Winterthur         37.0  2016.0  \n",
       "26366                        Italy         37.0  2016.0  \n",
       "26367                 ouloulouland         37.0  2016.0  \n",
       "26368                    Earleen.          37.0  2016.0  \n",
       "26369        Allschwil, Basel-Land         37.0  2016.0  \n",
       "26370                San Francisco         37.0  2016.0  \n",
       "26371                     g-eazy❤️         37.0  2016.0  \n",
       "26372              breew, lausanne         37.0  2016.0  \n",
       "26373                    Borex, VD         37.0  2016.0  \n",
       "26374       Annemasse, Rhône-Alpes         37.0  2016.0  \n",
       "26375  Vuisternens-en-Ogoz  Suisse         37.0  2016.0  \n",
       "26376                  Switzerland         37.0  2016.0  \n",
       "26377                 ouloulouland         37.0  2016.0  \n",
       "26378                          NaN         37.0  2016.0  \n",
       "26379                           SP         37.0  2016.0  \n",
       "26380                   Oberwallis         37.0  2016.0  \n",
       "26381                San Francisco         37.0  2016.0  \n",
       "26382          Zurich, Switzerland         37.0  2016.0  \n",
       "26383                          NaN         37.0  2016.0  \n",
       "26384                       RA, FR         37.0  2016.0  \n",
       "26385              Varese - Italia         37.0  2016.0  \n",
       "26386                     Besançon         37.0  2016.0  \n",
       "\n",
       "[16045715 rows x 20 columns]>"
      ]
     },
     "execution_count": 4,
     "metadata": {},
     "output_type": "execute_result"
    }
   ],
   "source": [
    "sample.astype"
   ]
  },
  {
   "cell_type": "markdown",
   "metadata": {},
   "source": [
    "A few times, countries and states is not found, so we can drop it."
   ]
  },
  {
   "cell_type": "code",
   "execution_count": 6,
   "metadata": {
    "collapsed": false
   },
   "outputs": [
    {
     "data": {
      "text/plain": [
       "city                 88197\n",
       "country                  0\n",
       "day                      0\n",
       "followersCount         148\n",
       "friendsCount           161\n",
       "hour                     0\n",
       "id                       0\n",
       "inReplyTo         11255701\n",
       "latitude           5760885\n",
       "longitude          5760885\n",
       "month                    0\n",
       "placeLatitude            0\n",
       "placeLongitude           0\n",
       "state                    0\n",
       "statusesCount          167\n",
       "text                149862\n",
       "userId                   0\n",
       "userLocation       4041218\n",
       "week_number              0\n",
       "year                     0\n",
       "dtype: int64"
      ]
     },
     "execution_count": 6,
     "metadata": {},
     "output_type": "execute_result"
    }
   ],
   "source": [
    "user_all=sample.dropna(subset=['country','state','year','month','week_number','day','hour'])\n",
    "user_all.isnull().sum()"
   ]
  },
  {
   "cell_type": "markdown",
   "metadata": {},
   "source": [
    "The essential fields like 'placeLatitude' and 'placeLongtitude' are clean, so we can filter Switzerland's data for analysis now."
   ]
  },
  {
   "cell_type": "code",
   "execution_count": 7,
   "metadata": {
    "collapsed": false
   },
   "outputs": [
    {
     "data": {
      "text/plain": [
       "(10129731, 20)"
      ]
     },
     "execution_count": 7,
     "metadata": {},
     "output_type": "execute_result"
    }
   ],
   "source": [
    "user=user_all.loc[user_all['country']=='ch']\n",
    "user.shape"
   ]
  },
  {
   "cell_type": "markdown",
   "metadata": {},
   "source": [
    "# Cleaning unusual trajectories\n",
    "\n",
    "Revocer time for calculating valid user in reasonable moving speed."
   ]
  },
  {
   "cell_type": "code",
   "execution_count": 8,
   "metadata": {
    "collapsed": false
   },
   "outputs": [
    {
     "name": "stderr",
     "output_type": "stream",
     "text": [
      "D:\\anaconda\\lib\\site-packages\\ipykernel\\__main__.py:7: SettingWithCopyWarning: \n",
      "A value is trying to be set on a copy of a slice from a DataFrame.\n",
      "Try using .loc[row_indexer,col_indexer] = value instead\n",
      "\n",
      "See the caveats in the documentation: http://pandas.pydata.org/pandas-docs/stable/indexing.html#indexing-view-versus-copy\n"
     ]
    },
    {
     "data": {
      "text/html": [
       "<div>\n",
       "<table border=\"1\" class=\"dataframe\">\n",
       "  <thead>\n",
       "    <tr style=\"text-align: right;\">\n",
       "      <th></th>\n",
       "      <th>city</th>\n",
       "      <th>country</th>\n",
       "      <th>day</th>\n",
       "      <th>followersCount</th>\n",
       "      <th>friendsCount</th>\n",
       "      <th>hour</th>\n",
       "      <th>id</th>\n",
       "      <th>inReplyTo</th>\n",
       "      <th>latitude</th>\n",
       "      <th>longitude</th>\n",
       "      <th>...</th>\n",
       "      <th>placeLatitude</th>\n",
       "      <th>placeLongitude</th>\n",
       "      <th>state</th>\n",
       "      <th>statusesCount</th>\n",
       "      <th>text</th>\n",
       "      <th>userId</th>\n",
       "      <th>userLocation</th>\n",
       "      <th>week_number</th>\n",
       "      <th>year</th>\n",
       "      <th>time</th>\n",
       "    </tr>\n",
       "  </thead>\n",
       "  <tbody>\n",
       "    <tr>\n",
       "      <th>551</th>\n",
       "      <td>Binningen</td>\n",
       "      <td>ch</td>\n",
       "      <td>9.0</td>\n",
       "      <td>14249</td>\n",
       "      <td>9260.0</td>\n",
       "      <td>18.0</td>\n",
       "      <td>10231423626</td>\n",
       "      <td>NaN</td>\n",
       "      <td>47.5455</td>\n",
       "      <td>7.58531</td>\n",
       "      <td>...</td>\n",
       "      <td>47.5367</td>\n",
       "      <td>7.57849</td>\n",
       "      <td>Basel-Landschaft</td>\n",
       "      <td>19585.0</td>\n",
       "      <td>The new apartment is nice, but there is no Wif...</td>\n",
       "      <td>6.25728e+06</td>\n",
       "      <td>Potsdam, Germany</td>\n",
       "      <td>10.0</td>\n",
       "      <td>2010.0</td>\n",
       "      <td>2010-03-09 18:00:00</td>\n",
       "    </tr>\n",
       "    <tr>\n",
       "      <th>609</th>\n",
       "      <td>Zürich</td>\n",
       "      <td>ch</td>\n",
       "      <td>10.0</td>\n",
       "      <td>177</td>\n",
       "      <td>136.0</td>\n",
       "      <td>22.0</td>\n",
       "      <td>10292646240</td>\n",
       "      <td>NaN</td>\n",
       "      <td>47.3876</td>\n",
       "      <td>8.52725</td>\n",
       "      <td>...</td>\n",
       "      <td>47.3791</td>\n",
       "      <td>8.50021</td>\n",
       "      <td>Zürich</td>\n",
       "      <td>5167.0</td>\n",
       "      <td>Is that wet yet solid stuff on my screen suppo...</td>\n",
       "      <td>1.5602e+07</td>\n",
       "      <td>Zürich, Switzerland</td>\n",
       "      <td>10.0</td>\n",
       "      <td>2010.0</td>\n",
       "      <td>2010-03-10 22:00:00</td>\n",
       "    </tr>\n",
       "    <tr>\n",
       "      <th>611</th>\n",
       "      <td>Genève</td>\n",
       "      <td>ch</td>\n",
       "      <td>11.0</td>\n",
       "      <td>471</td>\n",
       "      <td>82.0</td>\n",
       "      <td>5.0</td>\n",
       "      <td>10309829732</td>\n",
       "      <td>NaN</td>\n",
       "      <td>46.2006</td>\n",
       "      <td>6.13183</td>\n",
       "      <td>...</td>\n",
       "      <td>46.1996</td>\n",
       "      <td>6.13011</td>\n",
       "      <td>Genève</td>\n",
       "      <td>3363.0</td>\n",
       "      <td>I'm at DCTI - David Dufour in Geneva http://go...</td>\n",
       "      <td>625553</td>\n",
       "      <td>Geneva, Switzerland</td>\n",
       "      <td>10.0</td>\n",
       "      <td>2010.0</td>\n",
       "      <td>2010-03-11 05:00:00</td>\n",
       "    </tr>\n",
       "    <tr>\n",
       "      <th>612</th>\n",
       "      <td>Köniz</td>\n",
       "      <td>ch</td>\n",
       "      <td>11.0</td>\n",
       "      <td>586</td>\n",
       "      <td>508.0</td>\n",
       "      <td>6.0</td>\n",
       "      <td>10310391132</td>\n",
       "      <td>NaN</td>\n",
       "      <td>46.8957</td>\n",
       "      <td>7.44235</td>\n",
       "      <td>...</td>\n",
       "      <td>46.9214</td>\n",
       "      <td>7.38855</td>\n",
       "      <td>Bern - Berne</td>\n",
       "      <td>9016.0</td>\n",
       "      <td>God morgon! :-)</td>\n",
       "      <td>1.7341e+07</td>\n",
       "      <td>Bern, Switzerland</td>\n",
       "      <td>10.0</td>\n",
       "      <td>2010.0</td>\n",
       "      <td>2010-03-11 06:00:00</td>\n",
       "    </tr>\n",
       "    <tr>\n",
       "      <th>618</th>\n",
       "      <td>Genève</td>\n",
       "      <td>ch</td>\n",
       "      <td>11.0</td>\n",
       "      <td>2230</td>\n",
       "      <td>387.0</td>\n",
       "      <td>7.0</td>\n",
       "      <td>10311568050</td>\n",
       "      <td>NaN</td>\n",
       "      <td>46.2043</td>\n",
       "      <td>6.19900</td>\n",
       "      <td>...</td>\n",
       "      <td>46.1938</td>\n",
       "      <td>6.15415</td>\n",
       "      <td>Genève</td>\n",
       "      <td>10605.0</td>\n",
       "      <td>At this very minute, the sun is pink.</td>\n",
       "      <td>634553</td>\n",
       "      <td>Geneva, Switzerland</td>\n",
       "      <td>10.0</td>\n",
       "      <td>2010.0</td>\n",
       "      <td>2010-03-11 07:00:00</td>\n",
       "    </tr>\n",
       "  </tbody>\n",
       "</table>\n",
       "<p>5 rows × 21 columns</p>\n",
       "</div>"
      ],
      "text/plain": [
       "          city country   day followersCount  friendsCount  hour           id  \\\n",
       "551  Binningen      ch   9.0          14249        9260.0  18.0  10231423626   \n",
       "609     Zürich      ch  10.0            177         136.0  22.0  10292646240   \n",
       "611     Genève      ch  11.0            471          82.0   5.0  10309829732   \n",
       "612      Köniz      ch  11.0            586         508.0   6.0  10310391132   \n",
       "618     Genève      ch  11.0           2230         387.0   7.0  10311568050   \n",
       "\n",
       "     inReplyTo latitude  longitude         ...          placeLatitude  \\\n",
       "551        NaN  47.5455    7.58531         ...                47.5367   \n",
       "609        NaN  47.3876    8.52725         ...                47.3791   \n",
       "611        NaN  46.2006    6.13183         ...                46.1996   \n",
       "612        NaN  46.8957    7.44235         ...                46.9214   \n",
       "618        NaN  46.2043    6.19900         ...                46.1938   \n",
       "\n",
       "     placeLongitude             state statusesCount  \\\n",
       "551         7.57849  Basel-Landschaft       19585.0   \n",
       "609         8.50021            Zürich        5167.0   \n",
       "611         6.13011            Genève        3363.0   \n",
       "612         7.38855      Bern - Berne        9016.0   \n",
       "618         6.15415            Genève       10605.0   \n",
       "\n",
       "                                                  text       userId  \\\n",
       "551  The new apartment is nice, but there is no Wif...  6.25728e+06   \n",
       "609  Is that wet yet solid stuff on my screen suppo...   1.5602e+07   \n",
       "611  I'm at DCTI - David Dufour in Geneva http://go...       625553   \n",
       "612                                    God morgon! :-)   1.7341e+07   \n",
       "618              At this very minute, the sun is pink.       634553   \n",
       "\n",
       "            userLocation week_number    year                time  \n",
       "551     Potsdam, Germany        10.0  2010.0 2010-03-09 18:00:00  \n",
       "609  Zürich, Switzerland        10.0  2010.0 2010-03-10 22:00:00  \n",
       "611  Geneva, Switzerland        10.0  2010.0 2010-03-11 05:00:00  \n",
       "612    Bern, Switzerland        10.0  2010.0 2010-03-11 06:00:00  \n",
       "618  Geneva, Switzerland        10.0  2010.0 2010-03-11 07:00:00  \n",
       "\n",
       "[5 rows x 21 columns]"
      ]
     },
     "execution_count": 8,
     "metadata": {},
     "output_type": "execute_result"
    }
   ],
   "source": [
    "import time\n",
    "import datetime\n",
    "\n",
    "t_count=user[['year','month','day','hour']]\n",
    "temp=pd.to_datetime(t_count)\n",
    "temp.head()\n",
    "user['time']=temp\n",
    "user.head()"
   ]
  },
  {
   "cell_type": "markdown",
   "metadata": {},
   "source": [
    "Check and drop NaT (for our calculation accurately in hour, something bad may happen)."
   ]
  },
  {
   "cell_type": "code",
   "execution_count": 9,
   "metadata": {
    "collapsed": true
   },
   "outputs": [],
   "source": [
    "# velticity calculation, miles per hour\n",
    "from geopy.distance import vincenty \n",
    "\n",
    "def speed(loc1, loc2, t1, t2):\n",
    "    d = vincenty(loc1,loc2).miles\n",
    "    dt = t2-t1\n",
    "    dh = dt.seconds/3600.0 #to_hours\n",
    "    if dh :\n",
    "        return d/dh \n",
    "    else: #within one hour, assume it travels within half an hour\n",
    "        return d/0.5"
   ]
  },
  {
   "cell_type": "code",
   "execution_count": 10,
   "metadata": {
    "code_folding": [],
    "collapsed": false
   },
   "outputs": [],
   "source": [
    "#ref: Exploring Multi-Scale Spatiotemporal Twitter User Mobility Patterns with a Visual-Analytics Approach\n",
    "#Space-Time Twitter User Trajectories\n",
    "#To remove non-human users based on unusual relocating speed: e.g. speed (loc_i − loc_i−1) > 240 m/s\n",
    "\n",
    "#Travelling in Switzerland mainly takes train(despite some ones take flight)\n",
    "#Data are in time-order, so the location is continuously changed\n",
    "#Since we clean the data before, time is accurate to hour, so we set a loose thedshold like 200 mils/h \n",
    "\n",
    "\n",
    "#remove non-human user\n",
    "def human_user(c_tuple, speed_thed=200):\n",
    "    lon,lan,t = tuple(zip(*c_tuple))\n",
    "    point = list(zip(lan,lon))\n",
    "    normal=[True]*(len(c_tuple))\n",
    "    \n",
    "    if len(c_tuple) == 1:\n",
    "        normal = [False]*(len(c_tuple)) # remove only one tweet\n",
    "    if len(c_tuple) == 2 :\n",
    "        v = speed(point[0],point[1],t[0],t[1])\n",
    "        if v > speed_thed:\n",
    "            normal = [False]*(len(c_tuple))\n",
    "    else:\n",
    "        loc1 = point[0:-2]\n",
    "        loc2 = point[1:-1]\n",
    "        loc3 = point[2::]\n",
    "        #Using geopy's vincenty to find distances in pandas data frame\n",
    "        for i in range(len(loc1)):\n",
    "            v1_2=speed(loc2[i],loc1[i],t[i],t[i+1])\n",
    "            v2_3=speed(loc2[i],loc3[i],t[i+1],t[i+2])\n",
    "            v1_3=speed(loc1[i],loc3[i],t[i],t[i+2])\n",
    "        \n",
    "            # Check if loc1 is a normal location with reasonable speed\n",
    "            # If there is something wrong with loc1->loc2, we check loc2->loc3 & loc1->loc3 to ensure if loc2/3 is wrong\n",
    "        \n",
    "            if v1_2 > speed_thed: # loc1->loc2 innormal\n",
    "                if v2_3 > speed_thed: # loc2->loc1/3 innormal -> loc2 innormal\n",
    "                    normal[i+1]=False \n",
    "                    if v1_3 > speed_thed: # loc1->loc2/3 innormal -> loc1 innormal\n",
    "                        normal[i]=False \n",
    "                        if i == len(loc1)-1: # last index with all wrong\n",
    "                            normal[i+2]=False\n",
    "                else: # loc1->loc2 innormal, loc2->loc1/3 normal -> loc2 normal, loc1 innormal\n",
    "                    normal[i]=False\n",
    "            else: # loc1->loc2 normal\n",
    "                if v2_3 > speed_thed:\n",
    "                    if v1_3 > speed_thed: # loc3->loc1/2 innormal -> loc3 innormal\n",
    "                        normal[i+2]=False\n",
    "                    else:\n",
    "                        if (i == len(loc1)-1): # last index, just loc2->loc3 innormal -> loc2 innormal\n",
    "                            normal[i+1]=False\n",
    "        \n",
    "    return normal"
   ]
  },
  {
   "cell_type": "code",
   "execution_count": 11,
   "metadata": {
    "collapsed": false
   },
   "outputs": [
    {
     "name": "stderr",
     "output_type": "stream",
     "text": [
      "D:\\anaconda\\lib\\site-packages\\ipykernel\\__main__.py:4: SettingWithCopyWarning: \n",
      "A value is trying to be set on a copy of a slice from a DataFrame.\n",
      "Try using .loc[row_indexer,col_indexer] = value instead\n",
      "\n",
      "See the caveats in the documentation: http://pandas.pydata.org/pandas-docs/stable/indexing.html#indexing-view-versus-copy\n"
     ]
    }
   ],
   "source": [
    "#twitter_user=twitter_data.groupby(twitter_data['userId'])\n",
    "#.order(ascending=True)\n",
    "user_trace=['userId','year','month','week_number','day']\n",
    "user['temp'] = tuple(zip(user['placeLatitude'],user['placeLongitude'],user['time']))\n",
    "normal = user.groupby(by=user_trace)['temp'].transform(lambda x: human_user(x))"
   ]
  },
  {
   "cell_type": "code",
   "execution_count": 13,
   "metadata": {
    "collapsed": false
   },
   "outputs": [
    {
     "data": {
      "text/plain": [
       "(10129731,)"
      ]
     },
     "execution_count": 13,
     "metadata": {},
     "output_type": "execute_result"
    }
   ],
   "source": [
    "normal.shape"
   ]
  },
  {
   "cell_type": "code",
   "execution_count": 14,
   "metadata": {
    "collapsed": false
   },
   "outputs": [
    {
     "data": {
      "text/plain": [
       "(10129731, 22)"
      ]
     },
     "execution_count": 14,
     "metadata": {},
     "output_type": "execute_result"
    }
   ],
   "source": [
    "user.shape"
   ]
  },
  {
   "cell_type": "code",
   "execution_count": 15,
   "metadata": {
    "collapsed": false
   },
   "outputs": [
    {
     "data": {
      "text/plain": [
       "(9044734, 22)"
      ]
     },
     "execution_count": 15,
     "metadata": {},
     "output_type": "execute_result"
    }
   ],
   "source": [
    "normal_user = user[normal].reset_index(drop=True)\n",
    "normal_user.shape"
   ]
  },
  {
   "cell_type": "markdown",
   "metadata": {},
   "source": [
    "# Store trace\n",
    "\n",
    "Next,we hope to define daily trace of every user."
   ]
  },
  {
   "cell_type": "code",
   "execution_count": 16,
   "metadata": {
    "collapsed": false
   },
   "outputs": [],
   "source": [
    "# Since tweets are in time order, we can just store daily trace by apprending locations(canton)\n",
    "\n",
    "def daily_trace(r_location):\n",
    "    start=r_location.values[0:-1]\n",
    "    end=r_location.values[1::]\n",
    "    index=(start!=end)\n",
    "    trace=np.nan\n",
    "    \n",
    "    if index.any(): # Remove inner-canton trace \n",
    "        trace='->'.join(start[index])\n",
    "        trace='->'.join([trace,end[index][-1]])\n",
    "        \n",
    "    return trace    \n",
    "    "
   ]
  },
  {
   "cell_type": "code",
   "execution_count": 17,
   "metadata": {
    "collapsed": false
   },
   "outputs": [],
   "source": [
    "user_dtrace = normal_user.groupby(by=user_trace)['state'].apply(lambda x: daily_trace(x))\n"
   ]
  },
  {
   "cell_type": "code",
   "execution_count": 18,
   "metadata": {
    "collapsed": false
   },
   "outputs": [
    {
     "data": {
      "text/plain": [
       "userId  year    month  week_number  day \n",
       "246.0   2012.0  12.0   51.0         23.0                     Luzern->Uri\n",
       "1102.0  2013.0  12.0   52.0         26.0             Zürich->Uri->Zürich\n",
       "1497.0  2015.0  9.0    38.0         15.0    Bern - Berne->Aargau->Zürich\n",
       "1775.0  2015.0  6.0    25.0         21.0                  Ticino->Zürich\n",
       "2397.0  2011.0  10.0   42.0         18.0                    Genève->Vaud\n",
       "Name: state, dtype: object"
      ]
     },
     "execution_count": 18,
     "metadata": {},
     "output_type": "execute_result"
    }
   ],
   "source": [
    "user_dtrace=user_dtrace.dropna()\n",
    "user_dtrace.head()"
   ]
  },
  {
   "cell_type": "code",
   "execution_count": 19,
   "metadata": {
    "collapsed": false
   },
   "outputs": [],
   "source": [
    "with open ( \"state_mov_all.pkl\", \"wb\" ) as output:\n",
    "    pickle.dump(temp, output, pickle.HIGHEST_PROTOCOL)"
   ]
  },
  {
   "cell_type": "code",
   "execution_count": 20,
   "metadata": {
    "collapsed": false
   },
   "outputs": [
    {
     "data": {
      "text/plain": [
       "(120960,)"
      ]
     },
     "execution_count": 20,
     "metadata": {},
     "output_type": "execute_result"
    }
   ],
   "source": [
    "user_dtrace.shape"
   ]
  },
  {
   "cell_type": "code",
   "execution_count": 22,
   "metadata": {
    "collapsed": true
   },
   "outputs": [],
   "source": [
    "user_dtrace.to_csv('daily_trace1.csv')"
   ]
  },
  {
   "cell_type": "code",
   "execution_count": null,
   "metadata": {
    "collapsed": true
   },
   "outputs": [],
   "source": []
  }
 ],
 "metadata": {
  "anaconda-cloud": {},
  "kernelspec": {
   "display_name": "Python [default]",
   "language": "python",
   "name": "python3"
  },
  "language_info": {
   "codemirror_mode": {
    "name": "ipython",
    "version": 3
   },
   "file_extension": ".py",
   "mimetype": "text/x-python",
   "name": "python",
   "nbconvert_exporter": "python",
   "pygments_lexer": "ipython3",
   "version": "3.5.2"
  },
  "latex_envs": {
   "LaTeX_envs_menu_present": true,
   "bibliofile": "biblio.bib",
   "cite_by": "apalike",
   "current_citInitial": 1,
   "eqLabelWithNumbers": true,
   "eqNumInitial": 1,
   "labels_anchors": false,
   "latex_user_defs": false,
   "report_style_numbering": false,
   "user_envs_cfg": false
  },
  "toc": {
   "colors": {
    "hover_highlight": "#DAA520",
    "running_highlight": "#FF0000",
    "selected_highlight": "#FFD700"
   },
   "nav_menu": {
    "height": "12px",
    "width": "252px"
   },
   "navigate_menu": true,
   "number_sections": true,
   "sideBar": true,
   "threshold": 4,
   "toc_cell": false,
   "toc_section_display": "block",
   "toc_window_display": false
  }
 },
 "nbformat": 4,
 "nbformat_minor": 1
}
