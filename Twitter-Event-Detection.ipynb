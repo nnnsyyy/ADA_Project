{
 "cells": [
  {
   "cell_type": "markdown",
   "metadata": {},
   "source": [
    "# Event detection from Twitter\n",
    "> The aim of this project is to use geolocated tweets to identify the travelling patterns across the Swiss-border. We will consider the radius of gyration (ROG) to measure the distance convered by the users over a period of time. The reference point for each user will be chosen as the location at which the most frequent geo-located tweets were made. We will query individual tweets to decide the end points for the ROG. This will be categoried by the journeys made between cities and also on a temporal basis to demonstrate the dynamic changes over a period of time."
   ]
  },
  {
   "cell_type": "markdown",
   "metadata": {},
   "source": [
    "# Overview"
   ]
  },
  {
   "cell_type": "markdown",
   "metadata": {},
   "source": [
    "## What is event?"
   ]
  },
  {
   "cell_type": "markdown",
   "metadata": {
    "collapsed": true
   },
   "source": [
    "An event is an abstract idea which has a topic, a temporal dimension, and a set of entities such as location, person, organization etc associated with it"
   ]
  },
  {
   "cell_type": "markdown",
   "metadata": {},
   "source": [
    "## How to detect events?"
   ]
  },
  {
   "cell_type": "markdown",
   "metadata": {},
   "source": [
    "..."
   ]
  },
  {
   "cell_type": "markdown",
   "metadata": {},
   "source": [
    "# Literature review"
   ]
  },
  {
   "cell_type": "markdown",
   "metadata": {},
   "source": [
    "Papers or projects:\n",
    "* Supervised learning\n",
    " * Geo-spatial Event Detection in the Twitter Stream\n",
    " * ... TO ADD\n",
    "* Unsupervised learning\n",
    " * https://github.com/harshil93/Event-Detection-and-Clustering-for-Twitter\n",
    " * ... TO ADD\n",
    "\n"
   ]
  },
  {
   "cell_type": "markdown",
   "metadata": {},
   "source": [
    "# Load Data"
   ]
  },
  {
   "cell_type": "markdown",
   "metadata": {},
   "source": [
    "We start by reading in schema file and extracting the list of column names from it."
   ]
  },
  {
   "cell_type": "code",
   "execution_count": 1,
   "metadata": {
    "collapsed": true
   },
   "outputs": [],
   "source": [
    "import pandas as pd\n",
    "import numpy as np\n",
    "import csv"
   ]
  },
  {
   "cell_type": "code",
   "execution_count": 2,
   "metadata": {
    "collapsed": true
   },
   "outputs": [],
   "source": [
    "schema_path = 'data/twitter-swisscom/schema.txt'\n",
    "schema = pd.read_csv(schema_path, header=None)"
   ]
  },
  {
   "cell_type": "code",
   "execution_count": 3,
   "metadata": {
    "collapsed": true
   },
   "outputs": [],
   "source": [
    "# extract columns\n",
    "columns = []\n",
    "# for row in schema.row:\n",
    "for index, row in schema.iterrows():\n",
    "    entries = row.loc[0].split(\" \")\n",
    "    entries_filt = list(filter(('').__ne__, entries))\n",
    "    columns.append(entries_filt[1])"
   ]
  },
  {
   "cell_type": "code",
   "execution_count": 4,
   "metadata": {
    "collapsed": false
   },
   "outputs": [
    {
     "data": {
      "text/plain": [
       "20"
      ]
     },
     "execution_count": 4,
     "metadata": {},
     "output_type": "execute_result"
    }
   ],
   "source": [
    "len(columns)"
   ]
  },
  {
   "cell_type": "markdown",
   "metadata": {},
   "source": [
    "Then we read in the dataset, using sample.tsv rather than twex.tsv for now.  \n",
    "For some unknown reason, I failed to split sample dataset by '\\t'. It gave somewhat weird output with only 10 columns. As a temporary workaround, I subsituted all occurrences of '\\t' for ',,,,,'  in sample dataset and saved it as sample-workaround.tsv. "
   ]
  },
  {
   "cell_type": "code",
   "execution_count": 5,
   "metadata": {
    "collapsed": false
   },
   "outputs": [
    {
     "name": "stderr",
     "output_type": "stream",
     "text": [
      "/opt/anaconda3/lib/python3.5/site-packages/ipykernel/__main__.py:2: ParserWarning: Falling back to the 'python' engine because the 'c' engine does not support regex separators; you can avoid this warning by specifying engine='python'.\n",
      "  from ipykernel import kernelapp as app\n"
     ]
    },
    {
     "data": {
      "text/plain": [
       "(9999, 20)"
      ]
     },
     "execution_count": 5,
     "metadata": {},
     "output_type": "execute_result"
    }
   ],
   "source": [
    "data_path = 'data/twitter-swisscom/sample-workaround.tsv'\n",
    "df= pd.read_csv(data_path, sep=',,,,,', encoding='utf-8', quoting=csv.QUOTE_NONE, header=None, na_values=\"\\\\N\", names=columns)\n",
    "df.shape"
   ]
  },
  {
   "cell_type": "code",
   "execution_count": 6,
   "metadata": {
    "collapsed": false,
    "scrolled": true
   },
   "outputs": [
    {
     "data": {
      "text/html": [
       "<div>\n",
       "<table border=\"1\" class=\"dataframe\">\n",
       "  <thead>\n",
       "    <tr style=\"text-align: right;\">\n",
       "      <th></th>\n",
       "      <th>id</th>\n",
       "      <th>userId</th>\n",
       "      <th>createdAt</th>\n",
       "      <th>text</th>\n",
       "      <th>longitude</th>\n",
       "      <th>latitude</th>\n",
       "      <th>placeId</th>\n",
       "      <th>inReplyTo</th>\n",
       "      <th>source</th>\n",
       "      <th>truncated</th>\n",
       "      <th>placeLatitude</th>\n",
       "      <th>placeLongitude</th>\n",
       "      <th>sourceName</th>\n",
       "      <th>sourceUrl</th>\n",
       "      <th>userName</th>\n",
       "      <th>screenName</th>\n",
       "      <th>followersCount</th>\n",
       "      <th>friendsCount</th>\n",
       "      <th>statusesCount</th>\n",
       "      <th>userLocation</th>\n",
       "    </tr>\n",
       "  </thead>\n",
       "  <tbody>\n",
       "    <tr>\n",
       "      <th>0</th>\n",
       "      <td>776522983837954049</td>\n",
       "      <td>7.354492e+17</td>\n",
       "      <td>2016-09-15 20:48:01</td>\n",
       "      <td>se lo dici tu... https://t.co/x7Qm1VHBKL</td>\n",
       "      <td>NaN</td>\n",
       "      <td>NaN</td>\n",
       "      <td>51c0e6b24c64e54e</td>\n",
       "      <td>NaN</td>\n",
       "      <td>1</td>\n",
       "      <td>\u0000</td>\n",
       "      <td>46.0027</td>\n",
       "      <td>8.96044</td>\n",
       "      <td>Twitter for iPhone</td>\n",
       "      <td>http://twitter.com/#!/download/iphone</td>\n",
       "      <td>plvtone filiae.</td>\n",
       "      <td>hazel_chb</td>\n",
       "      <td>146</td>\n",
       "      <td>110.0</td>\n",
       "      <td>28621</td>\n",
       "      <td>Earleen.</td>\n",
       "    </tr>\n",
       "    <tr>\n",
       "      <th>1</th>\n",
       "      <td>776523000636203010</td>\n",
       "      <td>2.741686e+09</td>\n",
       "      <td>2016-09-15 20:48:05</td>\n",
       "      <td>https://t.co/noYrTnqmg9</td>\n",
       "      <td>NaN</td>\n",
       "      <td>NaN</td>\n",
       "      <td>4e7c21fd2af027c6</td>\n",
       "      <td>NaN</td>\n",
       "      <td>1</td>\n",
       "      <td>\u0000</td>\n",
       "      <td>46.8131</td>\n",
       "      <td>8.22414</td>\n",
       "      <td>Twitter for iPhone</td>\n",
       "      <td>http://twitter.com/#!/download/iphone</td>\n",
       "      <td>samara</td>\n",
       "      <td>letisieg</td>\n",
       "      <td>755</td>\n",
       "      <td>2037.0</td>\n",
       "      <td>3771</td>\n",
       "      <td>Suisse</td>\n",
       "    </tr>\n",
       "    <tr>\n",
       "      <th>2</th>\n",
       "      <td>776523045200691200</td>\n",
       "      <td>4.352392e+08</td>\n",
       "      <td>2016-09-15 20:48:15</td>\n",
       "      <td>@BesacTof @Leonid_CCCP Tu dois t'engager en si...</td>\n",
       "      <td>NaN</td>\n",
       "      <td>NaN</td>\n",
       "      <td>12eb9b254faf37a3</td>\n",
       "      <td>7.765221e+17</td>\n",
       "      <td>5</td>\n",
       "      <td>\u0000</td>\n",
       "      <td>47.201</td>\n",
       "      <td>5.94082</td>\n",
       "      <td>Twitter for Android</td>\n",
       "      <td>http://twitter.com/download/android</td>\n",
       "      <td>lebrübrü❤</td>\n",
       "      <td>lebrubru</td>\n",
       "      <td>811</td>\n",
       "      <td>595.0</td>\n",
       "      <td>30191</td>\n",
       "      <td>Fontain</td>\n",
       "    </tr>\n",
       "    <tr>\n",
       "      <th>3</th>\n",
       "      <td>776523058404290560</td>\n",
       "      <td>5.032442e+08</td>\n",
       "      <td>2016-09-15 20:48:18</td>\n",
       "      <td>@Mno0or_Abyat اشوف مظاهرات على قانون العمل الج...</td>\n",
       "      <td>NaN</td>\n",
       "      <td>NaN</td>\n",
       "      <td>30bcd7f767b4041e</td>\n",
       "      <td>7.765216e+17</td>\n",
       "      <td>1</td>\n",
       "      <td>\u0000</td>\n",
       "      <td>45.8011</td>\n",
       "      <td>6.16552</td>\n",
       "      <td>Twitter for iPhone</td>\n",
       "      <td>http://twitter.com/#!/download/iphone</td>\n",
       "      <td>عبدالله القنيص</td>\n",
       "      <td>bingnais</td>\n",
       "      <td>28433</td>\n",
       "      <td>417.0</td>\n",
       "      <td>12262</td>\n",
       "      <td>Shargeyah</td>\n",
       "    </tr>\n",
       "    <tr>\n",
       "      <th>4</th>\n",
       "      <td>776523058504925185</td>\n",
       "      <td>4.528053e+08</td>\n",
       "      <td>2016-09-15 20:48:18</td>\n",
       "      <td>Greek night #geneve (@ Emilios in Genève) http...</td>\n",
       "      <td>6.14414</td>\n",
       "      <td>46.1966</td>\n",
       "      <td>c3a6437e1b1a726d</td>\n",
       "      <td>NaN</td>\n",
       "      <td>3</td>\n",
       "      <td>\u0000</td>\n",
       "      <td>46.2048</td>\n",
       "      <td>6.14319</td>\n",
       "      <td>foursquare</td>\n",
       "      <td>http://foursquare.com</td>\n",
       "      <td>Alkan Şenli</td>\n",
       "      <td>Alkanoli</td>\n",
       "      <td>204</td>\n",
       "      <td>172.0</td>\n",
       "      <td>3390</td>\n",
       "      <td>İstanbul/Burgazada</td>\n",
       "    </tr>\n",
       "  </tbody>\n",
       "</table>\n",
       "</div>"
      ],
      "text/plain": [
       "                   id        userId            createdAt  \\\n",
       "0  776522983837954049  7.354492e+17  2016-09-15 20:48:01   \n",
       "1  776523000636203010  2.741686e+09  2016-09-15 20:48:05   \n",
       "2  776523045200691200  4.352392e+08  2016-09-15 20:48:15   \n",
       "3  776523058404290560  5.032442e+08  2016-09-15 20:48:18   \n",
       "4  776523058504925185  4.528053e+08  2016-09-15 20:48:18   \n",
       "\n",
       "                                                text longitude latitude  \\\n",
       "0           se lo dici tu... https://t.co/x7Qm1VHBKL       NaN      NaN   \n",
       "1                            https://t.co/noYrTnqmg9       NaN      NaN   \n",
       "2  @BesacTof @Leonid_CCCP Tu dois t'engager en si...       NaN      NaN   \n",
       "3  @Mno0or_Abyat اشوف مظاهرات على قانون العمل الج...       NaN      NaN   \n",
       "4  Greek night #geneve (@ Emilios in Genève) http...   6.14414  46.1966   \n",
       "\n",
       "            placeId     inReplyTo source truncated placeLatitude  \\\n",
       "0  51c0e6b24c64e54e           NaN      1         \u0000       46.0027   \n",
       "1  4e7c21fd2af027c6           NaN      1         \u0000       46.8131   \n",
       "2  12eb9b254faf37a3  7.765221e+17      5         \u0000        47.201   \n",
       "3  30bcd7f767b4041e  7.765216e+17      1         \u0000       45.8011   \n",
       "4  c3a6437e1b1a726d           NaN      3         \u0000       46.2048   \n",
       "\n",
       "  placeLongitude           sourceName                              sourceUrl  \\\n",
       "0        8.96044   Twitter for iPhone  http://twitter.com/#!/download/iphone   \n",
       "1        8.22414   Twitter for iPhone  http://twitter.com/#!/download/iphone   \n",
       "2        5.94082  Twitter for Android    http://twitter.com/download/android   \n",
       "3        6.16552   Twitter for iPhone  http://twitter.com/#!/download/iphone   \n",
       "4        6.14319           foursquare                  http://foursquare.com   \n",
       "\n",
       "          userName screenName followersCount  friendsCount statusesCount  \\\n",
       "0  plvtone filiae.  hazel_chb            146         110.0         28621   \n",
       "1           samara   letisieg            755        2037.0          3771   \n",
       "2        lebrübrü❤   lebrubru            811         595.0         30191   \n",
       "3   عبدالله القنيص   bingnais          28433         417.0         12262   \n",
       "4      Alkan Şenli   Alkanoli            204         172.0          3390   \n",
       "\n",
       "         userLocation  \n",
       "0            Earleen.  \n",
       "1              Suisse  \n",
       "2             Fontain  \n",
       "3           Shargeyah  \n",
       "4  İstanbul/Burgazada  "
      ]
     },
     "execution_count": 6,
     "metadata": {},
     "output_type": "execute_result"
    }
   ],
   "source": [
    "df.head()"
   ]
  },
  {
   "cell_type": "markdown",
   "metadata": {},
   "source": [
    "# Explore data"
   ]
  },
  {
   "cell_type": "markdown",
   "metadata": {},
   "source": [
    "How many items miss longitude, latitude, or both?"
   ]
  },
  {
   "cell_type": "code",
   "execution_count": 7,
   "metadata": {
    "collapsed": false
   },
   "outputs": [
    {
     "data": {
      "text/plain": [
       "0.8538853885388539"
      ]
     },
     "execution_count": 7,
     "metadata": {},
     "output_type": "execute_result"
    }
   ],
   "source": [
    "# miss longitude\n",
    "len(df[df['longitude'].isnull()]) / len(df['longitude'])"
   ]
  },
  {
   "cell_type": "code",
   "execution_count": 8,
   "metadata": {
    "collapsed": false,
    "scrolled": true
   },
   "outputs": [
    {
     "data": {
      "text/plain": [
       "0.7928792879287929"
      ]
     },
     "execution_count": 8,
     "metadata": {},
     "output_type": "execute_result"
    }
   ],
   "source": [
    "# miss latitude\n",
    "len(df[df['latitude'].isnull()]) / len(df['latitude'])"
   ]
  },
  {
   "cell_type": "code",
   "execution_count": 9,
   "metadata": {
    "collapsed": false
   },
   "outputs": [
    {
     "data": {
      "text/plain": [
       "0.8541854185418541"
      ]
     },
     "execution_count": 9,
     "metadata": {},
     "output_type": "execute_result"
    }
   ],
   "source": [
    "# miss longitude or latitude\n",
    "len(df[df['longitude'].isnull() | df['latitude'].isnull()]) / df.shape[0]"
   ]
  },
  {
   "cell_type": "markdown",
   "metadata": {},
   "source": [
    "We can see from above that a high fraction of data misses (longitude, latitude). There are also some items that miss only one of longitude and latitude."
   ]
  },
  {
   "cell_type": "markdown",
   "metadata": {},
   "source": [
    "How many items miss placeLatitude, placeLongitude, or both?"
   ]
  },
  {
   "cell_type": "code",
   "execution_count": 10,
   "metadata": {
    "collapsed": false
   },
   "outputs": [
    {
     "data": {
      "text/plain": [
       "0.12091209120912091"
      ]
     },
     "execution_count": 10,
     "metadata": {},
     "output_type": "execute_result"
    }
   ],
   "source": [
    "# miss placeLatitude\n",
    "len(df[df['placeLatitude'].isnull()]) / df.shape[0]"
   ]
  },
  {
   "cell_type": "code",
   "execution_count": 11,
   "metadata": {
    "collapsed": false
   },
   "outputs": [
    {
     "data": {
      "text/plain": [
       "0.1273127312731273"
      ]
     },
     "execution_count": 11,
     "metadata": {},
     "output_type": "execute_result"
    }
   ],
   "source": [
    "# miss placeLongitude\n",
    "len(df[df['placeLongitude'].isnull()]) / df.shape[0]"
   ]
  },
  {
   "cell_type": "code",
   "execution_count": 12,
   "metadata": {
    "collapsed": false
   },
   "outputs": [
    {
     "data": {
      "text/plain": [
       "0.1273127312731273"
      ]
     },
     "execution_count": 12,
     "metadata": {},
     "output_type": "execute_result"
    }
   ],
   "source": [
    "# miss placeLatitude or placeLongitude\n",
    "len(df[df['placeLatitude'].isnull() | df['placeLongitude'].isnull()]) / df.shape[0]"
   ]
  },
  {
   "cell_type": "code",
   "execution_count": null,
   "metadata": {
    "collapsed": true
   },
   "outputs": [],
   "source": []
  },
  {
   "cell_type": "markdown",
   "metadata": {},
   "source": [
    "# Preprocess data"
   ]
  },
  {
   "cell_type": "markdown",
   "metadata": {},
   "source": [
    "Group tweets by coordinates with reduced precision"
   ]
  },
  {
   "cell_type": "code",
   "execution_count": null,
   "metadata": {
    "collapsed": false
   },
   "outputs": [],
   "source": [
    "def computeLongitude(row):\n",
    "    # TODO: how to convert string to nan?\n",
    "    # pd.to_numeric will keep strings\n",
    "    x = pd.to_numeric(row.longitude, errors='coerce')\n",
    "    return np.nan if pd.isnull(x) else round(float(x), 2)\n",
    "    \n",
    "df['derivedLongitude'] = df.apply(computeLongitude, axis=1)"
   ]
  },
  {
   "cell_type": "markdown",
   "metadata": {},
   "source": [
    "Remove tweets outside Switzerland"
   ]
  },
  {
   "cell_type": "markdown",
   "metadata": {},
   "source": [
    "Group tweets by date"
   ]
  },
  {
   "cell_type": "markdown",
   "metadata": {},
   "source": [
    "Create clusters of tweets by temporal & spatial similarity"
   ]
  },
  {
   "cell_type": "markdown",
   "metadata": {},
   "source": [
    "Create feature for machine learning:   \n",
    "language, location(latitude, longitude), time(day, time period), etc"
   ]
  },
  {
   "cell_type": "markdown",
   "metadata": {},
   "source": [
    "# Machine learning"
   ]
  },
  {
   "cell_type": "markdown",
   "metadata": {},
   "source": [
    "TODO: supervised learning or unsupervised learning?\n",
    "\n",
    "Supervised learning: predict if a cluster of tweets refer to an event?\n",
    "1. manually mark some clusters of tweets as containing an event or not.\n",
    "2. train model\n",
    "3. predict & find out clusters of tweets that contain events\n",
    "4. run topic modeling over those clusters to filter event-related tweets & find out the exact event\n",
    "\n",
    "Unsupervised learning\n",
    "1. find out topics with topic modeling\n",
    "2. filter out topics that are close in time and location, related to some entities, etc\n",
    "3. figure out events"
   ]
  },
  {
   "cell_type": "markdown",
   "metadata": {},
   "source": [
    "# Visualization\n",
    "Specify a date, display (location, event/list of tweets) in map? like https://www.youtube.com/watch?v=WGEjI0TvWnk  ?"
   ]
  },
  {
   "cell_type": "code",
   "execution_count": null,
   "metadata": {
    "collapsed": true
   },
   "outputs": [],
   "source": []
  }
 ],
 "metadata": {
  "anaconda-cloud": {},
  "kernelspec": {
   "display_name": "Python [conda root]",
   "language": "python",
   "name": "conda-root-py"
  },
  "language_info": {
   "codemirror_mode": {
    "name": "ipython",
    "version": 3
   },
   "file_extension": ".py",
   "mimetype": "text/x-python",
   "name": "python",
   "nbconvert_exporter": "python",
   "pygments_lexer": "ipython3",
   "version": "3.5.1"
  }
 },
 "nbformat": 4,
 "nbformat_minor": 1
}
