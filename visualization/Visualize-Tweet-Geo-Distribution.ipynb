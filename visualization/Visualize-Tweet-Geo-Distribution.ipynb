{
 "cells": [
  {
   "cell_type": "code",
   "execution_count": 1,
   "metadata": {
    "collapsed": true
   },
   "outputs": [],
   "source": [
    "import pandas as pd\n",
    "import numpy as np\n",
    "import csv\n",
    "import json\n",
    "import pickle\n",
    "import glob"
   ]
  },
  {
   "cell_type": "code",
   "execution_count": 2,
   "metadata": {
    "collapsed": false
   },
   "outputs": [],
   "source": [
    "DATA_PATH = 'data/twitter_swisscom_proc/xab_proc.p'\n",
    "df = pickle.load(open(DATA_PATH, \"rb\"))"
   ]
  },
  {
   "cell_type": "code",
   "execution_count": 3,
   "metadata": {
    "collapsed": false
   },
   "outputs": [
    {
     "data": {
      "text/html": [
       "<div>\n",
       "<table border=\"1\" class=\"dataframe\">\n",
       "  <thead>\n",
       "    <tr style=\"text-align: right;\">\n",
       "      <th></th>\n",
       "      <th>id</th>\n",
       "      <th>userId</th>\n",
       "      <th>text</th>\n",
       "      <th>longitude</th>\n",
       "      <th>latitude</th>\n",
       "      <th>inReplyTo</th>\n",
       "      <th>placeLatitude</th>\n",
       "      <th>placeLongitude</th>\n",
       "      <th>followersCount</th>\n",
       "      <th>friendsCount</th>\n",
       "      <th>statusesCount</th>\n",
       "      <th>userLocation</th>\n",
       "      <th>year</th>\n",
       "      <th>month</th>\n",
       "      <th>day</th>\n",
       "      <th>week_number</th>\n",
       "      <th>hour</th>\n",
       "      <th>city</th>\n",
       "      <th>state</th>\n",
       "      <th>country</th>\n",
       "    </tr>\n",
       "  </thead>\n",
       "  <tbody>\n",
       "    <tr>\n",
       "      <th>0</th>\n",
       "      <td>32613284024680448</td>\n",
       "      <td>14163152.0</td>\n",
       "      <td>@OzRose Mmm sounds good but what about the cru...</td>\n",
       "      <td>8.37146</td>\n",
       "      <td>47.4166</td>\n",
       "      <td>3.260837e+16</td>\n",
       "      <td>47.4177</td>\n",
       "      <td>8.36642</td>\n",
       "      <td>1479</td>\n",
       "      <td>1989.0</td>\n",
       "      <td>16506.0</td>\n",
       "      <td>47.416721,8.371345</td>\n",
       "      <td>2011.0</td>\n",
       "      <td>2.0</td>\n",
       "      <td>2.0</td>\n",
       "      <td>5.0</td>\n",
       "      <td>1.0</td>\n",
       "      <td>Spreitenbach</td>\n",
       "      <td>Aargau</td>\n",
       "      <td>ch</td>\n",
       "    </tr>\n",
       "    <tr>\n",
       "      <th>1</th>\n",
       "      <td>32613604750532608</td>\n",
       "      <td>14163152.0</td>\n",
       "      <td>@bonnyface @ozrose I had beans on toast and a ...</td>\n",
       "      <td>8.37146</td>\n",
       "      <td>47.4166</td>\n",
       "      <td>3.260811e+16</td>\n",
       "      <td>47.4177</td>\n",
       "      <td>8.36642</td>\n",
       "      <td>1479</td>\n",
       "      <td>1989.0</td>\n",
       "      <td>16506.0</td>\n",
       "      <td>47.416721,8.371345</td>\n",
       "      <td>2011.0</td>\n",
       "      <td>2.0</td>\n",
       "      <td>2.0</td>\n",
       "      <td>5.0</td>\n",
       "      <td>1.0</td>\n",
       "      <td>Spreitenbach</td>\n",
       "      <td>Aargau</td>\n",
       "      <td>ch</td>\n",
       "    </tr>\n",
       "    <tr>\n",
       "      <th>2</th>\n",
       "      <td>32626434933526529</td>\n",
       "      <td>626163.0</td>\n",
       "      <td>Raccoglie il team di @sketchin e parte per Gin...</td>\n",
       "      <td>8.97911</td>\n",
       "      <td>46.1504</td>\n",
       "      <td>NaN</td>\n",
       "      <td>46.1514</td>\n",
       "      <td>8.96538</td>\n",
       "      <td>4424</td>\n",
       "      <td>1255.0</td>\n",
       "      <td>6495.0</td>\n",
       "      <td>Akihabara, Tokyo</td>\n",
       "      <td>2011.0</td>\n",
       "      <td>2.0</td>\n",
       "      <td>2.0</td>\n",
       "      <td>5.0</td>\n",
       "      <td>2.0</td>\n",
       "      <td>Sant'Antonino</td>\n",
       "      <td>Ticino</td>\n",
       "      <td>ch</td>\n",
       "    </tr>\n",
       "    <tr>\n",
       "      <th>3</th>\n",
       "      <td>32661604424224768</td>\n",
       "      <td>5738252.0</td>\n",
       "      <td>Ils auraient pas pu mettre le matin plus tard ...</td>\n",
       "      <td>6.52611</td>\n",
       "      <td>46.7179</td>\n",
       "      <td>NaN</td>\n",
       "      <td>46.7226</td>\n",
       "      <td>6.55109</td>\n",
       "      <td>238</td>\n",
       "      <td>413.0</td>\n",
       "      <td>5148.0</td>\n",
       "      <td>Lausanne, Sweetzerland</td>\n",
       "      <td>2011.0</td>\n",
       "      <td>2.0</td>\n",
       "      <td>2.0</td>\n",
       "      <td>5.0</td>\n",
       "      <td>4.0</td>\n",
       "      <td>Orbe</td>\n",
       "      <td>Vaud</td>\n",
       "      <td>ch</td>\n",
       "    </tr>\n",
       "    <tr>\n",
       "      <th>4</th>\n",
       "      <td>32669683261898752</td>\n",
       "      <td>15993149.0</td>\n",
       "      <td>#curlingopenairSM in arosa. Das zelt steht.. D...</td>\n",
       "      <td>9.53027</td>\n",
       "      <td>46.8544</td>\n",
       "      <td>NaN</td>\n",
       "      <td>46.8532</td>\n",
       "      <td>9.53275</td>\n",
       "      <td>63</td>\n",
       "      <td>93.0</td>\n",
       "      <td>584.0</td>\n",
       "      <td>iPhone</td>\n",
       "      <td>2011.0</td>\n",
       "      <td>2.0</td>\n",
       "      <td>2.0</td>\n",
       "      <td>5.0</td>\n",
       "      <td>5.0</td>\n",
       "      <td>Chur</td>\n",
       "      <td>Graubünden - Grigioni - Grischun</td>\n",
       "      <td>ch</td>\n",
       "    </tr>\n",
       "  </tbody>\n",
       "</table>\n",
       "</div>"
      ],
      "text/plain": [
       "                  id      userId  \\\n",
       "0  32613284024680448  14163152.0   \n",
       "1  32613604750532608  14163152.0   \n",
       "2  32626434933526529    626163.0   \n",
       "3  32661604424224768   5738252.0   \n",
       "4  32669683261898752  15993149.0   \n",
       "\n",
       "                                                text  longitude  latitude  \\\n",
       "0  @OzRose Mmm sounds good but what about the cru...    8.37146   47.4166   \n",
       "1  @bonnyface @ozrose I had beans on toast and a ...    8.37146   47.4166   \n",
       "2  Raccoglie il team di @sketchin e parte per Gin...    8.97911   46.1504   \n",
       "3  Ils auraient pas pu mettre le matin plus tard ...    6.52611   46.7179   \n",
       "4  #curlingopenairSM in arosa. Das zelt steht.. D...    9.53027   46.8544   \n",
       "\n",
       "      inReplyTo  placeLatitude  placeLongitude followersCount  friendsCount  \\\n",
       "0  3.260837e+16        47.4177         8.36642           1479        1989.0   \n",
       "1  3.260811e+16        47.4177         8.36642           1479        1989.0   \n",
       "2           NaN        46.1514         8.96538           4424        1255.0   \n",
       "3           NaN        46.7226         6.55109            238         413.0   \n",
       "4           NaN        46.8532         9.53275             63          93.0   \n",
       "\n",
       "   statusesCount            userLocation    year  month  day  week_number  \\\n",
       "0        16506.0      47.416721,8.371345  2011.0    2.0  2.0          5.0   \n",
       "1        16506.0      47.416721,8.371345  2011.0    2.0  2.0          5.0   \n",
       "2         6495.0        Akihabara, Tokyo  2011.0    2.0  2.0          5.0   \n",
       "3         5148.0  Lausanne, Sweetzerland  2011.0    2.0  2.0          5.0   \n",
       "4          584.0                  iPhone  2011.0    2.0  2.0          5.0   \n",
       "\n",
       "   hour           city                             state country  \n",
       "0   1.0   Spreitenbach                            Aargau      ch  \n",
       "1   1.0   Spreitenbach                            Aargau      ch  \n",
       "2   2.0  Sant'Antonino                            Ticino      ch  \n",
       "3   4.0           Orbe                              Vaud      ch  \n",
       "4   5.0           Chur  Graubünden - Grigioni - Grischun      ch  "
      ]
     },
     "execution_count": 3,
     "metadata": {},
     "output_type": "execute_result"
    }
   ],
   "source": [
    "df.head()"
   ]
  },
  {
   "cell_type": "markdown",
   "metadata": {},
   "source": [
    "## Generate json file for visualization"
   ]
  },
  {
   "cell_type": "code",
   "execution_count": 4,
   "metadata": {
    "collapsed": true
   },
   "outputs": [],
   "source": [
    "def create_item(start, end, latitude, longitude, text):\n",
    "    item = {\"type\":\"Feature\",\"properties\":{\"start\":start, \"end\":end,\"size\":7, \"text\":text},\"geometry\":{\"type\":\"Point\", \"coordinates\":[latitude, longitude]}}\n",
    "    return item"
   ]
  },
  {
   "cell_type": "code",
   "execution_count": 5,
   "metadata": {
    "collapsed": false
   },
   "outputs": [
    {
     "name": "stdout",
     "output_type": "stream",
     "text": [
      "\n"
     ]
    }
   ],
   "source": [
    "items = []\n",
    "\n",
    "def gen_data(x):\n",
    "    start = \"{}-{}-{}\".format(int(x.year), int(x.month), int(x.day))\n",
    "    end = \"{}-{}-{}\".format(int(x.year), int(x.month), int(x.day)+1)\n",
    "    item = create_item(start, end, x.placeLongitude, x.placeLatitude, x.text)\n",
    "    items.append(item)\n",
    "    #return date\n",
    "\n",
    "df.apply(gen_data, axis=1)\n",
    "print()"
   ]
  },
  {
   "cell_type": "code",
   "execution_count": 6,
   "metadata": {
    "collapsed": false
   },
   "outputs": [
    {
     "data": {
      "text/plain": [
       "29805"
      ]
     },
     "execution_count": 6,
     "metadata": {},
     "output_type": "execute_result"
    }
   ],
   "source": [
    "len(items)"
   ]
  },
  {
   "cell_type": "code",
   "execution_count": 7,
   "metadata": {
    "collapsed": false
   },
   "outputs": [
    {
     "data": {
      "text/plain": [
       "[{'geometry': {'coordinates': [8.36642, 47.4177], 'type': 'Point'},\n",
       "  'properties': {'end': '2011-2-3',\n",
       "   'size': 7,\n",
       "   'start': '2011-2-2',\n",
       "   'text': '@OzRose Mmm sounds good but what about the crumbs?'},\n",
       "  'type': 'Feature'},\n",
       " {'geometry': {'coordinates': [8.36642, 47.4177], 'type': 'Point'},\n",
       "  'properties': {'end': '2011-2-3',\n",
       "   'size': 7,\n",
       "   'start': '2011-2-2',\n",
       "   'text': '@bonnyface @ozrose I had beans on toast and a cup of tea.'},\n",
       "  'type': 'Feature'}]"
      ]
     },
     "execution_count": 7,
     "metadata": {},
     "output_type": "execute_result"
    }
   ],
   "source": [
    "items[:2]"
   ]
  },
  {
   "cell_type": "code",
   "execution_count": 8,
   "metadata": {
    "collapsed": true
   },
   "outputs": [],
   "source": [
    "f = open(\"tweets.json\", \"w\")"
   ]
  },
  {
   "cell_type": "code",
   "execution_count": 9,
   "metadata": {
    "collapsed": false
   },
   "outputs": [
    {
     "data": {
      "text/plain": [
       "50"
      ]
     },
     "execution_count": 9,
     "metadata": {},
     "output_type": "execute_result"
    }
   ],
   "source": [
    "f.write('onLoadData({\"type\":\"FeatureCollection\",\"features\":')"
   ]
  },
  {
   "cell_type": "code",
   "execution_count": 10,
   "metadata": {
    "collapsed": false
   },
   "outputs": [],
   "source": [
    "json.dump(items[:6000], f)"
   ]
  },
  {
   "cell_type": "code",
   "execution_count": 11,
   "metadata": {
    "collapsed": false
   },
   "outputs": [],
   "source": [
    "f.write('});');"
   ]
  },
  {
   "cell_type": "code",
   "execution_count": 12,
   "metadata": {
    "collapsed": true
   },
   "outputs": [],
   "source": [
    "f.close();"
   ]
  },
  {
   "cell_type": "code",
   "execution_count": null,
   "metadata": {
    "collapsed": true
   },
   "outputs": [],
   "source": []
  }
 ],
 "metadata": {
  "anaconda-cloud": {},
  "kernelspec": {
   "display_name": "Python [conda root]",
   "language": "python",
   "name": "conda-root-py"
  },
  "language_info": {
   "codemirror_mode": {
    "name": "ipython",
    "version": 3
   },
   "file_extension": ".py",
   "mimetype": "text/x-python",
   "name": "python",
   "nbconvert_exporter": "python",
   "pygments_lexer": "ipython3",
   "version": "3.5.2"
  }
 },
 "nbformat": 4,
 "nbformat_minor": 1
}
