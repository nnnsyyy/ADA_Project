{
 "cells": [
  {
   "cell_type": "markdown",
   "metadata": {},
   "source": [
    "# Part I  Data Pre-processing\n",
    "\n",
    "## Pipeline Description\n",
    "\n",
    "Before analysing specific problems, raw tweets have to be pre-processed and cleaned:\n",
    "\n",
    "- File separation: Although the whole dataset is not very large, we cannot read the whole csv file locally (over 3GB) with pandas. Therefore, we separate it into over 500 small pickle files and last combine them into a pickle file.\n",
    "- Data cleaning: Filter redundent fileds and NaNs. \n",
    "- Data extraction: Format needed fields like time (separating createAt into year, month, week and day) and geographic information (using geo-coder to locate states and cities).\n",
    "\n",
    "## Implementation\n",
    "\n",
    "Notebook demo: \n",
    "- Data_cleaning.ipython\n",
    "\n",
    "Practical python file: \n",
    "- data_processing.py\n",
    "- geolocating_data.py\n",
    "- concatenate_dataframes.py"
   ]
  },
  {
   "cell_type": "markdown",
   "metadata": {},
   "source": [
    "\n",
    "# Part II  Movement Pattern Extraction\n",
    "\n",
    "## Pipeline Description\n",
    "\n",
    "In this part, we'd like to analyse the most popular cantons/routines of Switzerland (CH). According to existed works, there are mainly 3 methods to learn user behavior or mobility pattern:\n",
    "\n",
    "- Text-based/Content-based analysis\n",
    "- Geo-located information analysis\n",
    "- Hybrid analysis\n",
    "\n",
    "In addition, patterns can be learnt from individuals or groups. For convenience, we use the located infromation to learn individual movement pattern. Here is the model framework:\n",
    "\n",
    "- Data-preprocessing: \n",
    "   - Extract geo-location and time (year, month, day etc.)\n",
    "- Space-time Twitter user trajectories[1]: \n",
    "   - Save each tweet into tuple (userId,  loc (latitude and longitude), time)\n",
    "   - Filter valid movement (in reasonable speed)\n",
    "- Trace extraction: \n",
    "   - Figure out (daily) trace of each user\n",
    "   - Select (daily) trip (no inner-city trip)\n",
    "- Visualization with weighted polyline network\n",
    "\n",
    "\n",
    "## Implementation\n",
    "\n",
    "Notebook demo: \n",
    "- state mov.ipython\n",
    "- visualise trace\n",
    "\n",
    "Map HTML:\n",
    "- sample_trace.html (the code has been changed)\n",
    "- all_dtrace.html\n",
    "- all_dtrace_adjust.html (adjust the weight count)\n",
    "\n",
    "## Reference:\n",
    "[01] Exploring Multi-Scale Spatiotemporal Twitter User Mobility Patterns with a Visual-Analytics Approach"
   ]
  },
  {
   "cell_type": "code",
   "execution_count": null,
   "metadata": {
    "collapsed": true
   },
   "outputs": [],
   "source": []
  },
  {
   "cell_type": "code",
   "execution_count": null,
   "metadata": {
    "collapsed": true
   },
   "outputs": [],
   "source": []
  },
  {
   "cell_type": "code",
   "execution_count": null,
   "metadata": {
    "collapsed": true
   },
   "outputs": [],
   "source": []
  },
  {
   "cell_type": "code",
   "execution_count": null,
   "metadata": {
    "collapsed": true
   },
   "outputs": [],
   "source": []
  },
  {
   "cell_type": "code",
   "execution_count": null,
   "metadata": {
    "collapsed": true
   },
   "outputs": [],
   "source": []
  },
  {
   "cell_type": "code",
   "execution_count": null,
   "metadata": {
    "collapsed": true
   },
   "outputs": [],
   "source": []
  }
 ],
 "metadata": {
  "anaconda-cloud": {},
  "kernelspec": {
   "display_name": "Python [conda root]",
   "language": "python",
   "name": "conda-root-py"
  },
  "language_info": {
   "codemirror_mode": {
    "name": "ipython",
    "version": 3
   },
   "file_extension": ".py",
   "mimetype": "text/x-python",
   "name": "python",
   "nbconvert_exporter": "python",
   "pygments_lexer": "ipython3",
   "version": "3.5.2"
  },
  "latex_envs": {
   "LaTeX_envs_menu_present": true,
   "bibliofile": "biblio.bib",
   "cite_by": "apalike",
   "current_citInitial": 1,
   "eqLabelWithNumbers": true,
   "eqNumInitial": 1,
   "labels_anchors": false,
   "latex_user_defs": false,
   "report_style_numbering": false,
   "user_envs_cfg": false
  },
  "toc": {
   "colors": {
    "hover_highlight": "#DAA520",
    "running_highlight": "#FF0000",
    "selected_highlight": "#FFD700"
   },
   "nav_menu": {
    "height": "141px",
    "width": "252px"
   },
   "navigate_menu": true,
   "number_sections": true,
   "sideBar": true,
   "threshold": 4,
   "toc_cell": false,
   "toc_section_display": "block",
   "toc_window_display": false
  }
 },
 "nbformat": 4,
 "nbformat_minor": 1
}
