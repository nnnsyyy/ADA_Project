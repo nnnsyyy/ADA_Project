{
 "cells": [
  {
   "cell_type": "markdown",
   "metadata": {},
   "source": [
    "# Event detection from Twitter\n",
    "> The aim of this project is to use geolocated tweets to identify the travelling patterns across the Swiss-border. We will consider the radius of gyration (ROG) to measure the distance convered by the users over a period of time. The reference point for each user will be chosen as the location at which the most frequent geo-located tweets were made. We will query individual tweets to decide the end points for the ROG. This will be categoried by the journeys made between cities and also on a temporal basis to demonstrate the dynamic changes over a period of time."
   ]
  },
  {
   "cell_type": "markdown",
   "metadata": {},
   "source": [
    "# Overview"
   ]
  },
  {
   "cell_type": "markdown",
   "metadata": {},
   "source": [
    "## What is event?"
   ]
  },
  {
   "cell_type": "markdown",
   "metadata": {
    "collapsed": true
   },
   "source": [
    "An event is an abstract idea which has a topic, a temporal dimension, and a set of entities such as location, person, organization etc associated with it"
   ]
  },
  {
   "cell_type": "markdown",
   "metadata": {},
   "source": [
    "## How to detect events?"
   ]
  },
  {
   "cell_type": "markdown",
   "metadata": {},
   "source": [
    "..."
   ]
  },
  {
   "cell_type": "markdown",
   "metadata": {},
   "source": [
    "# Literature review"
   ]
  },
  {
   "cell_type": "markdown",
   "metadata": {},
   "source": [
    "Papers or projects:\n",
    "* Supervised learning\n",
    " * Geo-spatial Event Detection in the Twitter Stream\n",
    " * ... TO ADD\n",
    "* Unsupervised learning\n",
    " * https://github.com/harshil93/Event-Detection-and-Clustering-for-Twitter\n",
    " * ... TO ADD\n",
    "\n"
   ]
  },
  {
   "cell_type": "markdown",
   "metadata": {},
   "source": [
    "# Load Data"
   ]
  },
  {
   "cell_type": "markdown",
   "metadata": {},
   "source": [
    "We start by reading in schema file and extracting the list of column names from it."
   ]
  },
  {
   "cell_type": "code",
   "execution_count": 1,
   "metadata": {
    "collapsed": true
   },
   "outputs": [],
   "source": [
    "import pandas as pd\n",
    "import numpy as np\n",
    "import csv"
   ]
  },
  {
   "cell_type": "code",
   "execution_count": 2,
   "metadata": {
    "collapsed": true
   },
   "outputs": [],
   "source": [
    "schema_path = 'data/twitter-swisscom/schema.txt'\n",
    "schema = pd.read_csv(schema_path, header=None)"
   ]
  },
  {
   "cell_type": "code",
   "execution_count": 3,
   "metadata": {
    "collapsed": true
   },
   "outputs": [],
   "source": [
    "# extract columns\n",
    "columns = []\n",
    "# for row in schema.row:\n",
    "for index, row in schema.iterrows():\n",
    "    entries = row.loc[0].split(\" \")\n",
    "    entries_filt = list(filter(('').__ne__, entries))\n",
    "    columns.append(entries_filt[1])"
   ]
  },
  {
   "cell_type": "code",
   "execution_count": 4,
   "metadata": {
    "collapsed": false
   },
   "outputs": [
    {
     "data": {
      "text/plain": [
       "['id',\n",
       " 'userId',\n",
       " 'createdAt',\n",
       " 'text',\n",
       " 'longitude',\n",
       " 'latitude',\n",
       " 'placeId',\n",
       " 'inReplyTo',\n",
       " 'source',\n",
       " 'truncated',\n",
       " 'placeLatitude',\n",
       " 'placeLongitude',\n",
       " 'sourceName',\n",
       " 'sourceUrl',\n",
       " 'userName',\n",
       " 'screenName',\n",
       " 'followersCount',\n",
       " 'friendsCount',\n",
       " 'statusesCount',\n",
       " 'userLocation']"
      ]
     },
     "execution_count": 4,
     "metadata": {},
     "output_type": "execute_result"
    }
   ],
   "source": [
    "columns"
   ]
  },
  {
   "cell_type": "markdown",
   "metadata": {},
   "source": [
    "Then we read in the dataset, using sample.tsv rather than twex.tsv for now.  \n",
    "For some unknown reason, I failed to split sample dataset by '\\t'. It gave somewhat weird output with only 10 columns. As a temporary workaround, I subsituted all occurrences of '\\t' for ',,,,,'  in sample dataset and saved it as sample-workaround.tsv. "
   ]
  },
  {
   "cell_type": "code",
   "execution_count": 5,
   "metadata": {
    "collapsed": false
   },
   "outputs": [
    {
     "data": {
      "text/plain": [
       "(8790, 20)"
      ]
     },
     "execution_count": 5,
     "metadata": {},
     "output_type": "execute_result"
    }
   ],
   "source": [
    "data_path = 'data/twitter-swisscom/sample.tsv'\n",
    "df = pd.read_csv(data_path, sep=\"\\t\",encoding='utf-8', quoting=csv.QUOTE_NONE, header=None, escapechar='\\\\', na_values='N', names=columns)\n",
    "df.shape"
   ]
  },
  {
   "cell_type": "code",
   "execution_count": 6,
   "metadata": {
    "collapsed": false,
    "scrolled": false
   },
   "outputs": [
    {
     "data": {
      "text/html": [
       "<div>\n",
       "<table border=\"1\" class=\"dataframe\">\n",
       "  <thead>\n",
       "    <tr style=\"text-align: right;\">\n",
       "      <th></th>\n",
       "      <th>id</th>\n",
       "      <th>userId</th>\n",
       "      <th>createdAt</th>\n",
       "      <th>text</th>\n",
       "      <th>longitude</th>\n",
       "      <th>latitude</th>\n",
       "      <th>placeId</th>\n",
       "      <th>inReplyTo</th>\n",
       "      <th>source</th>\n",
       "      <th>truncated</th>\n",
       "      <th>placeLatitude</th>\n",
       "      <th>placeLongitude</th>\n",
       "      <th>sourceName</th>\n",
       "      <th>sourceUrl</th>\n",
       "      <th>userName</th>\n",
       "      <th>screenName</th>\n",
       "      <th>followersCount</th>\n",
       "      <th>friendsCount</th>\n",
       "      <th>statusesCount</th>\n",
       "      <th>userLocation</th>\n",
       "    </tr>\n",
       "  </thead>\n",
       "  <tbody>\n",
       "    <tr>\n",
       "      <th>0</th>\n",
       "      <td>776522983837954049</td>\n",
       "      <td>735449229028675584</td>\n",
       "      <td>2016-09-15 20:48:01</td>\n",
       "      <td>se lo dici tu... https://t.co/x7Qm1VHBKL</td>\n",
       "      <td>NaN</td>\n",
       "      <td>NaN</td>\n",
       "      <td>51c0e6b24c64e54e</td>\n",
       "      <td>NaN</td>\n",
       "      <td>1</td>\n",
       "      <td>NaN</td>\n",
       "      <td>46.0027</td>\n",
       "      <td>8.96044</td>\n",
       "      <td>Twitter for iPhone</td>\n",
       "      <td>http://twitter.com/#!/download/iphone</td>\n",
       "      <td>plvtone filiae.</td>\n",
       "      <td>hazel_chb</td>\n",
       "      <td>146</td>\n",
       "      <td>110</td>\n",
       "      <td>28621</td>\n",
       "      <td>Earleen.</td>\n",
       "    </tr>\n",
       "    <tr>\n",
       "      <th>1</th>\n",
       "      <td>776523000636203010</td>\n",
       "      <td>2741685639</td>\n",
       "      <td>2016-09-15 20:48:05</td>\n",
       "      <td>https://t.co/noYrTnqmg9</td>\n",
       "      <td>NaN</td>\n",
       "      <td>NaN</td>\n",
       "      <td>4e7c21fd2af027c6</td>\n",
       "      <td>NaN</td>\n",
       "      <td>1</td>\n",
       "      <td>NaN</td>\n",
       "      <td>46.8131</td>\n",
       "      <td>8.22414</td>\n",
       "      <td>Twitter for iPhone</td>\n",
       "      <td>http://twitter.com/#!/download/iphone</td>\n",
       "      <td>samara</td>\n",
       "      <td>letisieg</td>\n",
       "      <td>755</td>\n",
       "      <td>2037</td>\n",
       "      <td>3771</td>\n",
       "      <td>Suisse</td>\n",
       "    </tr>\n",
       "    <tr>\n",
       "      <th>2</th>\n",
       "      <td>776523045200691200</td>\n",
       "      <td>435239151</td>\n",
       "      <td>2016-09-15 20:48:15</td>\n",
       "      <td>@BesacTof @Leonid_CCCP Tu dois t'engager en si...</td>\n",
       "      <td>NaN</td>\n",
       "      <td>NaN</td>\n",
       "      <td>12eb9b254faf37a3</td>\n",
       "      <td>7.765221e+17</td>\n",
       "      <td>5</td>\n",
       "      <td>NaN</td>\n",
       "      <td>47.2010</td>\n",
       "      <td>5.94082</td>\n",
       "      <td>Twitter for Android</td>\n",
       "      <td>http://twitter.com/download/android</td>\n",
       "      <td>lebrübrü❤</td>\n",
       "      <td>lebrubru</td>\n",
       "      <td>811</td>\n",
       "      <td>595</td>\n",
       "      <td>30191</td>\n",
       "      <td>Fontain</td>\n",
       "    </tr>\n",
       "    <tr>\n",
       "      <th>3</th>\n",
       "      <td>776523058404290560</td>\n",
       "      <td>503244217</td>\n",
       "      <td>2016-09-15 20:48:18</td>\n",
       "      <td>@Mno0or_Abyat اشوف مظاهرات على قانون العمل الج...</td>\n",
       "      <td>NaN</td>\n",
       "      <td>NaN</td>\n",
       "      <td>30bcd7f767b4041e</td>\n",
       "      <td>7.765216e+17</td>\n",
       "      <td>1</td>\n",
       "      <td>NaN</td>\n",
       "      <td>45.8011</td>\n",
       "      <td>6.16552</td>\n",
       "      <td>Twitter for iPhone</td>\n",
       "      <td>http://twitter.com/#!/download/iphone</td>\n",
       "      <td>عبدالله القنيص</td>\n",
       "      <td>bingnais</td>\n",
       "      <td>28433</td>\n",
       "      <td>417</td>\n",
       "      <td>12262</td>\n",
       "      <td>Shargeyah</td>\n",
       "    </tr>\n",
       "    <tr>\n",
       "      <th>4</th>\n",
       "      <td>776523058504925185</td>\n",
       "      <td>452805259</td>\n",
       "      <td>2016-09-15 20:48:18</td>\n",
       "      <td>Greek night #geneve (@ Emilios in Genève) http...</td>\n",
       "      <td>6.14414</td>\n",
       "      <td>46.1966</td>\n",
       "      <td>c3a6437e1b1a726d</td>\n",
       "      <td>NaN</td>\n",
       "      <td>3</td>\n",
       "      <td>NaN</td>\n",
       "      <td>46.2048</td>\n",
       "      <td>6.14319</td>\n",
       "      <td>foursquare</td>\n",
       "      <td>http://foursquare.com</td>\n",
       "      <td>Alkan Şenli</td>\n",
       "      <td>Alkanoli</td>\n",
       "      <td>204</td>\n",
       "      <td>172</td>\n",
       "      <td>3390</td>\n",
       "      <td>İstanbul/Burgazada</td>\n",
       "    </tr>\n",
       "  </tbody>\n",
       "</table>\n",
       "</div>"
      ],
      "text/plain": [
       "                   id              userId            createdAt  \\\n",
       "0  776522983837954049  735449229028675584  2016-09-15 20:48:01   \n",
       "1  776523000636203010          2741685639  2016-09-15 20:48:05   \n",
       "2  776523045200691200           435239151  2016-09-15 20:48:15   \n",
       "3  776523058404290560           503244217  2016-09-15 20:48:18   \n",
       "4  776523058504925185           452805259  2016-09-15 20:48:18   \n",
       "\n",
       "                                                text  longitude  latitude  \\\n",
       "0           se lo dici tu... https://t.co/x7Qm1VHBKL        NaN       NaN   \n",
       "1                            https://t.co/noYrTnqmg9        NaN       NaN   \n",
       "2  @BesacTof @Leonid_CCCP Tu dois t'engager en si...        NaN       NaN   \n",
       "3  @Mno0or_Abyat اشوف مظاهرات على قانون العمل الج...        NaN       NaN   \n",
       "4  Greek night #geneve (@ Emilios in Genève) http...    6.14414   46.1966   \n",
       "\n",
       "            placeId     inReplyTo  source  truncated  placeLatitude  \\\n",
       "0  51c0e6b24c64e54e           NaN       1        NaN        46.0027   \n",
       "1  4e7c21fd2af027c6           NaN       1        NaN        46.8131   \n",
       "2  12eb9b254faf37a3  7.765221e+17       5        NaN        47.2010   \n",
       "3  30bcd7f767b4041e  7.765216e+17       1        NaN        45.8011   \n",
       "4  c3a6437e1b1a726d           NaN       3        NaN        46.2048   \n",
       "\n",
       "   placeLongitude           sourceName                              sourceUrl  \\\n",
       "0         8.96044   Twitter for iPhone  http://twitter.com/#!/download/iphone   \n",
       "1         8.22414   Twitter for iPhone  http://twitter.com/#!/download/iphone   \n",
       "2         5.94082  Twitter for Android    http://twitter.com/download/android   \n",
       "3         6.16552   Twitter for iPhone  http://twitter.com/#!/download/iphone   \n",
       "4         6.14319           foursquare                  http://foursquare.com   \n",
       "\n",
       "          userName screenName  followersCount  friendsCount  statusesCount  \\\n",
       "0  plvtone filiae.  hazel_chb             146           110          28621   \n",
       "1           samara   letisieg             755          2037           3771   \n",
       "2        lebrübrü❤   lebrubru             811           595          30191   \n",
       "3   عبدالله القنيص   bingnais           28433           417          12262   \n",
       "4      Alkan Şenli   Alkanoli             204           172           3390   \n",
       "\n",
       "         userLocation  \n",
       "0           Earleen.   \n",
       "1              Suisse  \n",
       "2             Fontain  \n",
       "3           Shargeyah  \n",
       "4  İstanbul/Burgazada  "
      ]
     },
     "execution_count": 6,
     "metadata": {},
     "output_type": "execute_result"
    }
   ],
   "source": [
    "df.head()"
   ]
  },
  {
   "cell_type": "markdown",
   "metadata": {},
   "source": [
    "# Explore data"
   ]
  },
  {
   "cell_type": "code",
   "execution_count": 7,
   "metadata": {
    "collapsed": false
   },
   "outputs": [
    {
     "data": {
      "text/plain": [
       "id                  int64\n",
       "userId              int64\n",
       "createdAt          object\n",
       "text               object\n",
       "longitude         float64\n",
       "latitude          float64\n",
       "placeId            object\n",
       "inReplyTo         float64\n",
       "source              int64\n",
       "truncated         float64\n",
       "placeLatitude     float64\n",
       "placeLongitude    float64\n",
       "sourceName         object\n",
       "sourceUrl          object\n",
       "userName           object\n",
       "screenName         object\n",
       "followersCount      int64\n",
       "friendsCount        int64\n",
       "statusesCount       int64\n",
       "userLocation       object\n",
       "dtype: object"
      ]
     },
     "execution_count": 7,
     "metadata": {},
     "output_type": "execute_result"
    }
   ],
   "source": [
    "df.dtypes"
   ]
  },
  {
   "cell_type": "markdown",
   "metadata": {},
   "source": [
    "How many items miss longitude, latitude, or both?"
   ]
  },
  {
   "cell_type": "code",
   "execution_count": 8,
   "metadata": {
    "collapsed": false
   },
   "outputs": [
    {
     "data": {
      "text/plain": [
       "0.823094425483504"
      ]
     },
     "execution_count": 8,
     "metadata": {},
     "output_type": "execute_result"
    }
   ],
   "source": [
    "# miss longitude\n",
    "len(df[df['longitude'].isnull()]) / len(df['longitude'])"
   ]
  },
  {
   "cell_type": "code",
   "execution_count": 9,
   "metadata": {
    "collapsed": false,
    "scrolled": true
   },
   "outputs": [
    {
     "data": {
      "text/plain": [
       "0.823094425483504"
      ]
     },
     "execution_count": 9,
     "metadata": {},
     "output_type": "execute_result"
    }
   ],
   "source": [
    "# miss latitude\n",
    "len(df[df['latitude'].isnull()]) / len(df['latitude'])"
   ]
  },
  {
   "cell_type": "code",
   "execution_count": 10,
   "metadata": {
    "collapsed": false
   },
   "outputs": [
    {
     "data": {
      "text/plain": [
       "0.823094425483504"
      ]
     },
     "execution_count": 10,
     "metadata": {},
     "output_type": "execute_result"
    }
   ],
   "source": [
    "# miss longitude or latitude\n",
    "len(df[df['longitude'].isnull() | df['latitude'].isnull()]) / df.shape[0]"
   ]
  },
  {
   "cell_type": "markdown",
   "metadata": {},
   "source": [
    "We can see from above that a high fraction of data misses (longitude, latitude). There are also some items that miss only one of longitude and latitude."
   ]
  },
  {
   "cell_type": "markdown",
   "metadata": {},
   "source": [
    "How many items miss placeLatitude, placeLongitude, or both?"
   ]
  },
  {
   "cell_type": "code",
   "execution_count": 11,
   "metadata": {
    "collapsed": false
   },
   "outputs": [
    {
     "data": {
      "text/plain": [
       "0.0"
      ]
     },
     "execution_count": 11,
     "metadata": {},
     "output_type": "execute_result"
    }
   ],
   "source": [
    "# miss placeLatitude\n",
    "len(df[df['placeLatitude'].isnull()]) / df.shape[0]"
   ]
  },
  {
   "cell_type": "code",
   "execution_count": 12,
   "metadata": {
    "collapsed": false
   },
   "outputs": [
    {
     "data": {
      "text/plain": [
       "0.0"
      ]
     },
     "execution_count": 12,
     "metadata": {},
     "output_type": "execute_result"
    }
   ],
   "source": [
    "# miss placeLongitude\n",
    "len(df[df['placeLongitude'].isnull()]) / df.shape[0]"
   ]
  },
  {
   "cell_type": "code",
   "execution_count": 13,
   "metadata": {
    "collapsed": false
   },
   "outputs": [
    {
     "data": {
      "text/plain": [
       "0.0"
      ]
     },
     "execution_count": 13,
     "metadata": {},
     "output_type": "execute_result"
    }
   ],
   "source": [
    "# miss placeLatitude or placeLongitude\n",
    "len(df[df['placeLatitude'].isnull() | df['placeLongitude'].isnull()]) / df.shape[0]"
   ]
  },
  {
   "cell_type": "markdown",
   "metadata": {},
   "source": [
    "Let's check the content of some tweets. We can see from below that many of them are not in English. French (and German?) are prevalent, which creates a challenge for event detection."
   ]
  },
  {
   "cell_type": "code",
   "execution_count": 14,
   "metadata": {
    "collapsed": false,
    "scrolled": true
   },
   "outputs": [
    {
     "data": {
      "text/plain": [
       "array(['se lo dici tu... https://t.co/x7Qm1VHBKL',\n",
       "       'https://t.co/noYrTnqmg9',\n",
       "       '@BesacTof @Leonid_CCCP Tu dois t\\'engager en signant précisément:\"Je partage les valeurs républicaines de la droite et du centre 1/2...',\n",
       "       '@Mno0or_Abyat اشوف مظاهرات على قانون العمل الجديد انا طلعت الصباح من هناك مافيه شي بس اشوف الأخبار قبل شوي المشكلة راجع بعد يومين !!',\n",
       "       'Greek night #geneve (@ Emilios in Genève) https://t.co/sEplW0Mcyz',\n",
       "       '@gregorypons #BusinessMontresVision https://t.co/T01r96nCfw',\n",
       "       'dillo https://t.co/hScjeZbi4c',\n",
       "       'Miii le voci nere.. Che meraviglia.. #XF10',\n",
       "       '@Manu_Aka_Manny Sorry ', 'Je veut ca https://t.co/NZpSScxQ70',\n",
       "       'seh https://t.co/HDbhb8yVma', 'Buenas noches',\n",
       "       'Am looking like a 2004 kid I swear you looking like you in your early40s.@Dremoapg she say make I nr touch her you be statue for Museum??',\n",
       "       \"Comunque se sei figa non c'è bisogno di caricare una foto giornaliera sui social, noi maschi non ce lo scordiamo mica eh \",\n",
       "       'Abus sexuels: la gym américaine dans la tourmente... https://t.co/8zEmko2AXK',\n",
       "       '@underdeskloser my paypal is insider85@windowslive.com for money request (5$), retweet when u get the cash',\n",
       "       \"That's a very interesting score. https://t.co/gp34IyCTlI\",\n",
       "       '// https://t.co/Yl5axt9w9x', 'https://t.co/Vjvk1YR3LV',\n",
       "       'Sexy https://t.co/V7Z48BiSZf',\n",
       "       '@ABSyst @realDonaldTrump Trump wäre um ein Vielfaches zerstörerischer als George W. Bush! Die USA ginge bankrott!  https://t.co/usxdS1zny0',\n",
       "       '❤ https://t.co/keGzpzb1xJ', 'cos https://t.co/CXlGuOcVkc',\n",
       "       'Day 15 #WhenWhyHowYouISF some of my rescued guinea pigs ',\n",
       "       '@LouleGribouille Oh putain ! xDD', nan, '#lugano',\n",
       "       \"Ma mère ce qu'elle m'a dit elle a grv raison enft\",\n",
       "       \"j'aime bien mon prof de droit, mais ses centaines de pages de cours en Comic sans MS, j'ai franchement du mal…\",\n",
       "       'Twitter il déconne la',\n",
       "       '@BesacTof @Leonid_CCCP \"...et je m’engage pour l’alternance afin de réussir le redressement de la France\" il y a \"et du centre\": je peux!2/2',\n",
       "       'The show must go on✈️',\n",
       "       '@10cri10 Hey! Did you get any news about your iPhone?',\n",
       "       'these comments on aoac videos \"yuna is the second choa, chanmi is the second jimin and hyejeong is the second seolhyun\" makes me so mad',\n",
       "       'Que \"férias\" foram estas ?!',\n",
       "       \"@El_Maestro68 meilleur son de l'album\",\n",
       "       'LIKE NO YUNA, CHANMI AND HYEJEONG ARE THE SECOND NO ONE',\n",
       "       \"Demain après midi je vais débarquer chez Apple pour prendre l'iPhone 7 je mais ma main à couper qu'il y auras plus de stock #iPhone7 #apple\",\n",
       "       'moi et @CreepyCaaat on sort ensemble',\n",
       "       'Hum anal fuck https://t.co/W6D5FnxRAD',\n",
       "       '@davidbaer @dkoller82 you should see the beard in real life -&gt; huge',\n",
       "       '#switzerland', '#mood https://t.co/GJjC11KDqF',\n",
       "       'ho scritto una cosa così brutta??',\n",
       "       '@newfIying no since they debuted before got7 even existed, they are a group of their own',\n",
       "       \"@Ask4Do je soignerai des ptites crottes d'amour de goss esh\",\n",
       "       '@tommyastrom #sporthuset Med många brutna omg &amp; andra ovissheter skulle vi kunna sortera en tabell efter [poäng/spelade matcher]. Rättvist.',\n",
       "       \"@MysTK_ l'indice, une souris !! faut être triz' pour pas trouver aussi ptdrrr\",\n",
       "       'Pourquoi tant de sujets si il est impossible de les développer?...  #LEmissionPolitique',\n",
       "       'I prefer Twitter night mode ', nan,\n",
       "       \"mais du coup c'est quoi la meilleure méthode pour gagner de l'argent facilement, la méthode suisse ou bavaroise?\",\n",
       "       \"@jamiegloor went for both, couldn't make up my mind \",\n",
       "       'Amazing run today! Lauterbrunnen ',\n",
       "       \"Réconfort ❤️ @ McDonald's Besancon Ecole Valentin https://t.co/4A67d0CRDI\",\n",
       "       'Erneut hab ich Tränen gelacht @neomagazin @janboehm https://t.co/iakvXbCHT6',\n",
       "       'Potrebbe vincere, è molto bravo.. #XF10',\n",
       "       '@maria_fragata we will and always a pleasure night night ',\n",
       "       'drunk thought: why whyyy whyyyyyyy are we the way we are ?????',\n",
       "       '@aalessandra 95% em todo o Brasil tb me parece muito. Mas comparando é uma campanha até modesta',\n",
       "       'Ma  vie se resume à \"Je mangeais je mange je mangerai \"',\n",
       "       '@aalessandra galera gasta na casa dos milhões',\n",
       "       \"Quand c'est pas drôle ce que Booba fait vous avez le droit de le dire hein bande de montons\",\n",
       "       'On était beaux il y a 37 ans! https://t.co/PLtjS9oEPx',\n",
       "       \"Des qu'elle a vu ses photos elle a direct compris\",\n",
       "       'https://t.co/0mlV4atLfQ #travel #nature #swiss #switzerland #vacation #holiday #photography #photooftheday #photo #rtw #thankfulthursday',\n",
       "       '@RoyalCrownShep @xangold dawwwwwww ',\n",
       "       \"'Esta vida que llevo sólo puedo aguantarla borracha'\",\n",
       "       \"The simplicity of achieving goals:\\n\\n1. Decide on a goal.\\n2. Map out what's required of you daily and/or weekly to reach that goal.\\n3. Do it.\",\n",
       "       \"@PaulRichardet YES !! Mon premier #vinocamp en simple participant, j'en ai tellement rêver : just enjoy ^^\",\n",
       "       '@napaskevicius huahuahua',\n",
       "       \"The complexity of achieving goals: We're human—prone to distraction+laziness.\\n\\nSolution? Recognize that. Get an accountabilibuddy. Conquer.\",\n",
       "       'DOÑA LETIZIA ORTIZ, Cristo Bendito  https://t.co/eh7LVRPqe4',\n",
       "       '@brommelia tipo quando?', 'ME GUSTAS TU ME GUSTAS TU',\n",
       "       '@WiiliamK_ fait des tutos cuisine sur snap ajoutez le tous',\n",
       "       \"J'ai perdu mon sac de gym avec mes chaussure, mon t-shirt de Cheer, mon leggings Adidas, et mon classeur d'allemand... Jai le seum\",\n",
       "       \"d'ailleurs on est toujours beaux. L'amour ça conserve! #suffitdycroire https://t.co/HNvnTjK9sR\",\n",
       "       \"The complexity of achieving goals:\\n\\nWe're human—prone to distraction+laziness.\\n\\nSolution? Recognize that. Get an accountabilibuddy. Conquer.\",\n",
       "       '@pagetwdouat https://t.co/4pIDlulM0u',\n",
       "       'Nice cock https://t.co/46oJSuWYnp',\n",
       "       \"Je comprends mieux l'annonce dans l'avion avant-hier interdisant d'utiliser un #GalaxyNote7 à bord ! https://t.co/UBleb4qIDZ\",\n",
       "       '@Gruener_Hase Abgabe-Partys sind die besten. Da kannst du dann nochmal feiern ',\n",
       "       '@kangseuIgists @newfIying LISTEN.',\n",
       "       'من افريقا لفلسطين\\nايد وحدة شابكين\\nصرخة وانقلاب مخيمات ولاجئين\\nمن افريقا لفلسطين\\nايد وحدة شابكين',\n",
       "       'Que des roles ce type ',\n",
       "       'non... non era mia intenzione.. https://t.co/EgqDZ230TC',\n",
       "       '@MonsieurBlu celle ci? https://t.co/GUTHxtfeH1',\n",
       "       'Best place ever. ❤️',\n",
       "       \"how can jjp be a subunit THEY ARE A GROUP OF THEIR OWN GOT7 WOULDN'T EXIST WITHOUT THEM\",\n",
       "       'Ah. The things you hear... ',\n",
       "       '@1tiffi1 @DJDESUE @siggismallz auf jeden Fall!! nice shit',\n",
       "       '@Mno0or_Abyat ',\n",
       "       'Arrived! #Geneva (@ Geneva Cointrin International Airport in Grand-Saconnex, GE) https://t.co/OIlEd0jQYF',\n",
       "       \"L'Hapoel Beer Sheva sembra il Barcellona\",\n",
       "       '@MarcSway https://t.co/OTHNGlZGI6',\n",
       "       \"En tout cas j'ai eu que des retours positifs ca me touche tlmt au fond dmoi mais ca me gene encore ahahah\",\n",
       "       \"since jype don't wanna give them a come back then IT WILL NEVER BE A SUB UNIT\",\n",
       "       'Le mien si y pleure pas au mariage je lui écrase le pied avec le ',\n",
       "       '3pumpkin spice lattes after and I am wide awake. No sleep tonight.'], dtype=object)"
      ]
     },
     "execution_count": 14,
     "metadata": {},
     "output_type": "execute_result"
    }
   ],
   "source": [
    "df['text'].values[:100]"
   ]
  },
  {
   "cell_type": "markdown",
   "metadata": {},
   "source": [
    "# Preprocess data"
   ]
  },
  {
   "cell_type": "markdown",
   "metadata": {},
   "source": [
    "Preprocess content of tweets: remove urls, .."
   ]
  },
  {
   "cell_type": "markdown",
   "metadata": {},
   "source": [
    "Group tweets by coordinates with reduced precision"
   ]
  },
  {
   "cell_type": "code",
   "execution_count": 15,
   "metadata": {
    "collapsed": false
   },
   "outputs": [],
   "source": [
    "def computeLongitude(row):\n",
    "    # TODO: how to convert string to nan?\n",
    "    # pd.to_numeric will keep strings\n",
    "    x = pd.to_numeric(row.longitude, errors='coerce')\n",
    "    return np.nan if pd.isnull(x) else round(float(x), 2)\n",
    "    \n",
    "df['derivedLongitude'] = df.apply(computeLongitude, axis=1)"
   ]
  },
  {
   "cell_type": "markdown",
   "metadata": {},
   "source": [
    "Remove tweets outside Switzerland"
   ]
  },
  {
   "cell_type": "markdown",
   "metadata": {},
   "source": [
    "Group tweets by date"
   ]
  },
  {
   "cell_type": "code",
   "execution_count": 16,
   "metadata": {
    "collapsed": false
   },
   "outputs": [
    {
     "data": {
      "text/html": [
       "<div>\n",
       "<table border=\"1\" class=\"dataframe\">\n",
       "  <thead>\n",
       "    <tr style=\"text-align: right;\">\n",
       "      <th></th>\n",
       "      <th>id</th>\n",
       "      <th>userId</th>\n",
       "      <th>createdAt</th>\n",
       "      <th>text</th>\n",
       "      <th>longitude</th>\n",
       "      <th>latitude</th>\n",
       "      <th>placeId</th>\n",
       "      <th>inReplyTo</th>\n",
       "      <th>source</th>\n",
       "      <th>truncated</th>\n",
       "      <th>...</th>\n",
       "      <th>placeLongitude</th>\n",
       "      <th>sourceName</th>\n",
       "      <th>sourceUrl</th>\n",
       "      <th>userName</th>\n",
       "      <th>screenName</th>\n",
       "      <th>followersCount</th>\n",
       "      <th>friendsCount</th>\n",
       "      <th>statusesCount</th>\n",
       "      <th>userLocation</th>\n",
       "      <th>derivedLongitude</th>\n",
       "    </tr>\n",
       "  </thead>\n",
       "  <tbody>\n",
       "    <tr>\n",
       "      <th>0</th>\n",
       "      <td>776522983837954049</td>\n",
       "      <td>735449229028675584</td>\n",
       "      <td>2016-09-15 20:48:01</td>\n",
       "      <td>se lo dici tu... https://t.co/x7Qm1VHBKL</td>\n",
       "      <td>NaN</td>\n",
       "      <td>NaN</td>\n",
       "      <td>51c0e6b24c64e54e</td>\n",
       "      <td>NaN</td>\n",
       "      <td>1</td>\n",
       "      <td>NaN</td>\n",
       "      <td>...</td>\n",
       "      <td>8.96044</td>\n",
       "      <td>Twitter for iPhone</td>\n",
       "      <td>http://twitter.com/#!/download/iphone</td>\n",
       "      <td>plvtone filiae.</td>\n",
       "      <td>hazel_chb</td>\n",
       "      <td>146</td>\n",
       "      <td>110</td>\n",
       "      <td>28621</td>\n",
       "      <td>Earleen.</td>\n",
       "      <td>NaN</td>\n",
       "    </tr>\n",
       "    <tr>\n",
       "      <th>1</th>\n",
       "      <td>776523000636203010</td>\n",
       "      <td>2741685639</td>\n",
       "      <td>2016-09-15 20:48:05</td>\n",
       "      <td>https://t.co/noYrTnqmg9</td>\n",
       "      <td>NaN</td>\n",
       "      <td>NaN</td>\n",
       "      <td>4e7c21fd2af027c6</td>\n",
       "      <td>NaN</td>\n",
       "      <td>1</td>\n",
       "      <td>NaN</td>\n",
       "      <td>...</td>\n",
       "      <td>8.22414</td>\n",
       "      <td>Twitter for iPhone</td>\n",
       "      <td>http://twitter.com/#!/download/iphone</td>\n",
       "      <td>samara</td>\n",
       "      <td>letisieg</td>\n",
       "      <td>755</td>\n",
       "      <td>2037</td>\n",
       "      <td>3771</td>\n",
       "      <td>Suisse</td>\n",
       "      <td>NaN</td>\n",
       "    </tr>\n",
       "    <tr>\n",
       "      <th>2</th>\n",
       "      <td>776523045200691200</td>\n",
       "      <td>435239151</td>\n",
       "      <td>2016-09-15 20:48:15</td>\n",
       "      <td>@BesacTof @Leonid_CCCP Tu dois t'engager en si...</td>\n",
       "      <td>NaN</td>\n",
       "      <td>NaN</td>\n",
       "      <td>12eb9b254faf37a3</td>\n",
       "      <td>7.765221e+17</td>\n",
       "      <td>5</td>\n",
       "      <td>NaN</td>\n",
       "      <td>...</td>\n",
       "      <td>5.94082</td>\n",
       "      <td>Twitter for Android</td>\n",
       "      <td>http://twitter.com/download/android</td>\n",
       "      <td>lebrübrü❤</td>\n",
       "      <td>lebrubru</td>\n",
       "      <td>811</td>\n",
       "      <td>595</td>\n",
       "      <td>30191</td>\n",
       "      <td>Fontain</td>\n",
       "      <td>NaN</td>\n",
       "    </tr>\n",
       "    <tr>\n",
       "      <th>3</th>\n",
       "      <td>776523058404290560</td>\n",
       "      <td>503244217</td>\n",
       "      <td>2016-09-15 20:48:18</td>\n",
       "      <td>@Mno0or_Abyat اشوف مظاهرات على قانون العمل الج...</td>\n",
       "      <td>NaN</td>\n",
       "      <td>NaN</td>\n",
       "      <td>30bcd7f767b4041e</td>\n",
       "      <td>7.765216e+17</td>\n",
       "      <td>1</td>\n",
       "      <td>NaN</td>\n",
       "      <td>...</td>\n",
       "      <td>6.16552</td>\n",
       "      <td>Twitter for iPhone</td>\n",
       "      <td>http://twitter.com/#!/download/iphone</td>\n",
       "      <td>عبدالله القنيص</td>\n",
       "      <td>bingnais</td>\n",
       "      <td>28433</td>\n",
       "      <td>417</td>\n",
       "      <td>12262</td>\n",
       "      <td>Shargeyah</td>\n",
       "      <td>NaN</td>\n",
       "    </tr>\n",
       "    <tr>\n",
       "      <th>4</th>\n",
       "      <td>776523058504925185</td>\n",
       "      <td>452805259</td>\n",
       "      <td>2016-09-15 20:48:18</td>\n",
       "      <td>Greek night #geneve (@ Emilios in Genève) http...</td>\n",
       "      <td>6.14414</td>\n",
       "      <td>46.1966</td>\n",
       "      <td>c3a6437e1b1a726d</td>\n",
       "      <td>NaN</td>\n",
       "      <td>3</td>\n",
       "      <td>NaN</td>\n",
       "      <td>...</td>\n",
       "      <td>6.14319</td>\n",
       "      <td>foursquare</td>\n",
       "      <td>http://foursquare.com</td>\n",
       "      <td>Alkan Şenli</td>\n",
       "      <td>Alkanoli</td>\n",
       "      <td>204</td>\n",
       "      <td>172</td>\n",
       "      <td>3390</td>\n",
       "      <td>İstanbul/Burgazada</td>\n",
       "      <td>6.14</td>\n",
       "    </tr>\n",
       "  </tbody>\n",
       "</table>\n",
       "<p>5 rows × 21 columns</p>\n",
       "</div>"
      ],
      "text/plain": [
       "                   id              userId            createdAt  \\\n",
       "0  776522983837954049  735449229028675584  2016-09-15 20:48:01   \n",
       "1  776523000636203010          2741685639  2016-09-15 20:48:05   \n",
       "2  776523045200691200           435239151  2016-09-15 20:48:15   \n",
       "3  776523058404290560           503244217  2016-09-15 20:48:18   \n",
       "4  776523058504925185           452805259  2016-09-15 20:48:18   \n",
       "\n",
       "                                                text  longitude  latitude  \\\n",
       "0           se lo dici tu... https://t.co/x7Qm1VHBKL        NaN       NaN   \n",
       "1                            https://t.co/noYrTnqmg9        NaN       NaN   \n",
       "2  @BesacTof @Leonid_CCCP Tu dois t'engager en si...        NaN       NaN   \n",
       "3  @Mno0or_Abyat اشوف مظاهرات على قانون العمل الج...        NaN       NaN   \n",
       "4  Greek night #geneve (@ Emilios in Genève) http...    6.14414   46.1966   \n",
       "\n",
       "            placeId     inReplyTo  source  truncated       ...         \\\n",
       "0  51c0e6b24c64e54e           NaN       1        NaN       ...          \n",
       "1  4e7c21fd2af027c6           NaN       1        NaN       ...          \n",
       "2  12eb9b254faf37a3  7.765221e+17       5        NaN       ...          \n",
       "3  30bcd7f767b4041e  7.765216e+17       1        NaN       ...          \n",
       "4  c3a6437e1b1a726d           NaN       3        NaN       ...          \n",
       "\n",
       "   placeLongitude           sourceName                              sourceUrl  \\\n",
       "0         8.96044   Twitter for iPhone  http://twitter.com/#!/download/iphone   \n",
       "1         8.22414   Twitter for iPhone  http://twitter.com/#!/download/iphone   \n",
       "2         5.94082  Twitter for Android    http://twitter.com/download/android   \n",
       "3         6.16552   Twitter for iPhone  http://twitter.com/#!/download/iphone   \n",
       "4         6.14319           foursquare                  http://foursquare.com   \n",
       "\n",
       "          userName screenName followersCount  friendsCount  statusesCount  \\\n",
       "0  plvtone filiae.  hazel_chb            146           110          28621   \n",
       "1           samara   letisieg            755          2037           3771   \n",
       "2        lebrübrü❤   lebrubru            811           595          30191   \n",
       "3   عبدالله القنيص   bingnais          28433           417          12262   \n",
       "4      Alkan Şenli   Alkanoli            204           172           3390   \n",
       "\n",
       "         userLocation derivedLongitude  \n",
       "0           Earleen.               NaN  \n",
       "1              Suisse              NaN  \n",
       "2             Fontain              NaN  \n",
       "3           Shargeyah              NaN  \n",
       "4  İstanbul/Burgazada             6.14  \n",
       "\n",
       "[5 rows x 21 columns]"
      ]
     },
     "execution_count": 16,
     "metadata": {},
     "output_type": "execute_result"
    }
   ],
   "source": [
    "df.head()"
   ]
  },
  {
   "cell_type": "code",
   "execution_count": 17,
   "metadata": {
    "collapsed": false
   },
   "outputs": [
    {
     "data": {
      "text/plain": [
       "0      2016-09-15 20:48:01\n",
       "1      2016-09-15 20:48:05\n",
       "2      2016-09-15 20:48:15\n",
       "3      2016-09-15 20:48:18\n",
       "4      2016-09-15 20:48:18\n",
       "5      2016-09-15 20:48:21\n",
       "6      2016-09-15 20:48:27\n",
       "7      2016-09-15 20:48:29\n",
       "8      2016-09-15 20:48:35\n",
       "9      2016-09-15 20:48:37\n",
       "10     2016-09-15 20:48:40\n",
       "11     2016-09-15 20:48:42\n",
       "12     2016-09-15 20:48:44\n",
       "13     2016-09-15 20:48:44\n",
       "14     2016-09-15 20:48:50\n",
       "15     2016-09-15 20:48:53\n",
       "16     2016-09-15 20:49:03\n",
       "17     2016-09-15 20:49:06\n",
       "18     2016-09-15 20:49:09\n",
       "19     2016-09-15 20:49:09\n",
       "20     2016-09-15 20:49:11\n",
       "21     2016-09-15 20:49:17\n",
       "22     2016-09-15 20:49:28\n",
       "23     2016-09-15 20:49:32\n",
       "24     2016-09-15 20:49:32\n",
       "25     2016-09-15 20:49:34\n",
       "26     2016-09-15 20:49:37\n",
       "27     2016-09-15 20:49:39\n",
       "28     2016-09-15 20:49:42\n",
       "29     2016-09-15 20:49:42\n",
       "               ...        \n",
       "8760   2016-09-16 16:32:13\n",
       "8761   2016-09-16 16:32:16\n",
       "8762   2016-09-16 16:32:20\n",
       "8763   2016-09-16 16:32:35\n",
       "8764   2016-09-16 16:32:40\n",
       "8765   2016-09-16 16:32:40\n",
       "8766   2016-09-16 16:32:43\n",
       "8767   2016-09-16 16:32:57\n",
       "8768   2016-09-16 16:32:58\n",
       "8769   2016-09-16 16:32:59\n",
       "8770   2016-09-16 16:33:12\n",
       "8771   2016-09-16 16:33:20\n",
       "8772   2016-09-16 16:33:26\n",
       "8773   2016-09-16 16:33:31\n",
       "8774   2016-09-16 16:33:41\n",
       "8775   2016-09-16 16:33:41\n",
       "8776   2016-09-16 16:33:52\n",
       "8777   2016-09-16 16:33:57\n",
       "8778   2016-09-16 16:33:59\n",
       "8779   2016-09-16 16:34:02\n",
       "8780   2016-09-16 16:34:11\n",
       "8781   2016-09-16 16:34:31\n",
       "8782   2016-09-16 16:34:39\n",
       "8783   2016-09-16 16:34:39\n",
       "8784   2016-09-16 16:34:47\n",
       "8785   2016-09-16 16:34:58\n",
       "8786   2016-09-16 16:35:03\n",
       "8787   2016-09-16 16:35:07\n",
       "8788   2016-09-16 16:35:10\n",
       "8789   2016-09-16 16:35:19\n",
       "Name: createdAt, dtype: datetime64[ns]"
      ]
     },
     "execution_count": 17,
     "metadata": {},
     "output_type": "execute_result"
    }
   ],
   "source": [
    "import csv\n",
    "\n",
    "pd.to_datetime(df.createdAt)"
   ]
  },
  {
   "cell_type": "markdown",
   "metadata": {},
   "source": [
    "Create clusters of tweets by temporal & spatial similarity"
   ]
  },
  {
   "cell_type": "markdown",
   "metadata": {},
   "source": [
    "Create feature for machine learning:   \n",
    "language, location(latitude, longitude), time(day, time period), etc"
   ]
  },
  {
   "cell_type": "markdown",
   "metadata": {},
   "source": [
    "# Machine learning"
   ]
  },
  {
   "cell_type": "markdown",
   "metadata": {},
   "source": [
    "TODO: supervised learning or unsupervised learning?\n",
    "\n",
    "Supervised learning: predict if a cluster of tweets refer to an event?\n",
    "1. manually mark some clusters of tweets as containing an event or not.\n",
    "2. train model\n",
    "3. predict & find out clusters of tweets that contain events\n",
    "4. run topic modeling over those clusters to filter event-related tweets & find out the exact event\n",
    "\n",
    "Unsupervised learning\n",
    "1. find out topics with topic modeling\n",
    "2. filter out topics that are close in time and location, related to some entities, etc\n",
    "3. figure out events"
   ]
  },
  {
   "cell_type": "markdown",
   "metadata": {},
   "source": [
    "# Visualization\n",
    "Specify a date, display (location, event/list of tweets) in map? like https://www.youtube.com/watch?v=WGEjI0TvWnk  ?"
   ]
  },
  {
   "cell_type": "code",
   "execution_count": null,
   "metadata": {
    "collapsed": true
   },
   "outputs": [],
   "source": []
  }
 ],
 "metadata": {
  "anaconda-cloud": {},
  "kernelspec": {
   "display_name": "Python [conda env:condavenv]",
   "language": "python",
   "name": "conda-env-condavenv-py"
  },
  "language_info": {
   "codemirror_mode": {
    "name": "ipython",
    "version": 3
   },
   "file_extension": ".py",
   "mimetype": "text/x-python",
   "name": "python",
   "nbconvert_exporter": "python",
   "pygments_lexer": "ipython3",
   "version": "3.5.2"
  }
 },
 "nbformat": 4,
 "nbformat_minor": 1
}
