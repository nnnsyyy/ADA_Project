{
 "cells": [
  {
   "cell_type": "markdown",
   "metadata": {
    "collapsed": true
   },
   "source": [
    "# Event detection from Twitter\n",
    "> The aim of this project is to use geolocated tweets to identify the travelling patterns across the Swiss-border. We will consider the radius of gyration (ROG) to measure the distance convered by the users over a period of time. The reference point for each user will be chosen as the location at which the most frequent geo-located tweets were made. We will query individual tweets to decide the end points for the ROG. This will be categoried by the journeys made between cities and also on a temporal basis to demonstrate the dynamic changes over a period of time."
   ]
  },
  {
   "cell_type": "markdown",
   "metadata": {},
   "source": [
    "# Load Data"
   ]
  },
  {
   "cell_type": "markdown",
   "metadata": {},
   "source": [
    "We start by reading our preprocessed data."
   ]
  },
  {
   "cell_type": "code",
   "execution_count": 1,
   "metadata": {
    "collapsed": true
   },
   "outputs": [],
   "source": [
    "import pandas as pd\n",
    "import numpy as np\n",
    "import csv\n",
    "import pickle\n",
    "import json"
   ]
  },
  {
   "cell_type": "code",
   "execution_count": 2,
   "metadata": {
    "collapsed": false
   },
   "outputs": [],
   "source": [
    "df = pickle.load(open('data/xaa_proc.p', 'rb'))"
   ]
  },
  {
   "cell_type": "code",
   "execution_count": 3,
   "metadata": {
    "collapsed": false,
    "scrolled": true
   },
   "outputs": [
    {
     "data": {
      "text/html": [
       "<div>\n",
       "<table border=\"1\" class=\"dataframe\">\n",
       "  <thead>\n",
       "    <tr style=\"text-align: right;\">\n",
       "      <th></th>\n",
       "      <th>id</th>\n",
       "      <th>userId</th>\n",
       "      <th>text</th>\n",
       "      <th>longitude</th>\n",
       "      <th>latitude</th>\n",
       "      <th>inReplyTo</th>\n",
       "      <th>placeLatitude</th>\n",
       "      <th>placeLongitude</th>\n",
       "      <th>followersCount</th>\n",
       "      <th>friendsCount</th>\n",
       "      <th>statusesCount</th>\n",
       "      <th>userLocation</th>\n",
       "      <th>year</th>\n",
       "      <th>month</th>\n",
       "      <th>day</th>\n",
       "      <th>week_number</th>\n",
       "      <th>hour</th>\n",
       "      <th>city</th>\n",
       "      <th>state</th>\n",
       "      <th>country</th>\n",
       "    </tr>\n",
       "  </thead>\n",
       "  <tbody>\n",
       "    <tr>\n",
       "      <th>551</th>\n",
       "      <td>10231423626</td>\n",
       "      <td>6257282.0</td>\n",
       "      <td>The new apartment is nice, but there is no Wif...</td>\n",
       "      <td>7.58531</td>\n",
       "      <td>47.5455</td>\n",
       "      <td>NaN</td>\n",
       "      <td>47.5367</td>\n",
       "      <td>7.57849</td>\n",
       "      <td>14249</td>\n",
       "      <td>9260.0</td>\n",
       "      <td>19585.0</td>\n",
       "      <td>Potsdam, Germany</td>\n",
       "      <td>2010.0</td>\n",
       "      <td>3.0</td>\n",
       "      <td>9.0</td>\n",
       "      <td>10.0</td>\n",
       "      <td>18.0</td>\n",
       "      <td>Binningen</td>\n",
       "      <td>Basel-Landschaft</td>\n",
       "      <td>ch</td>\n",
       "    </tr>\n",
       "    <tr>\n",
       "      <th>609</th>\n",
       "      <td>10292646240</td>\n",
       "      <td>15602037.0</td>\n",
       "      <td>Is that wet yet solid stuff on my screen suppo...</td>\n",
       "      <td>8.52725</td>\n",
       "      <td>47.3876</td>\n",
       "      <td>NaN</td>\n",
       "      <td>47.3791</td>\n",
       "      <td>8.50021</td>\n",
       "      <td>177</td>\n",
       "      <td>136.0</td>\n",
       "      <td>5167.0</td>\n",
       "      <td>Zürich, Switzerland</td>\n",
       "      <td>2010.0</td>\n",
       "      <td>3.0</td>\n",
       "      <td>10.0</td>\n",
       "      <td>10.0</td>\n",
       "      <td>22.0</td>\n",
       "      <td>Zürich</td>\n",
       "      <td>Zürich</td>\n",
       "      <td>ch</td>\n",
       "    </tr>\n",
       "    <tr>\n",
       "      <th>611</th>\n",
       "      <td>10309829732</td>\n",
       "      <td>625553.0</td>\n",
       "      <td>I'm at DCTI - David Dufour in Geneva http://go...</td>\n",
       "      <td>6.13183</td>\n",
       "      <td>46.2006</td>\n",
       "      <td>NaN</td>\n",
       "      <td>46.1996</td>\n",
       "      <td>6.13011</td>\n",
       "      <td>471</td>\n",
       "      <td>82.0</td>\n",
       "      <td>3363.0</td>\n",
       "      <td>Geneva, Switzerland</td>\n",
       "      <td>2010.0</td>\n",
       "      <td>3.0</td>\n",
       "      <td>11.0</td>\n",
       "      <td>10.0</td>\n",
       "      <td>5.0</td>\n",
       "      <td>Genève</td>\n",
       "      <td>Genève</td>\n",
       "      <td>ch</td>\n",
       "    </tr>\n",
       "    <tr>\n",
       "      <th>612</th>\n",
       "      <td>10310391132</td>\n",
       "      <td>17341045.0</td>\n",
       "      <td>God morgon! :-)</td>\n",
       "      <td>7.44235</td>\n",
       "      <td>46.8957</td>\n",
       "      <td>NaN</td>\n",
       "      <td>46.9214</td>\n",
       "      <td>7.38855</td>\n",
       "      <td>586</td>\n",
       "      <td>508.0</td>\n",
       "      <td>9016.0</td>\n",
       "      <td>Bern, Switzerland</td>\n",
       "      <td>2010.0</td>\n",
       "      <td>3.0</td>\n",
       "      <td>11.0</td>\n",
       "      <td>10.0</td>\n",
       "      <td>6.0</td>\n",
       "      <td>Köniz</td>\n",
       "      <td>Bern - Berne</td>\n",
       "      <td>ch</td>\n",
       "    </tr>\n",
       "    <tr>\n",
       "      <th>618</th>\n",
       "      <td>10311568050</td>\n",
       "      <td>634553.0</td>\n",
       "      <td>At this very minute, the sun is pink.</td>\n",
       "      <td>6.19900</td>\n",
       "      <td>46.2043</td>\n",
       "      <td>NaN</td>\n",
       "      <td>46.1938</td>\n",
       "      <td>6.15415</td>\n",
       "      <td>2230</td>\n",
       "      <td>387.0</td>\n",
       "      <td>10605.0</td>\n",
       "      <td>Geneva, Switzerland</td>\n",
       "      <td>2010.0</td>\n",
       "      <td>3.0</td>\n",
       "      <td>11.0</td>\n",
       "      <td>10.0</td>\n",
       "      <td>7.0</td>\n",
       "      <td>Genève</td>\n",
       "      <td>Genève</td>\n",
       "      <td>ch</td>\n",
       "    </tr>\n",
       "  </tbody>\n",
       "</table>\n",
       "</div>"
      ],
      "text/plain": [
       "              id      userId  \\\n",
       "551  10231423626   6257282.0   \n",
       "609  10292646240  15602037.0   \n",
       "611  10309829732    625553.0   \n",
       "612  10310391132  17341045.0   \n",
       "618  10311568050    634553.0   \n",
       "\n",
       "                                                  text  longitude  latitude  \\\n",
       "551  The new apartment is nice, but there is no Wif...    7.58531   47.5455   \n",
       "609  Is that wet yet solid stuff on my screen suppo...    8.52725   47.3876   \n",
       "611  I'm at DCTI - David Dufour in Geneva http://go...    6.13183   46.2006   \n",
       "612                                    God morgon! :-)    7.44235   46.8957   \n",
       "618              At this very minute, the sun is pink.    6.19900   46.2043   \n",
       "\n",
       "     inReplyTo  placeLatitude  placeLongitude followersCount  friendsCount  \\\n",
       "551        NaN        47.5367         7.57849          14249        9260.0   \n",
       "609        NaN        47.3791         8.50021            177         136.0   \n",
       "611        NaN        46.1996         6.13011            471          82.0   \n",
       "612        NaN        46.9214         7.38855            586         508.0   \n",
       "618        NaN        46.1938         6.15415           2230         387.0   \n",
       "\n",
       "     statusesCount         userLocation    year  month   day  week_number  \\\n",
       "551        19585.0     Potsdam, Germany  2010.0    3.0   9.0         10.0   \n",
       "609         5167.0  Zürich, Switzerland  2010.0    3.0  10.0         10.0   \n",
       "611         3363.0  Geneva, Switzerland  2010.0    3.0  11.0         10.0   \n",
       "612         9016.0    Bern, Switzerland  2010.0    3.0  11.0         10.0   \n",
       "618        10605.0  Geneva, Switzerland  2010.0    3.0  11.0         10.0   \n",
       "\n",
       "     hour       city             state country  \n",
       "551  18.0  Binningen  Basel-Landschaft      ch  \n",
       "609  22.0     Zürich            Zürich      ch  \n",
       "611   5.0     Genève            Genève      ch  \n",
       "612   6.0      Köniz      Bern - Berne      ch  \n",
       "618   7.0     Genève            Genève      ch  "
      ]
     },
     "execution_count": 3,
     "metadata": {},
     "output_type": "execute_result"
    }
   ],
   "source": [
    "df.head()"
   ]
  },
  {
   "cell_type": "markdown",
   "metadata": {},
   "source": [
    "# Preprocess data"
   ]
  },
  {
   "cell_type": "markdown",
   "metadata": {},
   "source": [
    "## Drop missing data"
   ]
  },
  {
   "cell_type": "markdown",
   "metadata": {},
   "source": [
    "Geo-location and content of every tweet is necessary for event detection. Hence we drop data with missing values in 'text', 'placeLongitude' or 'placeLatitude'."
   ]
  },
  {
   "cell_type": "code",
   "execution_count": 4,
   "metadata": {
    "collapsed": false,
    "scrolled": true
   },
   "outputs": [
    {
     "data": {
      "text/plain": [
       "(22611, 20)"
      ]
     },
     "execution_count": 4,
     "metadata": {},
     "output_type": "execute_result"
    }
   ],
   "source": [
    "df.shape"
   ]
  },
  {
   "cell_type": "code",
   "execution_count": 5,
   "metadata": {
    "collapsed": true
   },
   "outputs": [],
   "source": [
    "df.dropna(subset=['text', 'placeLongitude', 'placeLatitude'], inplace=True)"
   ]
  },
  {
   "cell_type": "code",
   "execution_count": 6,
   "metadata": {
    "collapsed": false
   },
   "outputs": [
    {
     "data": {
      "text/plain": [
       "(22611, 20)"
      ]
     },
     "execution_count": 6,
     "metadata": {},
     "output_type": "execute_result"
    }
   ],
   "source": [
    "df.shape"
   ]
  },
  {
   "cell_type": "markdown",
   "metadata": {},
   "source": [
    "## Handle longitude and latitude"
   ]
  },
  {
   "cell_type": "markdown",
   "metadata": {},
   "source": [
    "We lower the accuracy of longitude and latitude in order to get clusters."
   ]
  },
  {
   "cell_type": "code",
   "execution_count": 7,
   "metadata": {
    "collapsed": false
   },
   "outputs": [],
   "source": [
    "def truncate_latitude(row):\n",
    "    return round(row.placeLatitude, 3)\n",
    "\n",
    "df['truncatedLatitude'] = df.apply(truncate_latitude, axis=1)"
   ]
  },
  {
   "cell_type": "code",
   "execution_count": 8,
   "metadata": {
    "collapsed": false
   },
   "outputs": [],
   "source": [
    "def truncate_longitude(row):\n",
    "    return round(row.placeLongitude, 3)\n",
    "\n",
    "df['truncatedLongitude'] = df.apply(truncate_longitude, axis=1)"
   ]
  },
  {
   "cell_type": "code",
   "execution_count": 9,
   "metadata": {
    "collapsed": false
   },
   "outputs": [],
   "source": [
    "df = df[['id', 'userId', 'text', 'truncatedLongitude', 'truncatedLatitude', 'city', 'year', 'month', 'day']]"
   ]
  },
  {
   "cell_type": "markdown",
   "metadata": {},
   "source": [
    "# Event detection"
   ]
  },
  {
   "cell_type": "markdown",
   "metadata": {},
   "source": [
    "We define an event by one hashtag mentioned in no less than 5 tweets posted on one day, in a certain area(with the same truncatedLongitude and truncatedLatitude). "
   ]
  },
  {
   "cell_type": "markdown",
   "metadata": {},
   "source": [
    "### Extract hashtags"
   ]
  },
  {
   "cell_type": "markdown",
   "metadata": {},
   "source": [
    "We create a new column 'hashtags' which stores the list of hashtags extracted from every tweet."
   ]
  },
  {
   "cell_type": "code",
   "execution_count": 10,
   "metadata": {
    "collapsed": false,
    "scrolled": true
   },
   "outputs": [],
   "source": [
    "def extract_hashtags(row):\n",
    "    text = str(row.text)\n",
    "    hashtags = []\n",
    "    for word in text.split():\n",
    "        if word[0] == '#':\n",
    "            hashtag = word[1:]\n",
    "            hashtags.append(hashtag)\n",
    "\n",
    "    return hashtags\n",
    "\n",
    "df['hashtags'] = df.apply(extract_hashtags, axis=1)"
   ]
  },
  {
   "cell_type": "markdown",
   "metadata": {},
   "source": [
    "### Flatten hashtags to multiple hashtag"
   ]
  },
  {
   "cell_type": "code",
   "execution_count": 11,
   "metadata": {
    "collapsed": false
   },
   "outputs": [],
   "source": [
    "df = df.groupby(['id', 'userId', 'text', 'truncatedLongitude', 'truncatedLatitude', 'city', 'year', 'month', 'day']).hashtags.apply(lambda x: pd.DataFrame(x.values[0])).reset_index()\n",
    "df = df.drop('level_9', axis=1)"
   ]
  },
  {
   "cell_type": "code",
   "execution_count": 12,
   "metadata": {
    "collapsed": false
   },
   "outputs": [],
   "source": [
    "df.rename(columns={0:'hashtag'}, inplace=True)"
   ]
  },
  {
   "cell_type": "code",
   "execution_count": 13,
   "metadata": {
    "collapsed": false
   },
   "outputs": [
    {
     "data": {
      "text/plain": [
       "(6570, 10)"
      ]
     },
     "execution_count": 13,
     "metadata": {},
     "output_type": "execute_result"
    }
   ],
   "source": [
    "df.shape"
   ]
  },
  {
   "cell_type": "code",
   "execution_count": 14,
   "metadata": {
    "collapsed": false
   },
   "outputs": [
    {
     "data": {
      "text/html": [
       "<div>\n",
       "<table border=\"1\" class=\"dataframe\">\n",
       "  <thead>\n",
       "    <tr style=\"text-align: right;\">\n",
       "      <th></th>\n",
       "      <th>id</th>\n",
       "      <th>userId</th>\n",
       "      <th>text</th>\n",
       "      <th>truncatedLongitude</th>\n",
       "      <th>truncatedLatitude</th>\n",
       "      <th>city</th>\n",
       "      <th>year</th>\n",
       "      <th>month</th>\n",
       "      <th>day</th>\n",
       "      <th>hashtag</th>\n",
       "    </tr>\n",
       "  </thead>\n",
       "  <tbody>\n",
       "    <tr>\n",
       "      <th>0</th>\n",
       "      <td>10002265813295104</td>\n",
       "      <td>16272692.0</td>\n",
       "      <td>#Amazon #Boykott wäre jetzt eine vernünftige S...</td>\n",
       "      <td>9.637</td>\n",
       "      <td>47.561</td>\n",
       "      <td>Wasserburg (Bodensee)</td>\n",
       "      <td>2010.0</td>\n",
       "      <td>12.0</td>\n",
       "      <td>1.0</td>\n",
       "      <td>Amazon</td>\n",
       "    </tr>\n",
       "    <tr>\n",
       "      <th>1</th>\n",
       "      <td>10002265813295104</td>\n",
       "      <td>16272692.0</td>\n",
       "      <td>#Amazon #Boykott wäre jetzt eine vernünftige S...</td>\n",
       "      <td>9.637</td>\n",
       "      <td>47.561</td>\n",
       "      <td>Wasserburg (Bodensee)</td>\n",
       "      <td>2010.0</td>\n",
       "      <td>12.0</td>\n",
       "      <td>1.0</td>\n",
       "      <td>Boykott</td>\n",
       "    </tr>\n",
       "    <tr>\n",
       "      <th>2</th>\n",
       "      <td>10002265813295104</td>\n",
       "      <td>16272692.0</td>\n",
       "      <td>#Amazon #Boykott wäre jetzt eine vernünftige S...</td>\n",
       "      <td>9.637</td>\n",
       "      <td>47.561</td>\n",
       "      <td>Wasserburg (Bodensee)</td>\n",
       "      <td>2010.0</td>\n",
       "      <td>12.0</td>\n",
       "      <td>1.0</td>\n",
       "      <td>Wikileaks</td>\n",
       "    </tr>\n",
       "    <tr>\n",
       "      <th>3</th>\n",
       "      <td>10002504087502848</td>\n",
       "      <td>17366149.0</td>\n",
       "      <td>@barracuda00795 sollte sicher kein Problem wer...</td>\n",
       "      <td>7.437</td>\n",
       "      <td>46.945</td>\n",
       "      <td>Bern</td>\n",
       "      <td>2010.0</td>\n",
       "      <td>12.0</td>\n",
       "      <td>1.0</td>\n",
       "      <td>flug</td>\n",
       "    </tr>\n",
       "    <tr>\n",
       "      <th>4</th>\n",
       "      <td>10002862222344192</td>\n",
       "      <td>17366149.0</td>\n",
       "      <td>@RahelRadisli willst du das sicher? ;-) #schne...</td>\n",
       "      <td>7.437</td>\n",
       "      <td>46.945</td>\n",
       "      <td>Bern</td>\n",
       "      <td>2010.0</td>\n",
       "      <td>12.0</td>\n",
       "      <td>1.0</td>\n",
       "      <td>schnee</td>\n",
       "    </tr>\n",
       "  </tbody>\n",
       "</table>\n",
       "</div>"
      ],
      "text/plain": [
       "                  id      userId  \\\n",
       "0  10002265813295104  16272692.0   \n",
       "1  10002265813295104  16272692.0   \n",
       "2  10002265813295104  16272692.0   \n",
       "3  10002504087502848  17366149.0   \n",
       "4  10002862222344192  17366149.0   \n",
       "\n",
       "                                                text  truncatedLongitude  \\\n",
       "0  #Amazon #Boykott wäre jetzt eine vernünftige S...               9.637   \n",
       "1  #Amazon #Boykott wäre jetzt eine vernünftige S...               9.637   \n",
       "2  #Amazon #Boykott wäre jetzt eine vernünftige S...               9.637   \n",
       "3  @barracuda00795 sollte sicher kein Problem wer...               7.437   \n",
       "4  @RahelRadisli willst du das sicher? ;-) #schne...               7.437   \n",
       "\n",
       "   truncatedLatitude                   city    year  month  day    hashtag  \n",
       "0             47.561  Wasserburg (Bodensee)  2010.0   12.0  1.0     Amazon  \n",
       "1             47.561  Wasserburg (Bodensee)  2010.0   12.0  1.0    Boykott  \n",
       "2             47.561  Wasserburg (Bodensee)  2010.0   12.0  1.0  Wikileaks  \n",
       "3             46.945                   Bern  2010.0   12.0  1.0       flug  \n",
       "4             46.945                   Bern  2010.0   12.0  1.0     schnee  "
      ]
     },
     "execution_count": 14,
     "metadata": {},
     "output_type": "execute_result"
    }
   ],
   "source": [
    "df.head()"
   ]
  },
  {
   "cell_type": "markdown",
   "metadata": {},
   "source": [
    "### Detect events in cluster"
   ]
  },
  {
   "cell_type": "code",
   "execution_count": 15,
   "metadata": {
    "collapsed": false
   },
   "outputs": [],
   "source": [
    "events = df.groupby(['year', 'month', 'day', 'city', 'truncatedLongitude', 'truncatedLatitude', 'hashtag'])[['id']].count()\n",
    "events.rename(columns={'id':'tweetCount'}, inplace=True)\n",
    "events.reset_index(inplace=True)"
   ]
  },
  {
   "cell_type": "code",
   "execution_count": 16,
   "metadata": {
    "collapsed": false,
    "scrolled": true
   },
   "outputs": [
    {
     "data": {
      "text/plain": [
       "(5887, 8)"
      ]
     },
     "execution_count": 16,
     "metadata": {},
     "output_type": "execute_result"
    }
   ],
   "source": [
    "events.shape"
   ]
  },
  {
   "cell_type": "code",
   "execution_count": 17,
   "metadata": {
    "collapsed": false
   },
   "outputs": [
    {
     "data": {
      "text/html": [
       "<div>\n",
       "<table border=\"1\" class=\"dataframe\">\n",
       "  <thead>\n",
       "    <tr style=\"text-align: right;\">\n",
       "      <th></th>\n",
       "      <th>year</th>\n",
       "      <th>month</th>\n",
       "      <th>day</th>\n",
       "      <th>city</th>\n",
       "      <th>truncatedLongitude</th>\n",
       "      <th>truncatedLatitude</th>\n",
       "      <th>hashtag</th>\n",
       "      <th>tweetCount</th>\n",
       "    </tr>\n",
       "  </thead>\n",
       "  <tbody>\n",
       "    <tr>\n",
       "      <th>0</th>\n",
       "      <td>2010.0</td>\n",
       "      <td>3.0</td>\n",
       "      <td>12.0</td>\n",
       "      <td>Zürich</td>\n",
       "      <td>8.500</td>\n",
       "      <td>47.379</td>\n",
       "      <td>bloFo</td>\n",
       "      <td>1</td>\n",
       "    </tr>\n",
       "    <tr>\n",
       "      <th>1</th>\n",
       "      <td>2010.0</td>\n",
       "      <td>3.0</td>\n",
       "      <td>12.0</td>\n",
       "      <td>Zürich</td>\n",
       "      <td>8.544</td>\n",
       "      <td>47.364</td>\n",
       "      <td>hinweisebitte</td>\n",
       "      <td>1</td>\n",
       "    </tr>\n",
       "    <tr>\n",
       "      <th>2</th>\n",
       "      <td>2010.0</td>\n",
       "      <td>3.0</td>\n",
       "      <td>12.0</td>\n",
       "      <td>Zürich</td>\n",
       "      <td>8.544</td>\n",
       "      <td>47.364</td>\n",
       "      <td>stadelhofen</td>\n",
       "      <td>1</td>\n",
       "    </tr>\n",
       "    <tr>\n",
       "      <th>3</th>\n",
       "      <td>2010.0</td>\n",
       "      <td>3.0</td>\n",
       "      <td>13.0</td>\n",
       "      <td>Genève</td>\n",
       "      <td>6.134</td>\n",
       "      <td>46.201</td>\n",
       "      <td>fb</td>\n",
       "      <td>1</td>\n",
       "    </tr>\n",
       "    <tr>\n",
       "      <th>4</th>\n",
       "      <td>2010.0</td>\n",
       "      <td>3.0</td>\n",
       "      <td>13.0</td>\n",
       "      <td>Genève</td>\n",
       "      <td>6.140</td>\n",
       "      <td>46.200</td>\n",
       "      <td>fb</td>\n",
       "      <td>1</td>\n",
       "    </tr>\n",
       "  </tbody>\n",
       "</table>\n",
       "</div>"
      ],
      "text/plain": [
       "     year  month   day    city  truncatedLongitude  truncatedLatitude  \\\n",
       "0  2010.0    3.0  12.0  Zürich               8.500             47.379   \n",
       "1  2010.0    3.0  12.0  Zürich               8.544             47.364   \n",
       "2  2010.0    3.0  12.0  Zürich               8.544             47.364   \n",
       "3  2010.0    3.0  13.0  Genève               6.134             46.201   \n",
       "4  2010.0    3.0  13.0  Genève               6.140             46.200   \n",
       "\n",
       "         hashtag  tweetCount  \n",
       "0          bloFo           1  \n",
       "1  hinweisebitte           1  \n",
       "2    stadelhofen           1  \n",
       "3             fb           1  \n",
       "4             fb           1  "
      ]
     },
     "execution_count": 17,
     "metadata": {},
     "output_type": "execute_result"
    }
   ],
   "source": [
    "events.head()"
   ]
  },
  {
   "cell_type": "code",
   "execution_count": 18,
   "metadata": {
    "collapsed": false
   },
   "outputs": [
    {
     "data": {
      "text/plain": [
       "(29, 8)"
      ]
     },
     "execution_count": 18,
     "metadata": {},
     "output_type": "execute_result"
    }
   ],
   "source": [
    "events = events[events['tweetCount'] >= 5]\n",
    "events.shape"
   ]
  },
  {
   "cell_type": "code",
   "execution_count": 19,
   "metadata": {
    "collapsed": false
   },
   "outputs": [
    {
     "data": {
      "text/html": [
       "<div>\n",
       "<table border=\"1\" class=\"dataframe\">\n",
       "  <thead>\n",
       "    <tr style=\"text-align: right;\">\n",
       "      <th></th>\n",
       "      <th>year</th>\n",
       "      <th>month</th>\n",
       "      <th>day</th>\n",
       "      <th>city</th>\n",
       "      <th>truncatedLongitude</th>\n",
       "      <th>truncatedLatitude</th>\n",
       "      <th>hashtag</th>\n",
       "      <th>tweetCount</th>\n",
       "    </tr>\n",
       "  </thead>\n",
       "  <tbody>\n",
       "    <tr>\n",
       "      <th>38</th>\n",
       "      <td>2010.0</td>\n",
       "      <td>3.0</td>\n",
       "      <td>25.0</td>\n",
       "      <td>Zürich</td>\n",
       "      <td>8.523</td>\n",
       "      <td>47.352</td>\n",
       "      <td>bosw</td>\n",
       "      <td>8</td>\n",
       "    </tr>\n",
       "    <tr>\n",
       "      <th>109</th>\n",
       "      <td>2010.0</td>\n",
       "      <td>4.0</td>\n",
       "      <td>19.0</td>\n",
       "      <td>Zürich</td>\n",
       "      <td>8.537</td>\n",
       "      <td>47.377</td>\n",
       "      <td>Sechselaeuten</td>\n",
       "      <td>9</td>\n",
       "    </tr>\n",
       "    <tr>\n",
       "      <th>285</th>\n",
       "      <td>2010.0</td>\n",
       "      <td>6.0</td>\n",
       "      <td>2.0</td>\n",
       "      <td>Bern</td>\n",
       "      <td>7.395</td>\n",
       "      <td>46.954</td>\n",
       "      <td>muse</td>\n",
       "      <td>7</td>\n",
       "    </tr>\n",
       "    <tr>\n",
       "      <th>304</th>\n",
       "      <td>2010.0</td>\n",
       "      <td>6.0</td>\n",
       "      <td>3.0</td>\n",
       "      <td>Zürich</td>\n",
       "      <td>8.537</td>\n",
       "      <td>47.377</td>\n",
       "      <td>twitref</td>\n",
       "      <td>6</td>\n",
       "    </tr>\n",
       "    <tr>\n",
       "      <th>348</th>\n",
       "      <td>2010.0</td>\n",
       "      <td>6.0</td>\n",
       "      <td>12.0</td>\n",
       "      <td>Zürich</td>\n",
       "      <td>8.537</td>\n",
       "      <td>47.377</td>\n",
       "      <td>mcw</td>\n",
       "      <td>5</td>\n",
       "    </tr>\n",
       "    <tr>\n",
       "      <th>389</th>\n",
       "      <td>2010.0</td>\n",
       "      <td>6.0</td>\n",
       "      <td>16.0</td>\n",
       "      <td>Zürich</td>\n",
       "      <td>8.537</td>\n",
       "      <td>47.377</td>\n",
       "      <td>sui</td>\n",
       "      <td>5</td>\n",
       "    </tr>\n",
       "    <tr>\n",
       "      <th>412</th>\n",
       "      <td>2010.0</td>\n",
       "      <td>6.0</td>\n",
       "      <td>20.0</td>\n",
       "      <td>Bern</td>\n",
       "      <td>7.395</td>\n",
       "      <td>46.954</td>\n",
       "      <td>NZL</td>\n",
       "      <td>7</td>\n",
       "    </tr>\n",
       "    <tr>\n",
       "      <th>465</th>\n",
       "      <td>2010.0</td>\n",
       "      <td>6.0</td>\n",
       "      <td>24.0</td>\n",
       "      <td>Zürich</td>\n",
       "      <td>8.537</td>\n",
       "      <td>47.377</td>\n",
       "      <td>swisscrmforum</td>\n",
       "      <td>18</td>\n",
       "    </tr>\n",
       "    <tr>\n",
       "      <th>480</th>\n",
       "      <td>2010.0</td>\n",
       "      <td>6.0</td>\n",
       "      <td>26.0</td>\n",
       "      <td>Bern</td>\n",
       "      <td>7.395</td>\n",
       "      <td>46.954</td>\n",
       "      <td>go2leu2606</td>\n",
       "      <td>5</td>\n",
       "    </tr>\n",
       "    <tr>\n",
       "      <th>532</th>\n",
       "      <td>2010.0</td>\n",
       "      <td>7.0</td>\n",
       "      <td>3.0</td>\n",
       "      <td>Zürich</td>\n",
       "      <td>8.537</td>\n",
       "      <td>47.377</td>\n",
       "      <td>twittboat</td>\n",
       "      <td>11</td>\n",
       "    </tr>\n",
       "    <tr>\n",
       "      <th>541</th>\n",
       "      <td>2010.0</td>\n",
       "      <td>7.0</td>\n",
       "      <td>4.0</td>\n",
       "      <td>Zürich</td>\n",
       "      <td>8.537</td>\n",
       "      <td>47.377</td>\n",
       "      <td>twittboat</td>\n",
       "      <td>5</td>\n",
       "    </tr>\n",
       "    <tr>\n",
       "      <th>668</th>\n",
       "      <td>2010.0</td>\n",
       "      <td>7.0</td>\n",
       "      <td>30.0</td>\n",
       "      <td>Zürich</td>\n",
       "      <td>8.537</td>\n",
       "      <td>47.377</td>\n",
       "      <td>iPhone4</td>\n",
       "      <td>6</td>\n",
       "    </tr>\n",
       "    <tr>\n",
       "      <th>899</th>\n",
       "      <td>2010.0</td>\n",
       "      <td>9.0</td>\n",
       "      <td>4.0</td>\n",
       "      <td>Zürich</td>\n",
       "      <td>8.500</td>\n",
       "      <td>47.384</td>\n",
       "      <td>bcch5</td>\n",
       "      <td>5</td>\n",
       "    </tr>\n",
       "    <tr>\n",
       "      <th>1528</th>\n",
       "      <td>2010.0</td>\n",
       "      <td>10.0</td>\n",
       "      <td>7.0</td>\n",
       "      <td>Brig-Glis</td>\n",
       "      <td>7.972</td>\n",
       "      <td>46.289</td>\n",
       "      <td>fb</td>\n",
       "      <td>5</td>\n",
       "    </tr>\n",
       "    <tr>\n",
       "      <th>1819</th>\n",
       "      <td>2010.0</td>\n",
       "      <td>10.0</td>\n",
       "      <td>15.0</td>\n",
       "      <td>Basel</td>\n",
       "      <td>7.585</td>\n",
       "      <td>47.563</td>\n",
       "      <td>Gotthard</td>\n",
       "      <td>5</td>\n",
       "    </tr>\n",
       "    <tr>\n",
       "      <th>1990</th>\n",
       "      <td>2010.0</td>\n",
       "      <td>10.0</td>\n",
       "      <td>20.0</td>\n",
       "      <td>Zürich</td>\n",
       "      <td>8.521</td>\n",
       "      <td>47.379</td>\n",
       "      <td>tedxzh</td>\n",
       "      <td>11</td>\n",
       "    </tr>\n",
       "    <tr>\n",
       "      <th>2452</th>\n",
       "      <td>2010.0</td>\n",
       "      <td>11.0</td>\n",
       "      <td>3.0</td>\n",
       "      <td>Zürich</td>\n",
       "      <td>8.546</td>\n",
       "      <td>47.346</td>\n",
       "      <td>smgzh</td>\n",
       "      <td>9</td>\n",
       "    </tr>\n",
       "    <tr>\n",
       "      <th>2845</th>\n",
       "      <td>2010.0</td>\n",
       "      <td>11.0</td>\n",
       "      <td>19.0</td>\n",
       "      <td>Bonstetten</td>\n",
       "      <td>8.466</td>\n",
       "      <td>47.316</td>\n",
       "      <td>fb</td>\n",
       "      <td>7</td>\n",
       "    </tr>\n",
       "    <tr>\n",
       "      <th>2846</th>\n",
       "      <td>2010.0</td>\n",
       "      <td>11.0</td>\n",
       "      <td>19.0</td>\n",
       "      <td>Bonstetten</td>\n",
       "      <td>8.466</td>\n",
       "      <td>47.316</td>\n",
       "      <td>manneChoched</td>\n",
       "      <td>6</td>\n",
       "    </tr>\n",
       "    <tr>\n",
       "      <th>3219</th>\n",
       "      <td>2010.0</td>\n",
       "      <td>11.0</td>\n",
       "      <td>30.0</td>\n",
       "      <td>Wasserburg (Bodensee)</td>\n",
       "      <td>9.637</td>\n",
       "      <td>47.561</td>\n",
       "      <td>JMStV</td>\n",
       "      <td>10</td>\n",
       "    </tr>\n",
       "    <tr>\n",
       "      <th>3253</th>\n",
       "      <td>2010.0</td>\n",
       "      <td>12.0</td>\n",
       "      <td>1.0</td>\n",
       "      <td>Wasserburg (Bodensee)</td>\n",
       "      <td>9.637</td>\n",
       "      <td>47.561</td>\n",
       "      <td>JMStV</td>\n",
       "      <td>5</td>\n",
       "    </tr>\n",
       "    <tr>\n",
       "      <th>3328</th>\n",
       "      <td>2010.0</td>\n",
       "      <td>12.0</td>\n",
       "      <td>3.0</td>\n",
       "      <td>Wasserburg (Bodensee)</td>\n",
       "      <td>9.637</td>\n",
       "      <td>47.561</td>\n",
       "      <td>ff</td>\n",
       "      <td>5</td>\n",
       "    </tr>\n",
       "    <tr>\n",
       "      <th>3413</th>\n",
       "      <td>2010.0</td>\n",
       "      <td>12.0</td>\n",
       "      <td>6.0</td>\n",
       "      <td>Bern</td>\n",
       "      <td>7.459</td>\n",
       "      <td>46.952</td>\n",
       "      <td>onerepulic</td>\n",
       "      <td>6</td>\n",
       "    </tr>\n",
       "    <tr>\n",
       "      <th>3529</th>\n",
       "      <td>2010.0</td>\n",
       "      <td>12.0</td>\n",
       "      <td>8.0</td>\n",
       "      <td>Zürich</td>\n",
       "      <td>8.523</td>\n",
       "      <td>47.352</td>\n",
       "      <td>IABC</td>\n",
       "      <td>7</td>\n",
       "    </tr>\n",
       "    <tr>\n",
       "      <th>3530</th>\n",
       "      <td>2010.0</td>\n",
       "      <td>12.0</td>\n",
       "      <td>8.0</td>\n",
       "      <td>Zürich</td>\n",
       "      <td>8.523</td>\n",
       "      <td>47.352</td>\n",
       "      <td>Switzerland</td>\n",
       "      <td>7</td>\n",
       "    </tr>\n",
       "    <tr>\n",
       "      <th>5538</th>\n",
       "      <td>2011.0</td>\n",
       "      <td>1.0</td>\n",
       "      <td>26.0</td>\n",
       "      <td>Davos</td>\n",
       "      <td>9.818</td>\n",
       "      <td>46.765</td>\n",
       "      <td>WEF</td>\n",
       "      <td>6</td>\n",
       "    </tr>\n",
       "    <tr>\n",
       "      <th>5579</th>\n",
       "      <td>2011.0</td>\n",
       "      <td>1.0</td>\n",
       "      <td>26.0</td>\n",
       "      <td>Rüschlikon</td>\n",
       "      <td>8.552</td>\n",
       "      <td>47.306</td>\n",
       "      <td>gdi</td>\n",
       "      <td>14</td>\n",
       "    </tr>\n",
       "    <tr>\n",
       "      <th>5769</th>\n",
       "      <td>2011.0</td>\n",
       "      <td>1.0</td>\n",
       "      <td>30.0</td>\n",
       "      <td>Dübendorf</td>\n",
       "      <td>8.618</td>\n",
       "      <td>47.388</td>\n",
       "      <td>Egypt</td>\n",
       "      <td>17</td>\n",
       "    </tr>\n",
       "    <tr>\n",
       "      <th>5771</th>\n",
       "      <td>2011.0</td>\n",
       "      <td>1.0</td>\n",
       "      <td>30.0</td>\n",
       "      <td>Dübendorf</td>\n",
       "      <td>8.618</td>\n",
       "      <td>47.388</td>\n",
       "      <td>Jan25</td>\n",
       "      <td>26</td>\n",
       "    </tr>\n",
       "  </tbody>\n",
       "</table>\n",
       "</div>"
      ],
      "text/plain": [
       "        year  month   day                   city  truncatedLongitude  \\\n",
       "38    2010.0    3.0  25.0                 Zürich               8.523   \n",
       "109   2010.0    4.0  19.0                 Zürich               8.537   \n",
       "285   2010.0    6.0   2.0                   Bern               7.395   \n",
       "304   2010.0    6.0   3.0                 Zürich               8.537   \n",
       "348   2010.0    6.0  12.0                 Zürich               8.537   \n",
       "389   2010.0    6.0  16.0                 Zürich               8.537   \n",
       "412   2010.0    6.0  20.0                   Bern               7.395   \n",
       "465   2010.0    6.0  24.0                 Zürich               8.537   \n",
       "480   2010.0    6.0  26.0                   Bern               7.395   \n",
       "532   2010.0    7.0   3.0                 Zürich               8.537   \n",
       "541   2010.0    7.0   4.0                 Zürich               8.537   \n",
       "668   2010.0    7.0  30.0                 Zürich               8.537   \n",
       "899   2010.0    9.0   4.0                 Zürich               8.500   \n",
       "1528  2010.0   10.0   7.0              Brig-Glis               7.972   \n",
       "1819  2010.0   10.0  15.0                  Basel               7.585   \n",
       "1990  2010.0   10.0  20.0                 Zürich               8.521   \n",
       "2452  2010.0   11.0   3.0                 Zürich               8.546   \n",
       "2845  2010.0   11.0  19.0             Bonstetten               8.466   \n",
       "2846  2010.0   11.0  19.0             Bonstetten               8.466   \n",
       "3219  2010.0   11.0  30.0  Wasserburg (Bodensee)               9.637   \n",
       "3253  2010.0   12.0   1.0  Wasserburg (Bodensee)               9.637   \n",
       "3328  2010.0   12.0   3.0  Wasserburg (Bodensee)               9.637   \n",
       "3413  2010.0   12.0   6.0                   Bern               7.459   \n",
       "3529  2010.0   12.0   8.0                 Zürich               8.523   \n",
       "3530  2010.0   12.0   8.0                 Zürich               8.523   \n",
       "5538  2011.0    1.0  26.0                  Davos               9.818   \n",
       "5579  2011.0    1.0  26.0             Rüschlikon               8.552   \n",
       "5769  2011.0    1.0  30.0              Dübendorf               8.618   \n",
       "5771  2011.0    1.0  30.0              Dübendorf               8.618   \n",
       "\n",
       "      truncatedLatitude        hashtag  tweetCount  \n",
       "38               47.352           bosw           8  \n",
       "109              47.377  Sechselaeuten           9  \n",
       "285              46.954           muse           7  \n",
       "304              47.377        twitref           6  \n",
       "348              47.377            mcw           5  \n",
       "389              47.377            sui           5  \n",
       "412              46.954            NZL           7  \n",
       "465              47.377  swisscrmforum          18  \n",
       "480              46.954     go2leu2606           5  \n",
       "532              47.377      twittboat          11  \n",
       "541              47.377      twittboat           5  \n",
       "668              47.377        iPhone4           6  \n",
       "899              47.384          bcch5           5  \n",
       "1528             46.289             fb           5  \n",
       "1819             47.563       Gotthard           5  \n",
       "1990             47.379         tedxzh          11  \n",
       "2452             47.346          smgzh           9  \n",
       "2845             47.316             fb           7  \n",
       "2846             47.316   manneChoched           6  \n",
       "3219             47.561          JMStV          10  \n",
       "3253             47.561          JMStV           5  \n",
       "3328             47.561             ff           5  \n",
       "3413             46.952     onerepulic           6  \n",
       "3529             47.352           IABC           7  \n",
       "3530             47.352    Switzerland           7  \n",
       "5538             46.765            WEF           6  \n",
       "5579             47.306            gdi          14  \n",
       "5769             47.388          Egypt          17  \n",
       "5771             47.388          Jan25          26  "
      ]
     },
     "execution_count": 19,
     "metadata": {},
     "output_type": "execute_result"
    }
   ],
   "source": [
    "events"
   ]
  },
  {
   "cell_type": "markdown",
   "metadata": {},
   "source": [
    "# Visualization\n",
    "We build a webpage for visualizing detected events at nnnsyyy.github.io/ADA_Project/\n",
    "\n",
    "To do so, first, we need to generate a json file which is going to be read by the events."
   ]
  },
  {
   "cell_type": "code",
   "execution_count": 20,
   "metadata": {
    "collapsed": true
   },
   "outputs": [],
   "source": [
    "def create_item(start, end, latitude, longitude, text):\n",
    "    item = {\"type\":\"Feature\",\"properties\":{\"start\":start, \"end\":end, \"text\":text},\"geometry\":{\"type\":\"Point\", \"coordinates\":[latitude, longitude]}}\n",
    "    return item"
   ]
  },
  {
   "cell_type": "code",
   "execution_count": 21,
   "metadata": {
    "collapsed": false
   },
   "outputs": [
    {
     "name": "stdout",
     "output_type": "stream",
     "text": [
      "\n"
     ]
    }
   ],
   "source": [
    "items = []\n",
    "\n",
    "def gen_data(x):\n",
    "    date = \"{}-{}-{}\".format(int(x.year), int(x.month), int(x.day))\n",
    "    item = create_item(date, date, x.truncatedLongitude, x.truncatedLatitude, '')\n",
    "    items.append(item)\n",
    "\n",
    "events.apply(gen_data, axis=1)\n",
    "print()"
   ]
  },
  {
   "cell_type": "code",
   "execution_count": 22,
   "metadata": {
    "collapsed": false
   },
   "outputs": [
    {
     "data": {
      "text/plain": [
       "29"
      ]
     },
     "execution_count": 22,
     "metadata": {},
     "output_type": "execute_result"
    }
   ],
   "source": [
    "len(items)"
   ]
  },
  {
   "cell_type": "code",
   "execution_count": 23,
   "metadata": {
    "collapsed": true
   },
   "outputs": [],
   "source": [
    "f = open(\"events.json\", \"w\")"
   ]
  },
  {
   "cell_type": "code",
   "execution_count": 24,
   "metadata": {
    "collapsed": false
   },
   "outputs": [
    {
     "data": {
      "text/plain": [
       "50"
      ]
     },
     "execution_count": 24,
     "metadata": {},
     "output_type": "execute_result"
    }
   ],
   "source": [
    "f.write('onLoadData({\"type\":\"FeatureCollection\",\"features\":')"
   ]
  },
  {
   "cell_type": "code",
   "execution_count": 25,
   "metadata": {
    "collapsed": false
   },
   "outputs": [],
   "source": [
    "json.dump(items, f)"
   ]
  },
  {
   "cell_type": "code",
   "execution_count": 26,
   "metadata": {
    "collapsed": true
   },
   "outputs": [],
   "source": [
    "f.write('});');"
   ]
  },
  {
   "cell_type": "code",
   "execution_count": 27,
   "metadata": {
    "collapsed": true
   },
   "outputs": [],
   "source": [
    "f.close();"
   ]
  }
 ],
 "metadata": {
  "anaconda-cloud": {},
  "kernelspec": {
   "display_name": "Python [conda env:condavenv]",
   "language": "python",
   "name": "conda-env-condavenv-py"
  },
  "language_info": {
   "codemirror_mode": {
    "name": "ipython",
    "version": 3
   },
   "file_extension": ".py",
   "mimetype": "text/x-python",
   "name": "python",
   "nbconvert_exporter": "python",
   "pygments_lexer": "ipython3",
   "version": "3.5.2"
  }
 },
 "nbformat": 4,
 "nbformat_minor": 1
}
