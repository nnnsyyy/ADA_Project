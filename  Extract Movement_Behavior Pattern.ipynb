{
 "cells": [
  {
   "cell_type": "markdown",
   "metadata": {},
   "source": [
    "# Extract Movement/Behavior Pattern"
   ]
  },
  {
   "cell_type": "markdown",
   "metadata": {},
   "source": [
    "## According to references of tweet's related analysis, there are some useful methods to learn user behavior or mobility pattern:\n",
    "\n",
    "- Text-based/Content-based analysis [less useful]\n",
    "- Geo-located information analysis\n",
    "- Hybrid analysis [more practical]\n",
    "- Others \n",
    "\n",
    "## Relative Data\n",
    "Based on what is included in the raw data, some relevant messages we can get:\n",
    "\n",
    "- Time: year, (season,) month, week, day, hour(day/night)...\n",
    "- Location: longtitude/latitude, user location(country/institude/unknown...) -> geopy -> cities in CH // cantons\n",
    "- Content: (language translation?) topic/event -> behavior/event inference\n",
    "- Counts(weights of effect): follower/friend/number of status (Machine Learning), 'Many tweets can include many topics; therefore, the ratio for total tweets is more important than the frequency.'[01]\n",
    "- Road/Transport data: transport network, fee..."
   ]
  },
  {
   "cell_type": "markdown",
   "metadata": {},
   "source": [
    "## Content/Text-based\n",
    "\n",
    "[02] Geo-locating user(city-level)\n",
    "\n",
    "* purely on content;\n",
    "* classification component: identify words in tweet;\n",
    "* location estimate: lattice-based neighborhood smoothing model\n",
    "\n",
    "\n",
    "[03] Text-based geo prediction\n",
    "\n",
    "Integrated geolocation prediction framework & Factors impact on prediction accuracy\n",
    "\n",
    "* Feature selection methods for \"location indicative words\"\n",
    "* Impact of non-geotagged tweet, language and user-declared metadata\n",
    "* Impact of temporal variance on model genelisation & user difference"
   ]
  },
  {
   "cell_type": "markdown",
   "metadata": {},
   "source": [
    "## Geo-located\n",
    "\n",
    "[06] infer residence and mobility\n",
    "\n",
    "Anchor-poing clustering and classification\n",
    "- dominant residential cluster(rc): rc with highest number of tweets -> usual residence\n",
    "- aggregate the total number of tweets by local authority level we are interested -> may not accurate enough\n",
    "- DBSCAN: 'density-reachability' with 2 paras distance(i, for finding points in the same cluster, small enough) and min number of points(minpts, for ensure the valid cluster or noise)\n",
    "no need to predefine the number of cluster, 3 kinds of point(core, density reachable, noise), not cluster all available points(filter infrequent locations)\n",
    "- Analysis: geolocated penetration rate\n",
    "- short/long-term cluster: (tourist/short-term migrant) e.g. monthly pattern of net flows, student mobility(holiday...)"
   ]
  },
  {
   "cell_type": "markdown",
   "metadata": {},
   "source": [
    "\n",
    "\n",
    "## Hybrid analysis\n",
    "\n",
    "[01] Behavior analysis (tweet data & geo-tag)\n",
    "\n",
    "label data (small-size supervised learning, manually) -> SVM for top unique words\n",
    "\n",
    "- tweet data: Learn (return-home) behavior by using SVM; verbal explanatory factor(distance, time of travel mode(train/bus/on foot, some are out of work in specific time period)...); \n",
    "- geo-tag: Non-verbal explanatory factor; \n",
    "- estimate behavior: combine 1) and 2), using a dicrete choice model(MNL, multinomial logic model)\n",
    "\n",
    "[04] Extract relevant knowledge\n",
    "\n",
    "extract representative terms \n",
    "\n",
    "- model with 3 dimension: word, location and time\n",
    "- TD-IDF measures weighting terms -> Generalized TF-INF\n",
    "\n",
    "spatio-temporal data mining appreaches (pattern mining): group of objects staying together during a period of time.\n",
    "\n",
    "- group of moving objects O, timestamps set T (within objects stay together)\n",
    "- $\\epsilon$: min number of objects; $min_t$: min number of timestamps\n",
    "- particular pattern: swarm, convoy, GET_MOVE, gradual pattern.\n",
    "- all with same pre-processing: cluster with DBSCAN, for grouping objects closed to the same location"
   ]
  },
  {
   "cell_type": "markdown",
   "metadata": {},
   "source": [
    "## Others\n",
    "\n",
    "[05] Tweet Data Analytics(guidance)\n",
    "\n",
    "In chapter 4 - Analyzing Twitter Data\n",
    "- Retweet network(Streaming API): information of the way users communicate and how they value each other\n",
    "- Text Measures: finding topics with latent Dirichlet allocation(LDA)\n",
    "\n",
    "In chapter 5 - Visualizing Twitter Data\n",
    "- Visualizing Geo-Spatial information: heatmaps with Kernel Density Estimation(KDE)\n"
   ]
  },
  {
   "cell_type": "code",
   "execution_count": null,
   "metadata": {
    "collapsed": true
   },
   "outputs": [],
   "source": []
  },
  {
   "cell_type": "code",
   "execution_count": null,
   "metadata": {
    "collapsed": true
   },
   "outputs": [],
   "source": []
  },
  {
   "cell_type": "code",
   "execution_count": null,
   "metadata": {
    "collapsed": true
   },
   "outputs": [],
   "source": []
  },
  {
   "cell_type": "code",
   "execution_count": null,
   "metadata": {
    "collapsed": true
   },
   "outputs": [],
   "source": []
  }
 ],
 "metadata": {
  "anaconda-cloud": {},
  "kernelspec": {
   "display_name": "Python [conda root]",
   "language": "python",
   "name": "conda-root-py"
  },
  "language_info": {
   "codemirror_mode": {
    "name": "ipython",
    "version": 3
   },
   "file_extension": ".py",
   "mimetype": "text/x-python",
   "name": "python",
   "nbconvert_exporter": "python",
   "pygments_lexer": "ipython3",
   "version": "3.5.2"
  },
  "latex_envs": {
   "LaTeX_envs_menu_present": true,
   "bibliofile": "biblio.bib",
   "cite_by": "apalike",
   "current_citInitial": 1,
   "eqLabelWithNumbers": true,
   "eqNumInitial": 1,
   "labels_anchors": false,
   "latex_user_defs": false,
   "report_style_numbering": false,
   "user_envs_cfg": false
  },
  "toc": {
   "colors": {
    "hover_highlight": "#DAA520",
    "running_highlight": "#FF0000",
    "selected_highlight": "#FFD700"
   },
   "nav_menu": {
    "height": "162px",
    "width": "252px"
   },
   "navigate_menu": true,
   "number_sections": true,
   "sideBar": true,
   "threshold": 4,
   "toc_cell": false,
   "toc_section_display": "block",
   "toc_window_display": false
  }
 },
 "nbformat": 4,
 "nbformat_minor": 1
}
